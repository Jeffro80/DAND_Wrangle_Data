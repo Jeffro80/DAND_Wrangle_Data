{
 "cells": [
  {
   "cell_type": "markdown",
   "metadata": {},
   "source": [
    "(Introduce the project)\n",
    "(Introduce the dataset)"
   ]
  },
  {
   "cell_type": "markdown",
   "metadata": {},
   "source": [
    "## Gather"
   ]
  },
  {
   "cell_type": "code",
   "execution_count": 1,
   "metadata": {},
   "outputs": [],
   "source": [
    "import json\n",
    "import numpy as np\n",
    "import pandas as pd\n",
    "import requests\n",
    "import tweepy\n",
    "from timeit import default_timer as timer\n",
    "from tweepy import OAuthHandler"
   ]
  },
  {
   "cell_type": "code",
   "execution_count": 31,
   "metadata": {},
   "outputs": [],
   "source": [
    "# Load twitter archive file\n",
    "archive = pd.read_csv('twitter-archive-enhanced.csv')"
   ]
  },
  {
   "cell_type": "code",
   "execution_count": 3,
   "metadata": {},
   "outputs": [],
   "source": [
    "# Download image-predictions file\n",
    "url = 'https://d17h27t6h515a5.cloudfront.net/topher/2017/August/599fd2ad_image-predictions/image-predictions.tsv'\n",
    "response = requests.get(url)\n",
    "with open('image_predictions.tsv', mode='wb') as file:\n",
    "    file.write(response.content)"
   ]
  },
  {
   "cell_type": "code",
   "execution_count": 32,
   "metadata": {},
   "outputs": [],
   "source": [
    "# Import image predictions file\n",
    "image_predictions = pd.read_csv('image_predictions.tsv', sep='\\t')"
   ]
  },
  {
   "cell_type": "code",
   "execution_count": 5,
   "metadata": {},
   "outputs": [
    {
     "data": {
      "text/plain": [
       "\"\\nconsumer_key = 'g2ND7axSfMh4x6NastwdByJQd'\\nconsumer_secret = 'V14qYWCX7aB3nnjoigO1B6hle1D9MOultmA8qc8g2IiQmHQByD'\\naccess_token = '736183273-d5LSGYOp5lxQNPGLN3fTUsEgoNCYElxHIcyVSVHd'\\naccess_secret = 'Q1gRx9PmmufVjl2QyMsKv3sUXJ5RLUn7GaSpugJRv7QXP'\\n\\nauth = OAuthHandler(consumer_key, consumer_secret)\\nauth.set_access_token(access_token, access_secret)\\n\\napi = tweepy.API(auth, wait_on_rate_limit=True, wait_on_rate_limit_notify=True)\\n\""
      ]
     },
     "execution_count": 5,
     "metadata": {},
     "output_type": "execute_result"
    }
   ],
   "source": [
    "# Query Twitter API for each tweet in the Twitter archive and save JSON in a text file\n",
    "# NOTE: Uncomment out prior to submission\n",
    "\"\"\"\n",
    "consumer_key = 'g2ND7axSfMh4x6NastwdByJQd'\n",
    "consumer_secret = 'V14qYWCX7aB3nnjoigO1B6hle1D9MOultmA8qc8g2IiQmHQByD'\n",
    "access_token = '736183273-d5LSGYOp5lxQNPGLN3fTUsEgoNCYElxHIcyVSVHd'\n",
    "access_secret = 'Q1gRx9PmmufVjl2QyMsKv3sUXJ5RLUn7GaSpugJRv7QXP'\n",
    "\n",
    "auth = OAuthHandler(consumer_key, consumer_secret)\n",
    "auth.set_access_token(access_token, access_secret)\n",
    "\n",
    "api = tweepy.API(auth, wait_on_rate_limit=True, wait_on_rate_limit_notify=True)\n",
    "\"\"\""
   ]
  },
  {
   "cell_type": "code",
   "execution_count": 6,
   "metadata": {},
   "outputs": [
    {
     "data": {
      "text/plain": [
       "2356"
      ]
     },
     "execution_count": 6,
     "metadata": {},
     "output_type": "execute_result"
    }
   ],
   "source": [
    "# Tweet IDs for which to gather additional data via Twitter's API\n",
    "tweet_ids = archive.tweet_id.values\n",
    "len(tweet_ids)"
   ]
  },
  {
   "cell_type": "code",
   "execution_count": 7,
   "metadata": {},
   "outputs": [
    {
     "data": {
      "text/plain": [
       "'\\ncount = 0\\nfails_dict = {}\\nstart = timer()\\n# Save each tweet\\'s returned JSON as a new line in a .txt file\\nwith open(\\'tweet_json.txt\\', \\'w\\') as outfile:\\n    # This loop will likely take 20-30 minutes to run because of Twitter\\'s rate limit\\n    for tweet_id in tweet_ids:\\n        count += 1\\n        print(str(count) + \": \" + str(tweet_id))\\n        try:\\n            tweet = api.get_status(tweet_id, tweet_mode=\\'extended\\')\\n            print(\"Success\")\\n            json.dump(tweet._json, outfile)\\n            outfile.write(\\'\\n\\')\\n        except tweepy.TweepError as e:\\n            print(\"Fail\")\\n            fails_dict[tweet_id] = e\\n            pass\\nend = timer()\\nprint(end - start)\\nprint(fails_dict)\\n'"
      ]
     },
     "execution_count": 7,
     "metadata": {},
     "output_type": "execute_result"
    }
   ],
   "source": [
    "# Query Twitter's API for JSON data for each tweet ID in the Twitter archive\n",
    "# NOTE: Uncomment out for submission\n",
    "\"\"\"\n",
    "count = 0\n",
    "fails_dict = {}\n",
    "start = timer()\n",
    "# Save each tweet's returned JSON as a new line in a .txt file\n",
    "with open('tweet_json.txt', 'w') as outfile:\n",
    "    # This loop will likely take 20-30 minutes to run because of Twitter's rate limit\n",
    "    for tweet_id in tweet_ids:\n",
    "        count += 1\n",
    "        print(str(count) + \": \" + str(tweet_id))\n",
    "        try:\n",
    "            tweet = api.get_status(tweet_id, tweet_mode='extended')\n",
    "            print(\"Success\")\n",
    "            json.dump(tweet._json, outfile)\n",
    "            outfile.write('\\n')\n",
    "        except tweepy.TweepError as e:\n",
    "            print(\"Fail\")\n",
    "            fails_dict[tweet_id] = e\n",
    "            pass\n",
    "end = timer()\n",
    "print(end - start)\n",
    "print(fails_dict)\n",
    "\"\"\""
   ]
  },
  {
   "cell_type": "code",
   "execution_count": 8,
   "metadata": {},
   "outputs": [
    {
     "data": {
      "text/plain": [
       "\"\\nimport csv\\nfails_list = []\\nfor key in fails_dict.keys():\\n    fails_list.append(key)\\nfails_list\\nwith open('fails_dict.csv', 'w') as outfile:\\n    wr = csv.writer(outfile, dialect='excel')\\n    wr.writerow(fails_list)\\n\""
      ]
     },
     "execution_count": 8,
     "metadata": {},
     "output_type": "execute_result"
    }
   ],
   "source": [
    "# Temp - save fails_dict to file for working with\n",
    "# NOTE: Delete prior to submission\n",
    "'''\n",
    "import csv\n",
    "fails_list = []\n",
    "for key in fails_dict.keys():\n",
    "    fails_list.append(key)\n",
    "fails_list\n",
    "with open('fails_dict.csv', 'w') as outfile:\n",
    "    wr = csv.writer(outfile, dialect='excel')\n",
    "    wr.writerow(fails_list)\n",
    "'''"
   ]
  },
  {
   "cell_type": "code",
   "execution_count": 9,
   "metadata": {},
   "outputs": [
    {
     "data": {
      "text/plain": [
       "\"\\nfailures = []\\nwith open('fails_dict.csv', 'r') as f:\\n    reader = csv.reader(f)\\n    for line in reader:\\n        failures.append(line)\\n\""
      ]
     },
     "execution_count": 9,
     "metadata": {},
     "output_type": "execute_result"
    }
   ],
   "source": [
    "# Working - uncomment out if necessary\n",
    "# NOTE: Delete prior to submission\n",
    "'''\n",
    "failures = []\n",
    "with open('fails_dict.csv', 'r') as f:\n",
    "    reader = csv.reader(f)\n",
    "    for line in reader:\n",
    "        failures.append(line)\n",
    "'''"
   ]
  },
  {
   "cell_type": "code",
   "execution_count": 30,
   "metadata": {},
   "outputs": [
    {
     "data": {
      "text/html": [
       "<div>\n",
       "<style scoped>\n",
       "    .dataframe tbody tr th:only-of-type {\n",
       "        vertical-align: middle;\n",
       "    }\n",
       "\n",
       "    .dataframe tbody tr th {\n",
       "        vertical-align: top;\n",
       "    }\n",
       "\n",
       "    .dataframe thead th {\n",
       "        text-align: right;\n",
       "    }\n",
       "</style>\n",
       "<table border=\"1\" class=\"dataframe\">\n",
       "  <thead>\n",
       "    <tr style=\"text-align: right;\">\n",
       "      <th></th>\n",
       "      <th>contributors</th>\n",
       "      <th>coordinates</th>\n",
       "      <th>created_at</th>\n",
       "      <th>display_text_range</th>\n",
       "      <th>entities</th>\n",
       "      <th>extended_entities</th>\n",
       "      <th>favorite_count</th>\n",
       "      <th>favorited</th>\n",
       "      <th>full_text</th>\n",
       "      <th>geo</th>\n",
       "      <th>...</th>\n",
       "      <th>quoted_status</th>\n",
       "      <th>quoted_status_id</th>\n",
       "      <th>quoted_status_id_str</th>\n",
       "      <th>quoted_status_permalink</th>\n",
       "      <th>retweet_count</th>\n",
       "      <th>retweeted</th>\n",
       "      <th>retweeted_status</th>\n",
       "      <th>source</th>\n",
       "      <th>truncated</th>\n",
       "      <th>user</th>\n",
       "    </tr>\n",
       "  </thead>\n",
       "  <tbody>\n",
       "    <tr>\n",
       "      <th>1550</th>\n",
       "      <td>None</td>\n",
       "      <td>None</td>\n",
       "      <td>Fri Jan 15 03:39:15 +0000 2016</td>\n",
       "      <td>[0, 78]</td>\n",
       "      <td>{'hashtags': [], 'symbols': [], 'user_mentions...</td>\n",
       "      <td>NaN</td>\n",
       "      <td>5698</td>\n",
       "      <td>False</td>\n",
       "      <td>13/10 I can't stop watching this (vid by @k8ly...</td>\n",
       "      <td>None</td>\n",
       "      <td>...</td>\n",
       "      <td>NaN</td>\n",
       "      <td>NaN</td>\n",
       "      <td>NaN</td>\n",
       "      <td>NaN</td>\n",
       "      <td>2677</td>\n",
       "      <td>False</td>\n",
       "      <td>NaN</td>\n",
       "      <td>&lt;a href=\"http://vine.co\" rel=\"nofollow\"&gt;Vine -...</td>\n",
       "      <td>False</td>\n",
       "      <td>{'id': 4196983835, 'id_str': '4196983835', 'na...</td>\n",
       "    </tr>\n",
       "    <tr>\n",
       "      <th>1313</th>\n",
       "      <td>None</td>\n",
       "      <td>None</td>\n",
       "      <td>Fri Mar 04 23:32:15 +0000 2016</td>\n",
       "      <td>[0, 140]</td>\n",
       "      <td>{'hashtags': [], 'symbols': [], 'user_mentions...</td>\n",
       "      <td>{'media': [{'id': 705898672375132160, 'id_str'...</td>\n",
       "      <td>2469</td>\n",
       "      <td>False</td>\n",
       "      <td>Meet Max. He's a Fallopian Cephalopuff. Eyes a...</td>\n",
       "      <td>None</td>\n",
       "      <td>...</td>\n",
       "      <td>NaN</td>\n",
       "      <td>NaN</td>\n",
       "      <td>NaN</td>\n",
       "      <td>NaN</td>\n",
       "      <td>586</td>\n",
       "      <td>False</td>\n",
       "      <td>NaN</td>\n",
       "      <td>&lt;a href=\"http://twitter.com/download/iphone\" r...</td>\n",
       "      <td>False</td>\n",
       "      <td>{'id': 4196983835, 'id_str': '4196983835', 'na...</td>\n",
       "    </tr>\n",
       "    <tr>\n",
       "      <th>652</th>\n",
       "      <td>None</td>\n",
       "      <td>None</td>\n",
       "      <td>Mon Oct 24 23:37:28 +0000 2016</td>\n",
       "      <td>[0, 82]</td>\n",
       "      <td>{'hashtags': [], 'symbols': [], 'user_mentions...</td>\n",
       "      <td>{'media': [{'id': 790698747059548161, 'id_str'...</td>\n",
       "      <td>8719</td>\n",
       "      <td>False</td>\n",
       "      <td>This is Mosby. He appears to be rather h*ckin ...</td>\n",
       "      <td>None</td>\n",
       "      <td>...</td>\n",
       "      <td>NaN</td>\n",
       "      <td>NaN</td>\n",
       "      <td>NaN</td>\n",
       "      <td>NaN</td>\n",
       "      <td>2079</td>\n",
       "      <td>False</td>\n",
       "      <td>NaN</td>\n",
       "      <td>&lt;a href=\"http://twitter.com/download/iphone\" r...</td>\n",
       "      <td>False</td>\n",
       "      <td>{'id': 4196983835, 'id_str': '4196983835', 'na...</td>\n",
       "    </tr>\n",
       "    <tr>\n",
       "      <th>545</th>\n",
       "      <td>None</td>\n",
       "      <td>None</td>\n",
       "      <td>Mon Nov 28 23:30:47 +0000 2016</td>\n",
       "      <td>[0, 94]</td>\n",
       "      <td>{'hashtags': [], 'symbols': [], 'user_mentions...</td>\n",
       "      <td>{'media': [{'id': 803380639571513345, 'id_str'...</td>\n",
       "      <td>8250</td>\n",
       "      <td>False</td>\n",
       "      <td>Meet Sonny. He's an in-home movie critic. That...</td>\n",
       "      <td>None</td>\n",
       "      <td>...</td>\n",
       "      <td>NaN</td>\n",
       "      <td>NaN</td>\n",
       "      <td>NaN</td>\n",
       "      <td>NaN</td>\n",
       "      <td>2019</td>\n",
       "      <td>False</td>\n",
       "      <td>NaN</td>\n",
       "      <td>&lt;a href=\"http://twitter.com/download/iphone\" r...</td>\n",
       "      <td>False</td>\n",
       "      <td>{'id': 4196983835, 'id_str': '4196983835', 'na...</td>\n",
       "    </tr>\n",
       "    <tr>\n",
       "      <th>2005</th>\n",
       "      <td>None</td>\n",
       "      <td>None</td>\n",
       "      <td>Wed Dec 02 15:01:33 +0000 2015</td>\n",
       "      <td>[0, 138]</td>\n",
       "      <td>{'hashtags': [], 'symbols': [], 'user_mentions...</td>\n",
       "      <td>{'media': [{'id': 672068080575483905, 'id_str'...</td>\n",
       "      <td>1300</td>\n",
       "      <td>False</td>\n",
       "      <td>Say hello to Gizmo. He's upset because he's no...</td>\n",
       "      <td>None</td>\n",
       "      <td>...</td>\n",
       "      <td>NaN</td>\n",
       "      <td>NaN</td>\n",
       "      <td>NaN</td>\n",
       "      <td>NaN</td>\n",
       "      <td>525</td>\n",
       "      <td>False</td>\n",
       "      <td>NaN</td>\n",
       "      <td>&lt;a href=\"http://twitter.com/download/iphone\" r...</td>\n",
       "      <td>False</td>\n",
       "      <td>{'id': 4196983835, 'id_str': '4196983835', 'na...</td>\n",
       "    </tr>\n",
       "    <tr>\n",
       "      <th>1776</th>\n",
       "      <td>None</td>\n",
       "      <td>None</td>\n",
       "      <td>Thu Dec 17 03:36:28 +0000 2015</td>\n",
       "      <td>[0, 139]</td>\n",
       "      <td>{'hashtags': [], 'symbols': [], 'user_mentions...</td>\n",
       "      <td>{'media': [{'id': 677331497041461248, 'id_str'...</td>\n",
       "      <td>1129</td>\n",
       "      <td>False</td>\n",
       "      <td>Meet Humphrey. He's a Northern Polyp Viagra. O...</td>\n",
       "      <td>None</td>\n",
       "      <td>...</td>\n",
       "      <td>NaN</td>\n",
       "      <td>NaN</td>\n",
       "      <td>NaN</td>\n",
       "      <td>NaN</td>\n",
       "      <td>246</td>\n",
       "      <td>False</td>\n",
       "      <td>NaN</td>\n",
       "      <td>&lt;a href=\"http://twitter.com/download/iphone\" r...</td>\n",
       "      <td>False</td>\n",
       "      <td>{'id': 4196983835, 'id_str': '4196983835', 'na...</td>\n",
       "    </tr>\n",
       "    <tr>\n",
       "      <th>613</th>\n",
       "      <td>None</td>\n",
       "      <td>None</td>\n",
       "      <td>Sun Nov 06 01:33:58 +0000 2016</td>\n",
       "      <td>[0, 78]</td>\n",
       "      <td>{'hashtags': [], 'symbols': [], 'user_mentions...</td>\n",
       "      <td>{'media': [{'id': 795076720525279233, 'id_str'...</td>\n",
       "      <td>17279</td>\n",
       "      <td>False</td>\n",
       "      <td>This is Bailey. She loves going down slides bu...</td>\n",
       "      <td>None</td>\n",
       "      <td>...</td>\n",
       "      <td>NaN</td>\n",
       "      <td>NaN</td>\n",
       "      <td>NaN</td>\n",
       "      <td>NaN</td>\n",
       "      <td>5917</td>\n",
       "      <td>False</td>\n",
       "      <td>NaN</td>\n",
       "      <td>&lt;a href=\"http://twitter.com/download/iphone\" r...</td>\n",
       "      <td>False</td>\n",
       "      <td>{'id': 4196983835, 'id_str': '4196983835', 'na...</td>\n",
       "    </tr>\n",
       "    <tr>\n",
       "      <th>1727</th>\n",
       "      <td>None</td>\n",
       "      <td>None</td>\n",
       "      <td>Tue Dec 22 04:35:49 +0000 2015</td>\n",
       "      <td>[0, 66]</td>\n",
       "      <td>{'hashtags': [], 'symbols': [], 'user_mentions...</td>\n",
       "      <td>{'media': [{'id': 679158360810352640, 'id_str'...</td>\n",
       "      <td>22234</td>\n",
       "      <td>False</td>\n",
       "      <td>This is Rubio. He has too much skin. 11/10 htt...</td>\n",
       "      <td>None</td>\n",
       "      <td>...</td>\n",
       "      <td>NaN</td>\n",
       "      <td>NaN</td>\n",
       "      <td>NaN</td>\n",
       "      <td>NaN</td>\n",
       "      <td>8568</td>\n",
       "      <td>False</td>\n",
       "      <td>NaN</td>\n",
       "      <td>&lt;a href=\"http://twitter.com/download/iphone\" r...</td>\n",
       "      <td>False</td>\n",
       "      <td>{'id': 4196983835, 'id_str': '4196983835', 'na...</td>\n",
       "    </tr>\n",
       "    <tr>\n",
       "      <th>336</th>\n",
       "      <td>None</td>\n",
       "      <td>None</td>\n",
       "      <td>Wed Feb 15 18:03:45 +0000 2017</td>\n",
       "      <td>[5, 22]</td>\n",
       "      <td>{'hashtags': [], 'symbols': [], 'user_mentions...</td>\n",
       "      <td>NaN</td>\n",
       "      <td>357</td>\n",
       "      <td>False</td>\n",
       "      <td>@UNC can confirm 12/10</td>\n",
       "      <td>None</td>\n",
       "      <td>...</td>\n",
       "      <td>NaN</td>\n",
       "      <td>NaN</td>\n",
       "      <td>NaN</td>\n",
       "      <td>NaN</td>\n",
       "      <td>35</td>\n",
       "      <td>False</td>\n",
       "      <td>NaN</td>\n",
       "      <td>&lt;a href=\"http://twitter.com/download/iphone\" r...</td>\n",
       "      <td>False</td>\n",
       "      <td>{'id': 4196983835, 'id_str': '4196983835', 'na...</td>\n",
       "    </tr>\n",
       "    <tr>\n",
       "      <th>93</th>\n",
       "      <td>None</td>\n",
       "      <td>None</td>\n",
       "      <td>Sun Jun 11 21:18:31 +0000 2017</td>\n",
       "      <td>[0, 139]</td>\n",
       "      <td>{'hashtags': [{'text': 'PrideMonth', 'indices'...</td>\n",
       "      <td>{'media': [{'id': 874012990328197120, 'id_str'...</td>\n",
       "      <td>33812</td>\n",
       "      <td>False</td>\n",
       "      <td>This is Sebastian. He can't see all the colors...</td>\n",
       "      <td>None</td>\n",
       "      <td>...</td>\n",
       "      <td>NaN</td>\n",
       "      <td>NaN</td>\n",
       "      <td>NaN</td>\n",
       "      <td>NaN</td>\n",
       "      <td>10184</td>\n",
       "      <td>False</td>\n",
       "      <td>NaN</td>\n",
       "      <td>&lt;a href=\"http://twitter.com/download/iphone\" r...</td>\n",
       "      <td>False</td>\n",
       "      <td>{'id': 4196983835, 'id_str': '4196983835', 'na...</td>\n",
       "    </tr>\n",
       "    <tr>\n",
       "      <th>630</th>\n",
       "      <td>None</td>\n",
       "      <td>None</td>\n",
       "      <td>Mon Oct 31 21:00:23 +0000 2016</td>\n",
       "      <td>[0, 99]</td>\n",
       "      <td>{'hashtags': [], 'symbols': [], 'user_mentions...</td>\n",
       "      <td>{'media': [{'id': 793195928287055872, 'id_str'...</td>\n",
       "      <td>16260</td>\n",
       "      <td>False</td>\n",
       "      <td>Say hello to Lily. She's pupset that her costu...</td>\n",
       "      <td>None</td>\n",
       "      <td>...</td>\n",
       "      <td>NaN</td>\n",
       "      <td>NaN</td>\n",
       "      <td>NaN</td>\n",
       "      <td>NaN</td>\n",
       "      <td>6131</td>\n",
       "      <td>False</td>\n",
       "      <td>NaN</td>\n",
       "      <td>&lt;a href=\"http://twitter.com/download/iphone\" r...</td>\n",
       "      <td>False</td>\n",
       "      <td>{'id': 4196983835, 'id_str': '4196983835', 'na...</td>\n",
       "    </tr>\n",
       "    <tr>\n",
       "      <th>727</th>\n",
       "      <td>None</td>\n",
       "      <td>None</td>\n",
       "      <td>Mon Sep 26 23:04:13 +0000 2016</td>\n",
       "      <td>[0, 61]</td>\n",
       "      <td>{'hashtags': [], 'symbols': [], 'user_mentions...</td>\n",
       "      <td>{'media': [{'id': 780543507299794944, 'id_str'...</td>\n",
       "      <td>6677</td>\n",
       "      <td>False</td>\n",
       "      <td>Here's a perturbed super floof. 12/10 would sn...</td>\n",
       "      <td>None</td>\n",
       "      <td>...</td>\n",
       "      <td>NaN</td>\n",
       "      <td>NaN</td>\n",
       "      <td>NaN</td>\n",
       "      <td>NaN</td>\n",
       "      <td>1869</td>\n",
       "      <td>False</td>\n",
       "      <td>NaN</td>\n",
       "      <td>&lt;a href=\"http://twitter.com/download/iphone\" r...</td>\n",
       "      <td>False</td>\n",
       "      <td>{'id': 4196983835, 'id_str': '4196983835', 'na...</td>\n",
       "    </tr>\n",
       "    <tr>\n",
       "      <th>1303</th>\n",
       "      <td>None</td>\n",
       "      <td>None</td>\n",
       "      <td>Sun Mar 06 16:27:23 +0000 2016</td>\n",
       "      <td>[0, 126]</td>\n",
       "      <td>{'hashtags': [], 'symbols': [], 'user_mentions...</td>\n",
       "      <td>{'media': [{'id': 706516523993731073, 'id_str'...</td>\n",
       "      <td>3217</td>\n",
       "      <td>False</td>\n",
       "      <td>Please enjoy this pup in a cooler. Permanently...</td>\n",
       "      <td>None</td>\n",
       "      <td>...</td>\n",
       "      <td>NaN</td>\n",
       "      <td>NaN</td>\n",
       "      <td>NaN</td>\n",
       "      <td>NaN</td>\n",
       "      <td>1092</td>\n",
       "      <td>False</td>\n",
       "      <td>NaN</td>\n",
       "      <td>&lt;a href=\"http://twitter.com/download/iphone\" r...</td>\n",
       "      <td>False</td>\n",
       "      <td>{'id': 4196983835, 'id_str': '4196983835', 'na...</td>\n",
       "    </tr>\n",
       "    <tr>\n",
       "      <th>1017</th>\n",
       "      <td>None</td>\n",
       "      <td>None</td>\n",
       "      <td>Tue Jun 21 02:03:25 +0000 2016</td>\n",
       "      <td>[0, 123]</td>\n",
       "      <td>{'hashtags': [], 'symbols': [], 'user_mentions...</td>\n",
       "      <td>NaN</td>\n",
       "      <td>8158</td>\n",
       "      <td>False</td>\n",
       "      <td>This is Jeffrey. He wasn't prepared to execute...</td>\n",
       "      <td>None</td>\n",
       "      <td>...</td>\n",
       "      <td>NaN</td>\n",
       "      <td>NaN</td>\n",
       "      <td>NaN</td>\n",
       "      <td>NaN</td>\n",
       "      <td>3741</td>\n",
       "      <td>False</td>\n",
       "      <td>NaN</td>\n",
       "      <td>&lt;a href=\"http://vine.co\" rel=\"nofollow\"&gt;Vine -...</td>\n",
       "      <td>False</td>\n",
       "      <td>{'id': 4196983835, 'id_str': '4196983835', 'na...</td>\n",
       "    </tr>\n",
       "    <tr>\n",
       "      <th>931</th>\n",
       "      <td>None</td>\n",
       "      <td>None</td>\n",
       "      <td>Mon Jul 11 15:07:30 +0000 2016</td>\n",
       "      <td>[0, 87]</td>\n",
       "      <td>{'hashtags': [], 'symbols': [], 'user_mentions...</td>\n",
       "      <td>{'media': [{'id': 752519679353257984, 'id_str'...</td>\n",
       "      <td>7726</td>\n",
       "      <td>False</td>\n",
       "      <td>Hopefully this puppo on a swing will help get ...</td>\n",
       "      <td>None</td>\n",
       "      <td>...</td>\n",
       "      <td>NaN</td>\n",
       "      <td>NaN</td>\n",
       "      <td>NaN</td>\n",
       "      <td>NaN</td>\n",
       "      <td>3687</td>\n",
       "      <td>False</td>\n",
       "      <td>NaN</td>\n",
       "      <td>&lt;a href=\"http://twitter.com/download/iphone\" r...</td>\n",
       "      <td>False</td>\n",
       "      <td>{'id': 4196983835, 'id_str': '4196983835', 'na...</td>\n",
       "    </tr>\n",
       "    <tr>\n",
       "      <th>1247</th>\n",
       "      <td>None</td>\n",
       "      <td>None</td>\n",
       "      <td>Wed Mar 16 14:54:24 +0000 2016</td>\n",
       "      <td>[0, 135]</td>\n",
       "      <td>{'hashtags': [], 'symbols': [], 'user_mentions...</td>\n",
       "      <td>{'media': [{'id': 710117006981341184, 'id_str'...</td>\n",
       "      <td>5709</td>\n",
       "      <td>False</td>\n",
       "      <td>This pupper got her hair chalked for her birth...</td>\n",
       "      <td>None</td>\n",
       "      <td>...</td>\n",
       "      <td>NaN</td>\n",
       "      <td>NaN</td>\n",
       "      <td>NaN</td>\n",
       "      <td>NaN</td>\n",
       "      <td>2102</td>\n",
       "      <td>False</td>\n",
       "      <td>NaN</td>\n",
       "      <td>&lt;a href=\"http://twitter.com/download/iphone\" r...</td>\n",
       "      <td>False</td>\n",
       "      <td>{'id': 4196983835, 'id_str': '4196983835', 'na...</td>\n",
       "    </tr>\n",
       "    <tr>\n",
       "      <th>475</th>\n",
       "      <td>None</td>\n",
       "      <td>None</td>\n",
       "      <td>Thu Dec 29 17:54:58 +0000 2016</td>\n",
       "      <td>[0, 112]</td>\n",
       "      <td>{'hashtags': [], 'symbols': [], 'user_mentions...</td>\n",
       "      <td>{'media': [{'id': 814530153418203136, 'id_str'...</td>\n",
       "      <td>9167</td>\n",
       "      <td>False</td>\n",
       "      <td>This is Alf. Someone just rubbed a balloon on ...</td>\n",
       "      <td>None</td>\n",
       "      <td>...</td>\n",
       "      <td>NaN</td>\n",
       "      <td>NaN</td>\n",
       "      <td>NaN</td>\n",
       "      <td>NaN</td>\n",
       "      <td>2018</td>\n",
       "      <td>False</td>\n",
       "      <td>NaN</td>\n",
       "      <td>&lt;a href=\"http://twitter.com/download/iphone\" r...</td>\n",
       "      <td>False</td>\n",
       "      <td>{'id': 4196983835, 'id_str': '4196983835', 'na...</td>\n",
       "    </tr>\n",
       "    <tr>\n",
       "      <th>2189</th>\n",
       "      <td>None</td>\n",
       "      <td>None</td>\n",
       "      <td>Mon Nov 23 03:25:17 +0000 2015</td>\n",
       "      <td>[0, 135]</td>\n",
       "      <td>{'hashtags': [], 'symbols': [], 'user_mentions...</td>\n",
       "      <td>{'media': [{'id': 668631373981331456, 'id_str'...</td>\n",
       "      <td>723</td>\n",
       "      <td>False</td>\n",
       "      <td>Meet Zeek. He is a grey Cumulonimbus. Zeek is ...</td>\n",
       "      <td>None</td>\n",
       "      <td>...</td>\n",
       "      <td>NaN</td>\n",
       "      <td>NaN</td>\n",
       "      <td>NaN</td>\n",
       "      <td>NaN</td>\n",
       "      <td>323</td>\n",
       "      <td>False</td>\n",
       "      <td>NaN</td>\n",
       "      <td>&lt;a href=\"http://twitter.com/download/iphone\" r...</td>\n",
       "      <td>False</td>\n",
       "      <td>{'id': 4196983835, 'id_str': '4196983835', 'na...</td>\n",
       "    </tr>\n",
       "    <tr>\n",
       "      <th>2207</th>\n",
       "      <td>None</td>\n",
       "      <td>None</td>\n",
       "      <td>Sun Nov 22 04:56:43 +0000 2015</td>\n",
       "      <td>[0, 60]</td>\n",
       "      <td>{'hashtags': [], 'symbols': [], 'user_mentions...</td>\n",
       "      <td>{'media': [{'id': 668291994352017409, 'id_str'...</td>\n",
       "      <td>245</td>\n",
       "      <td>False</td>\n",
       "      <td>I can't do better than he did. 10/10 https://t...</td>\n",
       "      <td>None</td>\n",
       "      <td>...</td>\n",
       "      <td>NaN</td>\n",
       "      <td>NaN</td>\n",
       "      <td>NaN</td>\n",
       "      <td>NaN</td>\n",
       "      <td>32</td>\n",
       "      <td>False</td>\n",
       "      <td>NaN</td>\n",
       "      <td>&lt;a href=\"http://twitter.com/download/iphone\" r...</td>\n",
       "      <td>False</td>\n",
       "      <td>{'id': 4196983835, 'id_str': '4196983835', 'na...</td>\n",
       "    </tr>\n",
       "    <tr>\n",
       "      <th>653</th>\n",
       "      <td>None</td>\n",
       "      <td>None</td>\n",
       "      <td>Mon Oct 24 15:53:19 +0000 2016</td>\n",
       "      <td>[0, 115]</td>\n",
       "      <td>{'hashtags': [], 'symbols': [], 'user_mentions...</td>\n",
       "      <td>{'media': [{'id': 790581940780924928, 'id_str'...</td>\n",
       "      <td>21990</td>\n",
       "      <td>False</td>\n",
       "      <td>This is Duke. He sneaks into the fridge someti...</td>\n",
       "      <td>None</td>\n",
       "      <td>...</td>\n",
       "      <td>NaN</td>\n",
       "      <td>NaN</td>\n",
       "      <td>NaN</td>\n",
       "      <td>NaN</td>\n",
       "      <td>7825</td>\n",
       "      <td>False</td>\n",
       "      <td>NaN</td>\n",
       "      <td>&lt;a href=\"http://twitter.com/download/iphone\" r...</td>\n",
       "      <td>False</td>\n",
       "      <td>{'id': 4196983835, 'id_str': '4196983835', 'na...</td>\n",
       "    </tr>\n",
       "    <tr>\n",
       "      <th>226</th>\n",
       "      <td>None</td>\n",
       "      <td>None</td>\n",
       "      <td>Fri Mar 31 16:07:33 +0000 2017</td>\n",
       "      <td>[0, 138]</td>\n",
       "      <td>{'hashtags': [], 'symbols': [], 'user_mentions...</td>\n",
       "      <td>{'media': [{'id': 847842804353032196, 'id_str'...</td>\n",
       "      <td>5622</td>\n",
       "      <td>False</td>\n",
       "      <td>This is Rontu. He is described as a pal, cuddl...</td>\n",
       "      <td>None</td>\n",
       "      <td>...</td>\n",
       "      <td>NaN</td>\n",
       "      <td>NaN</td>\n",
       "      <td>NaN</td>\n",
       "      <td>NaN</td>\n",
       "      <td>1398</td>\n",
       "      <td>False</td>\n",
       "      <td>NaN</td>\n",
       "      <td>&lt;a href=\"http://twitter.com/download/iphone\" r...</td>\n",
       "      <td>False</td>\n",
       "      <td>{'id': 4196983835, 'id_str': '4196983835', 'na...</td>\n",
       "    </tr>\n",
       "    <tr>\n",
       "      <th>52</th>\n",
       "      <td>None</td>\n",
       "      <td>None</td>\n",
       "      <td>Mon Jul 03 16:04:48 +0000 2017</td>\n",
       "      <td>[0, 67]</td>\n",
       "      <td>{'hashtags': [], 'symbols': [], 'user_mentions...</td>\n",
       "      <td>{'media': [{'id': 881906570426281984, 'id_str'...</td>\n",
       "      <td>23749</td>\n",
       "      <td>False</td>\n",
       "      <td>This is Rey. He's a Benebop Cumberfloof. 12/10...</td>\n",
       "      <td>None</td>\n",
       "      <td>...</td>\n",
       "      <td>NaN</td>\n",
       "      <td>NaN</td>\n",
       "      <td>NaN</td>\n",
       "      <td>NaN</td>\n",
       "      <td>3302</td>\n",
       "      <td>False</td>\n",
       "      <td>NaN</td>\n",
       "      <td>&lt;a href=\"http://twitter.com/download/iphone\" r...</td>\n",
       "      <td>False</td>\n",
       "      <td>{'id': 4196983835, 'id_str': '4196983835', 'na...</td>\n",
       "    </tr>\n",
       "    <tr>\n",
       "      <th>902</th>\n",
       "      <td>None</td>\n",
       "      <td>None</td>\n",
       "      <td>Sat Jul 23 19:49:07 +0000 2016</td>\n",
       "      <td>[0, 112]</td>\n",
       "      <td>{'hashtags': [], 'symbols': [], 'user_mentions...</td>\n",
       "      <td>{'media': [{'id': 756939201392807936, 'id_str'...</td>\n",
       "      <td>6976</td>\n",
       "      <td>False</td>\n",
       "      <td>This is Jax. He is a majestic mountain pupper....</td>\n",
       "      <td>None</td>\n",
       "      <td>...</td>\n",
       "      <td>NaN</td>\n",
       "      <td>NaN</td>\n",
       "      <td>NaN</td>\n",
       "      <td>NaN</td>\n",
       "      <td>2153</td>\n",
       "      <td>False</td>\n",
       "      <td>NaN</td>\n",
       "      <td>&lt;a href=\"http://twitter.com/download/iphone\" r...</td>\n",
       "      <td>False</td>\n",
       "      <td>{'id': 4196983835, 'id_str': '4196983835', 'na...</td>\n",
       "    </tr>\n",
       "    <tr>\n",
       "      <th>1770</th>\n",
       "      <td>None</td>\n",
       "      <td>None</td>\n",
       "      <td>Thu Dec 17 19:07:09 +0000 2015</td>\n",
       "      <td>[0, 140]</td>\n",
       "      <td>{'hashtags': [], 'symbols': [], 'user_mentions...</td>\n",
       "      <td>{'media': [{'id': 677565708809695232, 'id_str'...</td>\n",
       "      <td>1334</td>\n",
       "      <td>False</td>\n",
       "      <td>Contortionist pup here. Inside pentagram. Clea...</td>\n",
       "      <td>None</td>\n",
       "      <td>...</td>\n",
       "      <td>NaN</td>\n",
       "      <td>NaN</td>\n",
       "      <td>NaN</td>\n",
       "      <td>NaN</td>\n",
       "      <td>481</td>\n",
       "      <td>False</td>\n",
       "      <td>NaN</td>\n",
       "      <td>&lt;a href=\"http://twitter.com/download/iphone\" r...</td>\n",
       "      <td>False</td>\n",
       "      <td>{'id': 4196983835, 'id_str': '4196983835', 'na...</td>\n",
       "    </tr>\n",
       "    <tr>\n",
       "      <th>85</th>\n",
       "      <td>None</td>\n",
       "      <td>None</td>\n",
       "      <td>Fri Jun 16 16:11:53 +0000 2017</td>\n",
       "      <td>[0, 125]</td>\n",
       "      <td>{'hashtags': [], 'symbols': [], 'user_mentions...</td>\n",
       "      <td>{'media': [{'id': 875747755280318464, 'id_str'...</td>\n",
       "      <td>24640</td>\n",
       "      <td>False</td>\n",
       "      <td>This is Goose. He's a womanizer. Cheeky as h*c...</td>\n",
       "      <td>None</td>\n",
       "      <td>...</td>\n",
       "      <td>NaN</td>\n",
       "      <td>NaN</td>\n",
       "      <td>NaN</td>\n",
       "      <td>NaN</td>\n",
       "      <td>4186</td>\n",
       "      <td>False</td>\n",
       "      <td>NaN</td>\n",
       "      <td>&lt;a href=\"http://twitter.com/download/iphone\" r...</td>\n",
       "      <td>False</td>\n",
       "      <td>{'id': 4196983835, 'id_str': '4196983835', 'na...</td>\n",
       "    </tr>\n",
       "  </tbody>\n",
       "</table>\n",
       "<p>25 rows × 32 columns</p>\n",
       "</div>"
      ],
      "text/plain": [
       "     contributors coordinates                      created_at  \\\n",
       "1550         None        None  Fri Jan 15 03:39:15 +0000 2016   \n",
       "1313         None        None  Fri Mar 04 23:32:15 +0000 2016   \n",
       "652          None        None  Mon Oct 24 23:37:28 +0000 2016   \n",
       "545          None        None  Mon Nov 28 23:30:47 +0000 2016   \n",
       "2005         None        None  Wed Dec 02 15:01:33 +0000 2015   \n",
       "1776         None        None  Thu Dec 17 03:36:28 +0000 2015   \n",
       "613          None        None  Sun Nov 06 01:33:58 +0000 2016   \n",
       "1727         None        None  Tue Dec 22 04:35:49 +0000 2015   \n",
       "336          None        None  Wed Feb 15 18:03:45 +0000 2017   \n",
       "93           None        None  Sun Jun 11 21:18:31 +0000 2017   \n",
       "630          None        None  Mon Oct 31 21:00:23 +0000 2016   \n",
       "727          None        None  Mon Sep 26 23:04:13 +0000 2016   \n",
       "1303         None        None  Sun Mar 06 16:27:23 +0000 2016   \n",
       "1017         None        None  Tue Jun 21 02:03:25 +0000 2016   \n",
       "931          None        None  Mon Jul 11 15:07:30 +0000 2016   \n",
       "1247         None        None  Wed Mar 16 14:54:24 +0000 2016   \n",
       "475          None        None  Thu Dec 29 17:54:58 +0000 2016   \n",
       "2189         None        None  Mon Nov 23 03:25:17 +0000 2015   \n",
       "2207         None        None  Sun Nov 22 04:56:43 +0000 2015   \n",
       "653          None        None  Mon Oct 24 15:53:19 +0000 2016   \n",
       "226          None        None  Fri Mar 31 16:07:33 +0000 2017   \n",
       "52           None        None  Mon Jul 03 16:04:48 +0000 2017   \n",
       "902          None        None  Sat Jul 23 19:49:07 +0000 2016   \n",
       "1770         None        None  Thu Dec 17 19:07:09 +0000 2015   \n",
       "85           None        None  Fri Jun 16 16:11:53 +0000 2017   \n",
       "\n",
       "     display_text_range                                           entities  \\\n",
       "1550            [0, 78]  {'hashtags': [], 'symbols': [], 'user_mentions...   \n",
       "1313           [0, 140]  {'hashtags': [], 'symbols': [], 'user_mentions...   \n",
       "652             [0, 82]  {'hashtags': [], 'symbols': [], 'user_mentions...   \n",
       "545             [0, 94]  {'hashtags': [], 'symbols': [], 'user_mentions...   \n",
       "2005           [0, 138]  {'hashtags': [], 'symbols': [], 'user_mentions...   \n",
       "1776           [0, 139]  {'hashtags': [], 'symbols': [], 'user_mentions...   \n",
       "613             [0, 78]  {'hashtags': [], 'symbols': [], 'user_mentions...   \n",
       "1727            [0, 66]  {'hashtags': [], 'symbols': [], 'user_mentions...   \n",
       "336             [5, 22]  {'hashtags': [], 'symbols': [], 'user_mentions...   \n",
       "93             [0, 139]  {'hashtags': [{'text': 'PrideMonth', 'indices'...   \n",
       "630             [0, 99]  {'hashtags': [], 'symbols': [], 'user_mentions...   \n",
       "727             [0, 61]  {'hashtags': [], 'symbols': [], 'user_mentions...   \n",
       "1303           [0, 126]  {'hashtags': [], 'symbols': [], 'user_mentions...   \n",
       "1017           [0, 123]  {'hashtags': [], 'symbols': [], 'user_mentions...   \n",
       "931             [0, 87]  {'hashtags': [], 'symbols': [], 'user_mentions...   \n",
       "1247           [0, 135]  {'hashtags': [], 'symbols': [], 'user_mentions...   \n",
       "475            [0, 112]  {'hashtags': [], 'symbols': [], 'user_mentions...   \n",
       "2189           [0, 135]  {'hashtags': [], 'symbols': [], 'user_mentions...   \n",
       "2207            [0, 60]  {'hashtags': [], 'symbols': [], 'user_mentions...   \n",
       "653            [0, 115]  {'hashtags': [], 'symbols': [], 'user_mentions...   \n",
       "226            [0, 138]  {'hashtags': [], 'symbols': [], 'user_mentions...   \n",
       "52              [0, 67]  {'hashtags': [], 'symbols': [], 'user_mentions...   \n",
       "902            [0, 112]  {'hashtags': [], 'symbols': [], 'user_mentions...   \n",
       "1770           [0, 140]  {'hashtags': [], 'symbols': [], 'user_mentions...   \n",
       "85             [0, 125]  {'hashtags': [], 'symbols': [], 'user_mentions...   \n",
       "\n",
       "                                      extended_entities  favorite_count  \\\n",
       "1550                                                NaN            5698   \n",
       "1313  {'media': [{'id': 705898672375132160, 'id_str'...            2469   \n",
       "652   {'media': [{'id': 790698747059548161, 'id_str'...            8719   \n",
       "545   {'media': [{'id': 803380639571513345, 'id_str'...            8250   \n",
       "2005  {'media': [{'id': 672068080575483905, 'id_str'...            1300   \n",
       "1776  {'media': [{'id': 677331497041461248, 'id_str'...            1129   \n",
       "613   {'media': [{'id': 795076720525279233, 'id_str'...           17279   \n",
       "1727  {'media': [{'id': 679158360810352640, 'id_str'...           22234   \n",
       "336                                                 NaN             357   \n",
       "93    {'media': [{'id': 874012990328197120, 'id_str'...           33812   \n",
       "630   {'media': [{'id': 793195928287055872, 'id_str'...           16260   \n",
       "727   {'media': [{'id': 780543507299794944, 'id_str'...            6677   \n",
       "1303  {'media': [{'id': 706516523993731073, 'id_str'...            3217   \n",
       "1017                                                NaN            8158   \n",
       "931   {'media': [{'id': 752519679353257984, 'id_str'...            7726   \n",
       "1247  {'media': [{'id': 710117006981341184, 'id_str'...            5709   \n",
       "475   {'media': [{'id': 814530153418203136, 'id_str'...            9167   \n",
       "2189  {'media': [{'id': 668631373981331456, 'id_str'...             723   \n",
       "2207  {'media': [{'id': 668291994352017409, 'id_str'...             245   \n",
       "653   {'media': [{'id': 790581940780924928, 'id_str'...           21990   \n",
       "226   {'media': [{'id': 847842804353032196, 'id_str'...            5622   \n",
       "52    {'media': [{'id': 881906570426281984, 'id_str'...           23749   \n",
       "902   {'media': [{'id': 756939201392807936, 'id_str'...            6976   \n",
       "1770  {'media': [{'id': 677565708809695232, 'id_str'...            1334   \n",
       "85    {'media': [{'id': 875747755280318464, 'id_str'...           24640   \n",
       "\n",
       "      favorited                                          full_text   geo  ...  \\\n",
       "1550      False  13/10 I can't stop watching this (vid by @k8ly...  None  ...   \n",
       "1313      False  Meet Max. He's a Fallopian Cephalopuff. Eyes a...  None  ...   \n",
       "652       False  This is Mosby. He appears to be rather h*ckin ...  None  ...   \n",
       "545       False  Meet Sonny. He's an in-home movie critic. That...  None  ...   \n",
       "2005      False  Say hello to Gizmo. He's upset because he's no...  None  ...   \n",
       "1776      False  Meet Humphrey. He's a Northern Polyp Viagra. O...  None  ...   \n",
       "613       False  This is Bailey. She loves going down slides bu...  None  ...   \n",
       "1727      False  This is Rubio. He has too much skin. 11/10 htt...  None  ...   \n",
       "336       False                             @UNC can confirm 12/10  None  ...   \n",
       "93        False  This is Sebastian. He can't see all the colors...  None  ...   \n",
       "630       False  Say hello to Lily. She's pupset that her costu...  None  ...   \n",
       "727       False  Here's a perturbed super floof. 12/10 would sn...  None  ...   \n",
       "1303      False  Please enjoy this pup in a cooler. Permanently...  None  ...   \n",
       "1017      False  This is Jeffrey. He wasn't prepared to execute...  None  ...   \n",
       "931       False  Hopefully this puppo on a swing will help get ...  None  ...   \n",
       "1247      False  This pupper got her hair chalked for her birth...  None  ...   \n",
       "475       False  This is Alf. Someone just rubbed a balloon on ...  None  ...   \n",
       "2189      False  Meet Zeek. He is a grey Cumulonimbus. Zeek is ...  None  ...   \n",
       "2207      False  I can't do better than he did. 10/10 https://t...  None  ...   \n",
       "653       False  This is Duke. He sneaks into the fridge someti...  None  ...   \n",
       "226       False  This is Rontu. He is described as a pal, cuddl...  None  ...   \n",
       "52        False  This is Rey. He's a Benebop Cumberfloof. 12/10...  None  ...   \n",
       "902       False  This is Jax. He is a majestic mountain pupper....  None  ...   \n",
       "1770      False  Contortionist pup here. Inside pentagram. Clea...  None  ...   \n",
       "85        False  This is Goose. He's a womanizer. Cheeky as h*c...  None  ...   \n",
       "\n",
       "      quoted_status quoted_status_id quoted_status_id_str  \\\n",
       "1550            NaN              NaN                  NaN   \n",
       "1313            NaN              NaN                  NaN   \n",
       "652             NaN              NaN                  NaN   \n",
       "545             NaN              NaN                  NaN   \n",
       "2005            NaN              NaN                  NaN   \n",
       "1776            NaN              NaN                  NaN   \n",
       "613             NaN              NaN                  NaN   \n",
       "1727            NaN              NaN                  NaN   \n",
       "336             NaN              NaN                  NaN   \n",
       "93              NaN              NaN                  NaN   \n",
       "630             NaN              NaN                  NaN   \n",
       "727             NaN              NaN                  NaN   \n",
       "1303            NaN              NaN                  NaN   \n",
       "1017            NaN              NaN                  NaN   \n",
       "931             NaN              NaN                  NaN   \n",
       "1247            NaN              NaN                  NaN   \n",
       "475             NaN              NaN                  NaN   \n",
       "2189            NaN              NaN                  NaN   \n",
       "2207            NaN              NaN                  NaN   \n",
       "653             NaN              NaN                  NaN   \n",
       "226             NaN              NaN                  NaN   \n",
       "52              NaN              NaN                  NaN   \n",
       "902             NaN              NaN                  NaN   \n",
       "1770            NaN              NaN                  NaN   \n",
       "85              NaN              NaN                  NaN   \n",
       "\n",
       "      quoted_status_permalink retweet_count  retweeted retweeted_status  \\\n",
       "1550                      NaN          2677      False              NaN   \n",
       "1313                      NaN           586      False              NaN   \n",
       "652                       NaN          2079      False              NaN   \n",
       "545                       NaN          2019      False              NaN   \n",
       "2005                      NaN           525      False              NaN   \n",
       "1776                      NaN           246      False              NaN   \n",
       "613                       NaN          5917      False              NaN   \n",
       "1727                      NaN          8568      False              NaN   \n",
       "336                       NaN            35      False              NaN   \n",
       "93                        NaN         10184      False              NaN   \n",
       "630                       NaN          6131      False              NaN   \n",
       "727                       NaN          1869      False              NaN   \n",
       "1303                      NaN          1092      False              NaN   \n",
       "1017                      NaN          3741      False              NaN   \n",
       "931                       NaN          3687      False              NaN   \n",
       "1247                      NaN          2102      False              NaN   \n",
       "475                       NaN          2018      False              NaN   \n",
       "2189                      NaN           323      False              NaN   \n",
       "2207                      NaN            32      False              NaN   \n",
       "653                       NaN          7825      False              NaN   \n",
       "226                       NaN          1398      False              NaN   \n",
       "52                        NaN          3302      False              NaN   \n",
       "902                       NaN          2153      False              NaN   \n",
       "1770                      NaN           481      False              NaN   \n",
       "85                        NaN          4186      False              NaN   \n",
       "\n",
       "                                                 source truncated  \\\n",
       "1550  <a href=\"http://vine.co\" rel=\"nofollow\">Vine -...     False   \n",
       "1313  <a href=\"http://twitter.com/download/iphone\" r...     False   \n",
       "652   <a href=\"http://twitter.com/download/iphone\" r...     False   \n",
       "545   <a href=\"http://twitter.com/download/iphone\" r...     False   \n",
       "2005  <a href=\"http://twitter.com/download/iphone\" r...     False   \n",
       "1776  <a href=\"http://twitter.com/download/iphone\" r...     False   \n",
       "613   <a href=\"http://twitter.com/download/iphone\" r...     False   \n",
       "1727  <a href=\"http://twitter.com/download/iphone\" r...     False   \n",
       "336   <a href=\"http://twitter.com/download/iphone\" r...     False   \n",
       "93    <a href=\"http://twitter.com/download/iphone\" r...     False   \n",
       "630   <a href=\"http://twitter.com/download/iphone\" r...     False   \n",
       "727   <a href=\"http://twitter.com/download/iphone\" r...     False   \n",
       "1303  <a href=\"http://twitter.com/download/iphone\" r...     False   \n",
       "1017  <a href=\"http://vine.co\" rel=\"nofollow\">Vine -...     False   \n",
       "931   <a href=\"http://twitter.com/download/iphone\" r...     False   \n",
       "1247  <a href=\"http://twitter.com/download/iphone\" r...     False   \n",
       "475   <a href=\"http://twitter.com/download/iphone\" r...     False   \n",
       "2189  <a href=\"http://twitter.com/download/iphone\" r...     False   \n",
       "2207  <a href=\"http://twitter.com/download/iphone\" r...     False   \n",
       "653   <a href=\"http://twitter.com/download/iphone\" r...     False   \n",
       "226   <a href=\"http://twitter.com/download/iphone\" r...     False   \n",
       "52    <a href=\"http://twitter.com/download/iphone\" r...     False   \n",
       "902   <a href=\"http://twitter.com/download/iphone\" r...     False   \n",
       "1770  <a href=\"http://twitter.com/download/iphone\" r...     False   \n",
       "85    <a href=\"http://twitter.com/download/iphone\" r...     False   \n",
       "\n",
       "                                                   user  \n",
       "1550  {'id': 4196983835, 'id_str': '4196983835', 'na...  \n",
       "1313  {'id': 4196983835, 'id_str': '4196983835', 'na...  \n",
       "652   {'id': 4196983835, 'id_str': '4196983835', 'na...  \n",
       "545   {'id': 4196983835, 'id_str': '4196983835', 'na...  \n",
       "2005  {'id': 4196983835, 'id_str': '4196983835', 'na...  \n",
       "1776  {'id': 4196983835, 'id_str': '4196983835', 'na...  \n",
       "613   {'id': 4196983835, 'id_str': '4196983835', 'na...  \n",
       "1727  {'id': 4196983835, 'id_str': '4196983835', 'na...  \n",
       "336   {'id': 4196983835, 'id_str': '4196983835', 'na...  \n",
       "93    {'id': 4196983835, 'id_str': '4196983835', 'na...  \n",
       "630   {'id': 4196983835, 'id_str': '4196983835', 'na...  \n",
       "727   {'id': 4196983835, 'id_str': '4196983835', 'na...  \n",
       "1303  {'id': 4196983835, 'id_str': '4196983835', 'na...  \n",
       "1017  {'id': 4196983835, 'id_str': '4196983835', 'na...  \n",
       "931   {'id': 4196983835, 'id_str': '4196983835', 'na...  \n",
       "1247  {'id': 4196983835, 'id_str': '4196983835', 'na...  \n",
       "475   {'id': 4196983835, 'id_str': '4196983835', 'na...  \n",
       "2189  {'id': 4196983835, 'id_str': '4196983835', 'na...  \n",
       "2207  {'id': 4196983835, 'id_str': '4196983835', 'na...  \n",
       "653   {'id': 4196983835, 'id_str': '4196983835', 'na...  \n",
       "226   {'id': 4196983835, 'id_str': '4196983835', 'na...  \n",
       "52    {'id': 4196983835, 'id_str': '4196983835', 'na...  \n",
       "902   {'id': 4196983835, 'id_str': '4196983835', 'na...  \n",
       "1770  {'id': 4196983835, 'id_str': '4196983835', 'na...  \n",
       "85    {'id': 4196983835, 'id_str': '4196983835', 'na...  \n",
       "\n",
       "[25 rows x 32 columns]"
      ]
     },
     "execution_count": 30,
     "metadata": {},
     "output_type": "execute_result"
    }
   ],
   "source": [
    "# Load extended tweet data\n",
    "tweets = []\n",
    "with open('tweet_json.txt') as json_file:\n",
    "    for line in json_file:\n",
    "        tweets.append(json.loads(line))\n",
    "\n",
    "# Place extended tweet data into a dataframe\n",
    "extended_data = pd.DataFrame(tweets)"
   ]
  },
  {
   "cell_type": "markdown",
   "metadata": {},
   "source": [
    "## Assess"
   ]
  },
  {
   "cell_type": "markdown",
   "metadata": {},
   "source": [
    "(Explore each using .info)"
   ]
  },
  {
   "cell_type": "code",
   "execution_count": null,
   "metadata": {},
   "outputs": [],
   "source": []
  },
  {
   "cell_type": "code",
   "execution_count": null,
   "metadata": {},
   "outputs": [],
   "source": []
  },
  {
   "cell_type": "code",
   "execution_count": null,
   "metadata": {},
   "outputs": [],
   "source": []
  },
  {
   "cell_type": "markdown",
   "metadata": {},
   "source": [
    "#### Quality\n",
    "##### `twitter_archive_enhanced` table\n",
    "- x \n",
    "- x\n",
    "- x\n",
    "\n",
    "##### `image_predictions` table\n",
    "- x\n",
    "- x\n",
    "\n",
    "##### `additional_data` table\n",
    "- x\n",
    "- x\n",
    "- x"
   ]
  },
  {
   "cell_type": "markdown",
   "metadata": {},
   "source": [
    "#### Tidiness\n",
    "- x\n",
    "- x"
   ]
  },
  {
   "cell_type": "markdown",
   "metadata": {},
   "source": [
    "## Clean"
   ]
  },
  {
   "cell_type": "markdown",
   "metadata": {},
   "source": [
    "(make copies of datasources)"
   ]
  },
  {
   "cell_type": "code",
   "execution_count": null,
   "metadata": {},
   "outputs": [],
   "source": []
  },
  {
   "cell_type": "markdown",
   "metadata": {},
   "source": [
    "### (Problem 1)"
   ]
  },
  {
   "cell_type": "markdown",
   "metadata": {},
   "source": [
    "(Problem: ...)"
   ]
  },
  {
   "cell_type": "markdown",
   "metadata": {},
   "source": [
    "##### Define\n",
    "x"
   ]
  },
  {
   "cell_type": "markdown",
   "metadata": {},
   "source": [
    "##### Code"
   ]
  },
  {
   "cell_type": "code",
   "execution_count": null,
   "metadata": {},
   "outputs": [],
   "source": []
  },
  {
   "cell_type": "markdown",
   "metadata": {},
   "source": [
    "##### Test"
   ]
  },
  {
   "cell_type": "code",
   "execution_count": null,
   "metadata": {},
   "outputs": [],
   "source": []
  },
  {
   "cell_type": "code",
   "execution_count": null,
   "metadata": {},
   "outputs": [],
   "source": []
  },
  {
   "cell_type": "markdown",
   "metadata": {},
   "source": [
    "### (Problem 2)"
   ]
  },
  {
   "cell_type": "markdown",
   "metadata": {},
   "source": [
    "(Problem: ...)"
   ]
  },
  {
   "cell_type": "markdown",
   "metadata": {},
   "source": [
    "##### Define\n",
    "x"
   ]
  },
  {
   "cell_type": "markdown",
   "metadata": {},
   "source": [
    "##### Code"
   ]
  },
  {
   "cell_type": "code",
   "execution_count": null,
   "metadata": {},
   "outputs": [],
   "source": []
  },
  {
   "cell_type": "markdown",
   "metadata": {},
   "source": [
    "##### Test"
   ]
  },
  {
   "cell_type": "code",
   "execution_count": null,
   "metadata": {},
   "outputs": [],
   "source": []
  },
  {
   "cell_type": "code",
   "execution_count": null,
   "metadata": {},
   "outputs": [],
   "source": []
  },
  {
   "cell_type": "markdown",
   "metadata": {},
   "source": [
    "### (Problem 3)"
   ]
  },
  {
   "cell_type": "markdown",
   "metadata": {},
   "source": [
    "(Problem: ...)"
   ]
  },
  {
   "cell_type": "markdown",
   "metadata": {},
   "source": [
    "##### Define\n",
    "x"
   ]
  },
  {
   "cell_type": "markdown",
   "metadata": {},
   "source": [
    "##### Code"
   ]
  },
  {
   "cell_type": "code",
   "execution_count": null,
   "metadata": {},
   "outputs": [],
   "source": []
  },
  {
   "cell_type": "markdown",
   "metadata": {},
   "source": [
    "##### Test"
   ]
  },
  {
   "cell_type": "code",
   "execution_count": null,
   "metadata": {},
   "outputs": [],
   "source": []
  },
  {
   "cell_type": "code",
   "execution_count": null,
   "metadata": {},
   "outputs": [],
   "source": []
  },
  {
   "cell_type": "markdown",
   "metadata": {},
   "source": [
    "### (Problem 4)"
   ]
  },
  {
   "cell_type": "markdown",
   "metadata": {},
   "source": [
    "(Problem: ...)"
   ]
  },
  {
   "cell_type": "markdown",
   "metadata": {},
   "source": [
    "##### Define\n",
    "x"
   ]
  },
  {
   "cell_type": "markdown",
   "metadata": {},
   "source": [
    "##### Code"
   ]
  },
  {
   "cell_type": "code",
   "execution_count": null,
   "metadata": {},
   "outputs": [],
   "source": []
  },
  {
   "cell_type": "markdown",
   "metadata": {},
   "source": [
    "##### Test"
   ]
  },
  {
   "cell_type": "code",
   "execution_count": null,
   "metadata": {},
   "outputs": [],
   "source": []
  },
  {
   "cell_type": "code",
   "execution_count": null,
   "metadata": {},
   "outputs": [],
   "source": []
  },
  {
   "cell_type": "markdown",
   "metadata": {},
   "source": [
    "### (Problem 5)"
   ]
  },
  {
   "cell_type": "markdown",
   "metadata": {},
   "source": [
    "(Problem: ...)"
   ]
  },
  {
   "cell_type": "markdown",
   "metadata": {},
   "source": [
    "##### Define\n",
    "x"
   ]
  },
  {
   "cell_type": "markdown",
   "metadata": {},
   "source": [
    "##### Code"
   ]
  },
  {
   "cell_type": "code",
   "execution_count": null,
   "metadata": {},
   "outputs": [],
   "source": []
  },
  {
   "cell_type": "markdown",
   "metadata": {},
   "source": [
    "##### Test"
   ]
  },
  {
   "cell_type": "code",
   "execution_count": null,
   "metadata": {},
   "outputs": [],
   "source": []
  },
  {
   "cell_type": "code",
   "execution_count": null,
   "metadata": {},
   "outputs": [],
   "source": []
  },
  {
   "cell_type": "markdown",
   "metadata": {},
   "source": [
    "### (Problem 6)"
   ]
  },
  {
   "cell_type": "markdown",
   "metadata": {},
   "source": [
    "(Problem: ...)"
   ]
  },
  {
   "cell_type": "markdown",
   "metadata": {},
   "source": [
    "##### Define\n",
    "x"
   ]
  },
  {
   "cell_type": "markdown",
   "metadata": {},
   "source": [
    "##### Code"
   ]
  },
  {
   "cell_type": "code",
   "execution_count": null,
   "metadata": {},
   "outputs": [],
   "source": []
  },
  {
   "cell_type": "markdown",
   "metadata": {},
   "source": [
    "##### Test"
   ]
  },
  {
   "cell_type": "code",
   "execution_count": null,
   "metadata": {},
   "outputs": [],
   "source": []
  },
  {
   "cell_type": "code",
   "execution_count": null,
   "metadata": {},
   "outputs": [],
   "source": []
  },
  {
   "cell_type": "markdown",
   "metadata": {},
   "source": [
    "### (Problem 7)"
   ]
  },
  {
   "cell_type": "markdown",
   "metadata": {},
   "source": [
    "(Problem: ...)"
   ]
  },
  {
   "cell_type": "markdown",
   "metadata": {},
   "source": [
    "##### Define\n",
    "x"
   ]
  },
  {
   "cell_type": "markdown",
   "metadata": {},
   "source": [
    "##### Code"
   ]
  },
  {
   "cell_type": "code",
   "execution_count": null,
   "metadata": {},
   "outputs": [],
   "source": []
  },
  {
   "cell_type": "markdown",
   "metadata": {},
   "source": [
    "##### Test"
   ]
  },
  {
   "cell_type": "code",
   "execution_count": null,
   "metadata": {},
   "outputs": [],
   "source": []
  },
  {
   "cell_type": "code",
   "execution_count": null,
   "metadata": {},
   "outputs": [],
   "source": []
  },
  {
   "cell_type": "markdown",
   "metadata": {},
   "source": [
    "### (Problem 8)"
   ]
  },
  {
   "cell_type": "markdown",
   "metadata": {},
   "source": [
    "(Problem: ...)"
   ]
  },
  {
   "cell_type": "markdown",
   "metadata": {},
   "source": [
    "##### Define\n",
    "x"
   ]
  },
  {
   "cell_type": "markdown",
   "metadata": {},
   "source": [
    "##### Code"
   ]
  },
  {
   "cell_type": "code",
   "execution_count": null,
   "metadata": {},
   "outputs": [],
   "source": []
  },
  {
   "cell_type": "markdown",
   "metadata": {},
   "source": [
    "##### Test"
   ]
  },
  {
   "cell_type": "code",
   "execution_count": null,
   "metadata": {},
   "outputs": [],
   "source": []
  },
  {
   "cell_type": "code",
   "execution_count": null,
   "metadata": {},
   "outputs": [],
   "source": []
  },
  {
   "cell_type": "markdown",
   "metadata": {},
   "source": [
    "### (Problem 9)"
   ]
  },
  {
   "cell_type": "markdown",
   "metadata": {},
   "source": [
    "(Problem: ...)"
   ]
  },
  {
   "cell_type": "markdown",
   "metadata": {},
   "source": [
    "##### Define\n",
    "x"
   ]
  },
  {
   "cell_type": "markdown",
   "metadata": {},
   "source": [
    "##### Code"
   ]
  },
  {
   "cell_type": "code",
   "execution_count": null,
   "metadata": {},
   "outputs": [],
   "source": []
  },
  {
   "cell_type": "markdown",
   "metadata": {},
   "source": [
    "##### Test"
   ]
  },
  {
   "cell_type": "code",
   "execution_count": null,
   "metadata": {},
   "outputs": [],
   "source": []
  },
  {
   "cell_type": "code",
   "execution_count": null,
   "metadata": {},
   "outputs": [],
   "source": []
  },
  {
   "cell_type": "markdown",
   "metadata": {},
   "source": [
    "### (Problem 10)"
   ]
  },
  {
   "cell_type": "markdown",
   "metadata": {},
   "source": [
    "(Problem: ...)"
   ]
  },
  {
   "cell_type": "markdown",
   "metadata": {},
   "source": [
    "##### Define\n",
    "x"
   ]
  },
  {
   "cell_type": "markdown",
   "metadata": {},
   "source": [
    "##### Code"
   ]
  },
  {
   "cell_type": "code",
   "execution_count": null,
   "metadata": {},
   "outputs": [],
   "source": []
  },
  {
   "cell_type": "markdown",
   "metadata": {},
   "source": [
    "##### Test"
   ]
  },
  {
   "cell_type": "code",
   "execution_count": null,
   "metadata": {},
   "outputs": [],
   "source": []
  },
  {
   "cell_type": "code",
   "execution_count": null,
   "metadata": {},
   "outputs": [],
   "source": []
  },
  {
   "cell_type": "markdown",
   "metadata": {},
   "source": [
    "## Storage"
   ]
  },
  {
   "cell_type": "markdown",
   "metadata": {},
   "source": [
    "(store each table as a csv file with main file called tiwtter_archive_master.csv)"
   ]
  },
  {
   "cell_type": "code",
   "execution_count": null,
   "metadata": {},
   "outputs": [],
   "source": []
  },
  {
   "cell_type": "markdown",
   "metadata": {},
   "source": [
    "## Analysis"
   ]
  },
  {
   "cell_type": "markdown",
   "metadata": {},
   "source": [
    "(make at least 3 insights)"
   ]
  }
 ],
 "metadata": {
  "kernelspec": {
   "display_name": "Python 3",
   "language": "python",
   "name": "python3"
  },
  "language_info": {
   "codemirror_mode": {
    "name": "ipython",
    "version": 3
   },
   "file_extension": ".py",
   "mimetype": "text/x-python",
   "name": "python",
   "nbconvert_exporter": "python",
   "pygments_lexer": "ipython3",
   "version": "3.6.8"
  }
 },
 "nbformat": 4,
 "nbformat_minor": 2
}
