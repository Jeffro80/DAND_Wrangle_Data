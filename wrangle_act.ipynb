{
 "cells": [
  {
   "cell_type": "markdown",
   "metadata": {},
   "source": [
    "### Introduction"
   ]
  },
  {
   "cell_type": "markdown",
   "metadata": {},
   "source": [
    "This project examines the tweet archive for WeRateDogs to draw insights from the dataset regarding the ratings of dogs. The Gather, Assess and Clean process is followed with the aim of answering the following questions:\n",
    "\n",
    "- What type of dogs have the highest ratings?\n",
    "- What dog stage has the highest ratings?\n",
    "- What type of dogs are the most popular in terms of retweet count and favorite count?"
   ]
  },
  {
   "cell_type": "markdown",
   "metadata": {},
   "source": [
    "## Gather"
   ]
  },
  {
   "cell_type": "code",
   "execution_count": 1,
   "metadata": {},
   "outputs": [],
   "source": [
    "import json\n",
    "import numpy as np\n",
    "import os\n",
    "import pandas as pd\n",
    "import re\n",
    "import requests\n",
    "import tweepy\n",
    "from timeit import default_timer as timer\n",
    "from tweepy import OAuthHandler"
   ]
  },
  {
   "cell_type": "code",
   "execution_count": 2,
   "metadata": {},
   "outputs": [],
   "source": [
    "# Load twitter archive file\n",
    "archive_enhanced = pd.read_csv('twitter-archive-enhanced.csv')"
   ]
  },
  {
   "cell_type": "code",
   "execution_count": 3,
   "metadata": {},
   "outputs": [],
   "source": [
    "# Download image-predictions file\n",
    "url = 'https://d17h27t6h515a5.cloudfront.net/topher/2017/August/599fd2ad_image-predictions/image-predictions.tsv'\n",
    "response = requests.get(url)\n",
    "with open('image_predictions.tsv', mode='wb') as file:\n",
    "    file.write(response.content)"
   ]
  },
  {
   "cell_type": "code",
   "execution_count": 4,
   "metadata": {},
   "outputs": [],
   "source": [
    "# Import image predictions file\n",
    "image_predictions = pd.read_csv('image_predictions.tsv', sep='\\t')"
   ]
  },
  {
   "cell_type": "code",
   "execution_count": 5,
   "metadata": {},
   "outputs": [],
   "source": [
    "# Query Twitter API for each tweet in the Twitter archive and save JSON in a text file\n",
    "consumer_key = 'HIDDEN'\n",
    "consumer_secret = 'HIDDEN'\n",
    "access_token = 'HIDDEN'\n",
    "access_secret = 'HIDDEN'\n",
    "\n",
    "auth = OAuthHandler(consumer_key, consumer_secret)\n",
    "auth.set_access_token(access_token, access_secret)\n",
    "\n",
    "api = tweepy.API(auth, wait_on_rate_limit=True, wait_on_rate_limit_notify=True)"
   ]
  },
  {
   "cell_type": "code",
   "execution_count": 6,
   "metadata": {},
   "outputs": [
    {
     "data": {
      "text/plain": [
       "2356"
      ]
     },
     "execution_count": 6,
     "metadata": {},
     "output_type": "execute_result"
    }
   ],
   "source": [
    "# Tweet IDs for which to gather additional data via Twitter's API\n",
    "tweet_ids = archive_enhanced.tweet_id.values\n",
    "len(tweet_ids)"
   ]
  },
  {
   "cell_type": "code",
   "execution_count": 7,
   "metadata": {},
   "outputs": [],
   "source": [
    "# Query Twitter's API for JSON data for each tweet ID in the Twitter archive\n",
    "if not os.path.exists('tweet_json.txt'):\n",
    "    count = 0\n",
    "    fails_dict = {}\n",
    "    start = timer()\n",
    "    # Save each tweet's returned JSON as a new line in a .txt file\n",
    "    with open('tweet_json.txt', 'w') as outfile:\n",
    "        # This loop will likely take 20-30 minutes to run because of Twitter's rate limit\n",
    "        for tweet_id in tweet_ids:\n",
    "            count += 1\n",
    "            print(str(count) + \": \" + str(tweet_id))\n",
    "            try:\n",
    "                tweet = api.get_status(tweet_id, tweet_mode='extended')\n",
    "                print(\"Success\")\n",
    "                json.dump(tweet._json, outfile)\n",
    "                outfile.write('\\n')\n",
    "            except tweepy.TweepError as e:\n",
    "                print(\"Fail\")\n",
    "                fails_dict[tweet_id] = e\n",
    "                pass\n",
    "    end = timer()\n",
    "    print(end - start)\n",
    "    print(fails_dict)\n"
   ]
  },
  {
   "cell_type": "code",
   "execution_count": 8,
   "metadata": {},
   "outputs": [
    {
     "data": {
      "text/plain": [
       "\"\\nimport csv\\nfails_list = []\\nfor key in fails_dict.keys():\\n    fails_list.append(key)\\nfails_list\\nwith open('fails_dict.csv', 'w') as outfile:\\n    wr = csv.writer(outfile, dialect='excel')\\n    wr.writerow(fails_list)\\n\""
      ]
     },
     "execution_count": 8,
     "metadata": {},
     "output_type": "execute_result"
    }
   ],
   "source": [
    "# DELETE\n",
    "# Temp - save fails_dict to file for working with\n",
    "'''\n",
    "import csv\n",
    "fails_list = []\n",
    "for key in fails_dict.keys():\n",
    "    fails_list.append(key)\n",
    "fails_list\n",
    "with open('fails_dict.csv', 'w') as outfile:\n",
    "    wr = csv.writer(outfile, dialect='excel')\n",
    "    wr.writerow(fails_list)\n",
    "'''"
   ]
  },
  {
   "cell_type": "code",
   "execution_count": 9,
   "metadata": {},
   "outputs": [
    {
     "data": {
      "text/plain": [
       "\"\\nfailures = []\\nwith open('fails_dict.csv', 'r') as f:\\n    reader = csv.reader(f)\\n    for line in reader:\\n        failures.append(line)\\n\""
      ]
     },
     "execution_count": 9,
     "metadata": {},
     "output_type": "execute_result"
    }
   ],
   "source": [
    "# DELETE\n",
    "# Working - uncomment out if necessary\n",
    "'''\n",
    "failures = []\n",
    "with open('fails_dict.csv', 'r') as f:\n",
    "    reader = csv.reader(f)\n",
    "    for line in reader:\n",
    "        failures.append(line)\n",
    "'''"
   ]
  },
  {
   "cell_type": "code",
   "execution_count": 10,
   "metadata": {},
   "outputs": [],
   "source": [
    "# Load extended tweet data\n",
    "tweets = []\n",
    "with open('tweet_json.txt') as json_file:\n",
    "    for line in json_file:\n",
    "        tweets.append(json.loads(line))\n",
    "\n",
    "# Place extended tweet data into a dataframe\n",
    "extended_data = pd.DataFrame(tweets)"
   ]
  },
  {
   "cell_type": "markdown",
   "metadata": {},
   "source": [
    "## Assess"
   ]
  },
  {
   "cell_type": "code",
   "execution_count": 11,
   "metadata": {},
   "outputs": [
    {
     "name": "stdout",
     "output_type": "stream",
     "text": [
      "<class 'pandas.core.frame.DataFrame'>\n",
      "RangeIndex: 2356 entries, 0 to 2355\n",
      "Data columns (total 17 columns):\n",
      "tweet_id                      2356 non-null int64\n",
      "in_reply_to_status_id         78 non-null float64\n",
      "in_reply_to_user_id           78 non-null float64\n",
      "timestamp                     2356 non-null object\n",
      "source                        2356 non-null object\n",
      "text                          2356 non-null object\n",
      "retweeted_status_id           181 non-null float64\n",
      "retweeted_status_user_id      181 non-null float64\n",
      "retweeted_status_timestamp    181 non-null object\n",
      "expanded_urls                 2297 non-null object\n",
      "rating_numerator              2356 non-null int64\n",
      "rating_denominator            2356 non-null int64\n",
      "name                          2356 non-null object\n",
      "doggo                         2356 non-null object\n",
      "floofer                       2356 non-null object\n",
      "pupper                        2356 non-null object\n",
      "puppo                         2356 non-null object\n",
      "dtypes: float64(4), int64(3), object(10)\n",
      "memory usage: 313.0+ KB\n"
     ]
    }
   ],
   "source": [
    "# View column types and missing data in twitter_archive_enhanced\n",
    "archive_enhanced.info()"
   ]
  },
  {
   "cell_type": "code",
   "execution_count": 12,
   "metadata": {},
   "outputs": [
    {
     "data": {
      "text/html": [
       "<div>\n",
       "<style scoped>\n",
       "    .dataframe tbody tr th:only-of-type {\n",
       "        vertical-align: middle;\n",
       "    }\n",
       "\n",
       "    .dataframe tbody tr th {\n",
       "        vertical-align: top;\n",
       "    }\n",
       "\n",
       "    .dataframe thead th {\n",
       "        text-align: right;\n",
       "    }\n",
       "</style>\n",
       "<table border=\"1\" class=\"dataframe\">\n",
       "  <thead>\n",
       "    <tr style=\"text-align: right;\">\n",
       "      <th></th>\n",
       "      <th>tweet_id</th>\n",
       "      <th>in_reply_to_status_id</th>\n",
       "      <th>in_reply_to_user_id</th>\n",
       "      <th>timestamp</th>\n",
       "      <th>source</th>\n",
       "      <th>text</th>\n",
       "      <th>retweeted_status_id</th>\n",
       "      <th>retweeted_status_user_id</th>\n",
       "      <th>retweeted_status_timestamp</th>\n",
       "      <th>expanded_urls</th>\n",
       "      <th>rating_numerator</th>\n",
       "      <th>rating_denominator</th>\n",
       "      <th>name</th>\n",
       "      <th>doggo</th>\n",
       "      <th>floofer</th>\n",
       "      <th>pupper</th>\n",
       "      <th>puppo</th>\n",
       "    </tr>\n",
       "  </thead>\n",
       "  <tbody>\n",
       "    <tr>\n",
       "      <th>2170</th>\n",
       "      <td>669351434509529089</td>\n",
       "      <td>NaN</td>\n",
       "      <td>NaN</td>\n",
       "      <td>2015-11-25 03:06:32 +0000</td>\n",
       "      <td>&lt;a href=\"http://twitter.com/download/iphone\" r...</td>\n",
       "      <td>This is Sully. He's a Leviticus Galapagos. Ver...</td>\n",
       "      <td>NaN</td>\n",
       "      <td>NaN</td>\n",
       "      <td>NaN</td>\n",
       "      <td>https://twitter.com/dog_rates/status/669351434...</td>\n",
       "      <td>10</td>\n",
       "      <td>10</td>\n",
       "      <td>Sully</td>\n",
       "      <td>None</td>\n",
       "      <td>None</td>\n",
       "      <td>None</td>\n",
       "      <td>None</td>\n",
       "    </tr>\n",
       "    <tr>\n",
       "      <th>946</th>\n",
       "      <td>752568224206688256</td>\n",
       "      <td>NaN</td>\n",
       "      <td>NaN</td>\n",
       "      <td>2016-07-11 18:20:21 +0000</td>\n",
       "      <td>&lt;a href=\"http://vine.co\" rel=\"nofollow\"&gt;Vine -...</td>\n",
       "      <td>Here are three doggos completely misjudging an...</td>\n",
       "      <td>NaN</td>\n",
       "      <td>NaN</td>\n",
       "      <td>NaN</td>\n",
       "      <td>https://vine.co/v/5W0bdhEUUVT</td>\n",
       "      <td>9</td>\n",
       "      <td>10</td>\n",
       "      <td>None</td>\n",
       "      <td>None</td>\n",
       "      <td>None</td>\n",
       "      <td>None</td>\n",
       "      <td>None</td>\n",
       "    </tr>\n",
       "    <tr>\n",
       "      <th>421</th>\n",
       "      <td>821886076407029760</td>\n",
       "      <td>NaN</td>\n",
       "      <td>NaN</td>\n",
       "      <td>2017-01-19 01:04:45 +0000</td>\n",
       "      <td>&lt;a href=\"http://twitter.com/download/iphone\" r...</td>\n",
       "      <td>This is Jimison. He was just called a good boy...</td>\n",
       "      <td>NaN</td>\n",
       "      <td>NaN</td>\n",
       "      <td>NaN</td>\n",
       "      <td>https://twitter.com/dog_rates/status/821886076...</td>\n",
       "      <td>13</td>\n",
       "      <td>10</td>\n",
       "      <td>Jimison</td>\n",
       "      <td>None</td>\n",
       "      <td>None</td>\n",
       "      <td>None</td>\n",
       "      <td>None</td>\n",
       "    </tr>\n",
       "    <tr>\n",
       "      <th>212</th>\n",
       "      <td>851861385021730816</td>\n",
       "      <td>NaN</td>\n",
       "      <td>NaN</td>\n",
       "      <td>2017-04-11 18:15:55 +0000</td>\n",
       "      <td>&lt;a href=\"http://twitter.com/download/iphone\" r...</td>\n",
       "      <td>RT @eddie_coe98: Thanks @dog_rates completed m...</td>\n",
       "      <td>8.482894e+17</td>\n",
       "      <td>341021133.0</td>\n",
       "      <td>2017-04-01 21:42:03 +0000</td>\n",
       "      <td>https://twitter.com/eddie_coe98/status/8482893...</td>\n",
       "      <td>10</td>\n",
       "      <td>10</td>\n",
       "      <td>None</td>\n",
       "      <td>None</td>\n",
       "      <td>None</td>\n",
       "      <td>None</td>\n",
       "      <td>None</td>\n",
       "    </tr>\n",
       "    <tr>\n",
       "      <th>1340</th>\n",
       "      <td>704859558691414016</td>\n",
       "      <td>NaN</td>\n",
       "      <td>NaN</td>\n",
       "      <td>2016-03-02 02:43:09 +0000</td>\n",
       "      <td>&lt;a href=\"http://twitter.com/download/iphone\" r...</td>\n",
       "      <td>Here is a heartbreaking scene of an incredible...</td>\n",
       "      <td>NaN</td>\n",
       "      <td>NaN</td>\n",
       "      <td>NaN</td>\n",
       "      <td>https://twitter.com/dog_rates/status/704859558...</td>\n",
       "      <td>10</td>\n",
       "      <td>10</td>\n",
       "      <td>a</td>\n",
       "      <td>None</td>\n",
       "      <td>None</td>\n",
       "      <td>pupper</td>\n",
       "      <td>None</td>\n",
       "    </tr>\n",
       "  </tbody>\n",
       "</table>\n",
       "</div>"
      ],
      "text/plain": [
       "                tweet_id  in_reply_to_status_id  in_reply_to_user_id  \\\n",
       "2170  669351434509529089                    NaN                  NaN   \n",
       "946   752568224206688256                    NaN                  NaN   \n",
       "421   821886076407029760                    NaN                  NaN   \n",
       "212   851861385021730816                    NaN                  NaN   \n",
       "1340  704859558691414016                    NaN                  NaN   \n",
       "\n",
       "                      timestamp  \\\n",
       "2170  2015-11-25 03:06:32 +0000   \n",
       "946   2016-07-11 18:20:21 +0000   \n",
       "421   2017-01-19 01:04:45 +0000   \n",
       "212   2017-04-11 18:15:55 +0000   \n",
       "1340  2016-03-02 02:43:09 +0000   \n",
       "\n",
       "                                                 source  \\\n",
       "2170  <a href=\"http://twitter.com/download/iphone\" r...   \n",
       "946   <a href=\"http://vine.co\" rel=\"nofollow\">Vine -...   \n",
       "421   <a href=\"http://twitter.com/download/iphone\" r...   \n",
       "212   <a href=\"http://twitter.com/download/iphone\" r...   \n",
       "1340  <a href=\"http://twitter.com/download/iphone\" r...   \n",
       "\n",
       "                                                   text  retweeted_status_id  \\\n",
       "2170  This is Sully. He's a Leviticus Galapagos. Ver...                  NaN   \n",
       "946   Here are three doggos completely misjudging an...                  NaN   \n",
       "421   This is Jimison. He was just called a good boy...                  NaN   \n",
       "212   RT @eddie_coe98: Thanks @dog_rates completed m...         8.482894e+17   \n",
       "1340  Here is a heartbreaking scene of an incredible...                  NaN   \n",
       "\n",
       "      retweeted_status_user_id retweeted_status_timestamp  \\\n",
       "2170                       NaN                        NaN   \n",
       "946                        NaN                        NaN   \n",
       "421                        NaN                        NaN   \n",
       "212                341021133.0  2017-04-01 21:42:03 +0000   \n",
       "1340                       NaN                        NaN   \n",
       "\n",
       "                                          expanded_urls  rating_numerator  \\\n",
       "2170  https://twitter.com/dog_rates/status/669351434...                10   \n",
       "946                       https://vine.co/v/5W0bdhEUUVT                 9   \n",
       "421   https://twitter.com/dog_rates/status/821886076...                13   \n",
       "212   https://twitter.com/eddie_coe98/status/8482893...                10   \n",
       "1340  https://twitter.com/dog_rates/status/704859558...                10   \n",
       "\n",
       "      rating_denominator     name doggo floofer  pupper puppo  \n",
       "2170                  10    Sully  None    None    None  None  \n",
       "946                   10     None  None    None    None  None  \n",
       "421                   10  Jimison  None    None    None  None  \n",
       "212                   10     None  None    None    None  None  \n",
       "1340                  10        a  None    None  pupper  None  "
      ]
     },
     "execution_count": 12,
     "metadata": {},
     "output_type": "execute_result"
    }
   ],
   "source": [
    "# DETERMINE IF TO KEEP\n",
    "# Visually assess data in archive\n",
    "archive_enhanced.sample(5)"
   ]
  },
  {
   "cell_type": "code",
   "execution_count": 13,
   "metadata": {},
   "outputs": [
    {
     "data": {
      "text/plain": [
       "0"
      ]
     },
     "execution_count": 13,
     "metadata": {},
     "output_type": "execute_result"
    }
   ],
   "source": [
    "# Check for duplicated tweets\n",
    "len(archive_enhanced[archive_enhanced.tweet_id.duplicated()])"
   ]
  },
  {
   "cell_type": "code",
   "execution_count": 14,
   "metadata": {},
   "outputs": [
    {
     "data": {
      "text/plain": [
       "181"
      ]
     },
     "execution_count": 14,
     "metadata": {},
     "output_type": "execute_result"
    }
   ],
   "source": [
    "# Check for inclusion of retweets\n",
    "sum(~archive_enhanced.retweeted_status_id.isnull())"
   ]
  },
  {
   "cell_type": "markdown",
   "metadata": {},
   "source": [
    "There are 181 tweets that are retweets and need to be removed."
   ]
  },
  {
   "cell_type": "code",
   "execution_count": 15,
   "metadata": {},
   "outputs": [
    {
     "data": {
      "text/plain": [
       "0         2\n",
       "1         9\n",
       "2         9\n",
       "3        19\n",
       "4        17\n",
       "5        37\n",
       "6        32\n",
       "7        55\n",
       "8       102\n",
       "9       158\n",
       "10      461\n",
       "11      464\n",
       "12      558\n",
       "13      351\n",
       "14       54\n",
       "15        2\n",
       "17        1\n",
       "20        1\n",
       "24        1\n",
       "26        1\n",
       "27        1\n",
       "44        1\n",
       "45        1\n",
       "50        1\n",
       "60        1\n",
       "75        2\n",
       "80        1\n",
       "84        1\n",
       "88        1\n",
       "99        1\n",
       "121       1\n",
       "143       1\n",
       "144       1\n",
       "165       1\n",
       "182       1\n",
       "204       1\n",
       "420       2\n",
       "666       1\n",
       "960       1\n",
       "1776      1\n",
       "Name: rating_numerator, dtype: int64"
      ]
     },
     "execution_count": 15,
     "metadata": {},
     "output_type": "execute_result"
    }
   ],
   "source": [
    "# Check values for ratings_numerator\n",
    "archive_enhanced.rating_numerator.value_counts().sort_index()"
   ]
  },
  {
   "cell_type": "markdown",
   "metadata": {},
   "source": [
    "All of the numerators are whole numbers however a visual insepction of the data shows that there are some fractional numerators in the dataset."
   ]
  },
  {
   "cell_type": "code",
   "execution_count": 16,
   "metadata": {},
   "outputs": [
    {
     "data": {
      "text/plain": [
       "0         1\n",
       "2         1\n",
       "7         1\n",
       "10     2333\n",
       "11        3\n",
       "15        1\n",
       "16        1\n",
       "20        2\n",
       "40        1\n",
       "50        3\n",
       "70        1\n",
       "80        2\n",
       "90        1\n",
       "110       1\n",
       "120       1\n",
       "130       1\n",
       "150       1\n",
       "170       1\n",
       "Name: rating_denominator, dtype: int64"
      ]
     },
     "execution_count": 16,
     "metadata": {},
     "output_type": "execute_result"
    }
   ],
   "source": [
    "# Check values in rating_denominator - should be 10\n",
    "archive_enhanced.rating_denominator.value_counts().sort_index()"
   ]
  },
  {
   "cell_type": "code",
   "execution_count": 17,
   "metadata": {},
   "outputs": [
    {
     "name": "stdout",
     "output_type": "stream",
     "text": [
      "<class 'pandas.core.frame.DataFrame'>\n",
      "RangeIndex: 2075 entries, 0 to 2074\n",
      "Data columns (total 12 columns):\n",
      "tweet_id    2075 non-null int64\n",
      "jpg_url     2075 non-null object\n",
      "img_num     2075 non-null int64\n",
      "p1          2075 non-null object\n",
      "p1_conf     2075 non-null float64\n",
      "p1_dog      2075 non-null bool\n",
      "p2          2075 non-null object\n",
      "p2_conf     2075 non-null float64\n",
      "p2_dog      2075 non-null bool\n",
      "p3          2075 non-null object\n",
      "p3_conf     2075 non-null float64\n",
      "p3_dog      2075 non-null bool\n",
      "dtypes: bool(3), float64(3), int64(2), object(4)\n",
      "memory usage: 152.1+ KB\n"
     ]
    }
   ],
   "source": [
    "# Examine data types and mising data in image_predictions\n",
    "image_predictions.info()"
   ]
  },
  {
   "cell_type": "code",
   "execution_count": 18,
   "metadata": {},
   "outputs": [
    {
     "data": {
      "text/html": [
       "<div>\n",
       "<style scoped>\n",
       "    .dataframe tbody tr th:only-of-type {\n",
       "        vertical-align: middle;\n",
       "    }\n",
       "\n",
       "    .dataframe tbody tr th {\n",
       "        vertical-align: top;\n",
       "    }\n",
       "\n",
       "    .dataframe thead th {\n",
       "        text-align: right;\n",
       "    }\n",
       "</style>\n",
       "<table border=\"1\" class=\"dataframe\">\n",
       "  <thead>\n",
       "    <tr style=\"text-align: right;\">\n",
       "      <th></th>\n",
       "      <th>tweet_id</th>\n",
       "      <th>jpg_url</th>\n",
       "      <th>img_num</th>\n",
       "      <th>p1</th>\n",
       "      <th>p1_conf</th>\n",
       "      <th>p1_dog</th>\n",
       "      <th>p2</th>\n",
       "      <th>p2_conf</th>\n",
       "      <th>p2_dog</th>\n",
       "      <th>p3</th>\n",
       "      <th>p3_conf</th>\n",
       "      <th>p3_dog</th>\n",
       "    </tr>\n",
       "  </thead>\n",
       "  <tbody>\n",
       "    <tr>\n",
       "      <th>1180</th>\n",
       "      <td>738166403467907072</td>\n",
       "      <td>https://pbs.twimg.com/media/Cj5-aUQUgAAb43p.jpg</td>\n",
       "      <td>2</td>\n",
       "      <td>keeshond</td>\n",
       "      <td>0.878886</td>\n",
       "      <td>True</td>\n",
       "      <td>Norwegian_elkhound</td>\n",
       "      <td>0.086659</td>\n",
       "      <td>True</td>\n",
       "      <td>malamute</td>\n",
       "      <td>0.021280</td>\n",
       "      <td>True</td>\n",
       "    </tr>\n",
       "    <tr>\n",
       "      <th>885</th>\n",
       "      <td>698989035503689728</td>\n",
       "      <td>https://pbs.twimg.com/media/CbNO0DaW0AARcki.jpg</td>\n",
       "      <td>1</td>\n",
       "      <td>Norfolk_terrier</td>\n",
       "      <td>0.246340</td>\n",
       "      <td>True</td>\n",
       "      <td>Irish_terrier</td>\n",
       "      <td>0.243349</td>\n",
       "      <td>True</td>\n",
       "      <td>golden_retriever</td>\n",
       "      <td>0.085871</td>\n",
       "      <td>True</td>\n",
       "    </tr>\n",
       "    <tr>\n",
       "      <th>1579</th>\n",
       "      <td>796177847564038144</td>\n",
       "      <td>https://pbs.twimg.com/media/Cwx99rpW8AMk_Ie.jpg</td>\n",
       "      <td>1</td>\n",
       "      <td>golden_retriever</td>\n",
       "      <td>0.600276</td>\n",
       "      <td>True</td>\n",
       "      <td>Labrador_retriever</td>\n",
       "      <td>0.140798</td>\n",
       "      <td>True</td>\n",
       "      <td>seat_belt</td>\n",
       "      <td>0.087355</td>\n",
       "      <td>False</td>\n",
       "    </tr>\n",
       "    <tr>\n",
       "      <th>1302</th>\n",
       "      <td>752917284578922496</td>\n",
       "      <td>https://pbs.twimg.com/media/CnLmRiYXEAAO_8f.jpg</td>\n",
       "      <td>1</td>\n",
       "      <td>German_shepherd</td>\n",
       "      <td>0.609283</td>\n",
       "      <td>True</td>\n",
       "      <td>malinois</td>\n",
       "      <td>0.352460</td>\n",
       "      <td>True</td>\n",
       "      <td>kelpie</td>\n",
       "      <td>0.016105</td>\n",
       "      <td>True</td>\n",
       "    </tr>\n",
       "    <tr>\n",
       "      <th>421</th>\n",
       "      <td>674045139690631169</td>\n",
       "      <td>https://pbs.twimg.com/media/CVqwedgXIAEAT6A.jpg</td>\n",
       "      <td>1</td>\n",
       "      <td>robin</td>\n",
       "      <td>0.369661</td>\n",
       "      <td>False</td>\n",
       "      <td>rhinoceros_beetle</td>\n",
       "      <td>0.110607</td>\n",
       "      <td>False</td>\n",
       "      <td>European_fire_salamander</td>\n",
       "      <td>0.043178</td>\n",
       "      <td>False</td>\n",
       "    </tr>\n",
       "    <tr>\n",
       "      <th>478</th>\n",
       "      <td>675334060156301312</td>\n",
       "      <td>https://pbs.twimg.com/media/CV9EvZNUwAAgLCK.jpg</td>\n",
       "      <td>2</td>\n",
       "      <td>Pembroke</td>\n",
       "      <td>0.773135</td>\n",
       "      <td>True</td>\n",
       "      <td>Cardigan</td>\n",
       "      <td>0.116810</td>\n",
       "      <td>True</td>\n",
       "      <td>chow</td>\n",
       "      <td>0.039036</td>\n",
       "      <td>True</td>\n",
       "    </tr>\n",
       "    <tr>\n",
       "      <th>1846</th>\n",
       "      <td>839239871831150596</td>\n",
       "      <td>https://pbs.twimg.com/media/C6WUNadWYAAPxHv.jpg</td>\n",
       "      <td>3</td>\n",
       "      <td>Leonberg</td>\n",
       "      <td>0.927021</td>\n",
       "      <td>True</td>\n",
       "      <td>Newfoundland</td>\n",
       "      <td>0.050009</td>\n",
       "      <td>True</td>\n",
       "      <td>Saint_Bernard</td>\n",
       "      <td>0.010728</td>\n",
       "      <td>True</td>\n",
       "    </tr>\n",
       "    <tr>\n",
       "      <th>1268</th>\n",
       "      <td>749417653287129088</td>\n",
       "      <td>https://pbs.twimg.com/media/CmZ3YH9WEAAowi3.jpg</td>\n",
       "      <td>2</td>\n",
       "      <td>papillon</td>\n",
       "      <td>0.772894</td>\n",
       "      <td>True</td>\n",
       "      <td>Shetland_sheepdog</td>\n",
       "      <td>0.042408</td>\n",
       "      <td>True</td>\n",
       "      <td>collie</td>\n",
       "      <td>0.042313</td>\n",
       "      <td>True</td>\n",
       "    </tr>\n",
       "    <tr>\n",
       "      <th>183</th>\n",
       "      <td>669353438988365824</td>\n",
       "      <td>https://pbs.twimg.com/media/CUoFZTyW4AE70iD.jpg</td>\n",
       "      <td>1</td>\n",
       "      <td>teddy</td>\n",
       "      <td>0.379656</td>\n",
       "      <td>False</td>\n",
       "      <td>Pembroke</td>\n",
       "      <td>0.212343</td>\n",
       "      <td>True</td>\n",
       "      <td>chow</td>\n",
       "      <td>0.096995</td>\n",
       "      <td>True</td>\n",
       "    </tr>\n",
       "    <tr>\n",
       "      <th>1439</th>\n",
       "      <td>774639387460112384</td>\n",
       "      <td>https://pbs.twimg.com/media/CsASZqRW8AA3Szw.jpg</td>\n",
       "      <td>1</td>\n",
       "      <td>Walker_hound</td>\n",
       "      <td>0.627593</td>\n",
       "      <td>True</td>\n",
       "      <td>basenji</td>\n",
       "      <td>0.128705</td>\n",
       "      <td>True</td>\n",
       "      <td>Ibizan_hound</td>\n",
       "      <td>0.126282</td>\n",
       "      <td>True</td>\n",
       "    </tr>\n",
       "  </tbody>\n",
       "</table>\n",
       "</div>"
      ],
      "text/plain": [
       "                tweet_id                                          jpg_url  \\\n",
       "1180  738166403467907072  https://pbs.twimg.com/media/Cj5-aUQUgAAb43p.jpg   \n",
       "885   698989035503689728  https://pbs.twimg.com/media/CbNO0DaW0AARcki.jpg   \n",
       "1579  796177847564038144  https://pbs.twimg.com/media/Cwx99rpW8AMk_Ie.jpg   \n",
       "1302  752917284578922496  https://pbs.twimg.com/media/CnLmRiYXEAAO_8f.jpg   \n",
       "421   674045139690631169  https://pbs.twimg.com/media/CVqwedgXIAEAT6A.jpg   \n",
       "478   675334060156301312  https://pbs.twimg.com/media/CV9EvZNUwAAgLCK.jpg   \n",
       "1846  839239871831150596  https://pbs.twimg.com/media/C6WUNadWYAAPxHv.jpg   \n",
       "1268  749417653287129088  https://pbs.twimg.com/media/CmZ3YH9WEAAowi3.jpg   \n",
       "183   669353438988365824  https://pbs.twimg.com/media/CUoFZTyW4AE70iD.jpg   \n",
       "1439  774639387460112384  https://pbs.twimg.com/media/CsASZqRW8AA3Szw.jpg   \n",
       "\n",
       "      img_num                p1   p1_conf  p1_dog                  p2  \\\n",
       "1180        2          keeshond  0.878886    True  Norwegian_elkhound   \n",
       "885         1   Norfolk_terrier  0.246340    True       Irish_terrier   \n",
       "1579        1  golden_retriever  0.600276    True  Labrador_retriever   \n",
       "1302        1   German_shepherd  0.609283    True            malinois   \n",
       "421         1             robin  0.369661   False   rhinoceros_beetle   \n",
       "478         2          Pembroke  0.773135    True            Cardigan   \n",
       "1846        3          Leonberg  0.927021    True        Newfoundland   \n",
       "1268        2          papillon  0.772894    True   Shetland_sheepdog   \n",
       "183         1             teddy  0.379656   False            Pembroke   \n",
       "1439        1      Walker_hound  0.627593    True             basenji   \n",
       "\n",
       "       p2_conf  p2_dog                        p3   p3_conf  p3_dog  \n",
       "1180  0.086659    True                  malamute  0.021280    True  \n",
       "885   0.243349    True          golden_retriever  0.085871    True  \n",
       "1579  0.140798    True                 seat_belt  0.087355   False  \n",
       "1302  0.352460    True                    kelpie  0.016105    True  \n",
       "421   0.110607   False  European_fire_salamander  0.043178   False  \n",
       "478   0.116810    True                      chow  0.039036    True  \n",
       "1846  0.050009    True             Saint_Bernard  0.010728    True  \n",
       "1268  0.042408    True                    collie  0.042313    True  \n",
       "183   0.212343    True                      chow  0.096995    True  \n",
       "1439  0.128705    True              Ibizan_hound  0.126282    True  "
      ]
     },
     "execution_count": 18,
     "metadata": {},
     "output_type": "execute_result"
    }
   ],
   "source": [
    "# DETERMINE IF TO KEEP\n",
    "image_predictions.sample(10)"
   ]
  },
  {
   "cell_type": "code",
   "execution_count": 19,
   "metadata": {},
   "outputs": [
    {
     "name": "stdout",
     "output_type": "stream",
     "text": [
      "<class 'pandas.core.frame.DataFrame'>\n",
      "RangeIndex: 2339 entries, 0 to 2338\n",
      "Data columns (total 32 columns):\n",
      "contributors                     0 non-null object\n",
      "coordinates                      0 non-null object\n",
      "created_at                       2339 non-null object\n",
      "display_text_range               2339 non-null object\n",
      "entities                         2339 non-null object\n",
      "extended_entities                2065 non-null object\n",
      "favorite_count                   2339 non-null int64\n",
      "favorited                        2339 non-null bool\n",
      "full_text                        2339 non-null object\n",
      "geo                              0 non-null object\n",
      "id                               2339 non-null int64\n",
      "id_str                           2339 non-null object\n",
      "in_reply_to_screen_name          77 non-null object\n",
      "in_reply_to_status_id            77 non-null float64\n",
      "in_reply_to_status_id_str        77 non-null object\n",
      "in_reply_to_user_id              77 non-null float64\n",
      "in_reply_to_user_id_str          77 non-null object\n",
      "is_quote_status                  2339 non-null bool\n",
      "lang                             2339 non-null object\n",
      "place                            1 non-null object\n",
      "possibly_sensitive               2203 non-null object\n",
      "possibly_sensitive_appealable    2203 non-null object\n",
      "quoted_status                    24 non-null object\n",
      "quoted_status_id                 26 non-null float64\n",
      "quoted_status_id_str             26 non-null object\n",
      "quoted_status_permalink          26 non-null object\n",
      "retweet_count                    2339 non-null int64\n",
      "retweeted                        2339 non-null bool\n",
      "retweeted_status                 167 non-null object\n",
      "source                           2339 non-null object\n",
      "truncated                        2339 non-null bool\n",
      "user                             2339 non-null object\n",
      "dtypes: bool(4), float64(3), int64(3), object(22)\n",
      "memory usage: 520.9+ KB\n"
     ]
    }
   ],
   "source": [
    "# Check column types and missing values in extended_data\n",
    "extended_data.info()"
   ]
  },
  {
   "cell_type": "code",
   "execution_count": 20,
   "metadata": {},
   "outputs": [
    {
     "data": {
      "text/html": [
       "<div>\n",
       "<style scoped>\n",
       "    .dataframe tbody tr th:only-of-type {\n",
       "        vertical-align: middle;\n",
       "    }\n",
       "\n",
       "    .dataframe tbody tr th {\n",
       "        vertical-align: top;\n",
       "    }\n",
       "\n",
       "    .dataframe thead th {\n",
       "        text-align: right;\n",
       "    }\n",
       "</style>\n",
       "<table border=\"1\" class=\"dataframe\">\n",
       "  <thead>\n",
       "    <tr style=\"text-align: right;\">\n",
       "      <th></th>\n",
       "      <th>contributors</th>\n",
       "      <th>coordinates</th>\n",
       "      <th>created_at</th>\n",
       "      <th>display_text_range</th>\n",
       "      <th>entities</th>\n",
       "      <th>extended_entities</th>\n",
       "      <th>favorite_count</th>\n",
       "      <th>favorited</th>\n",
       "      <th>full_text</th>\n",
       "      <th>geo</th>\n",
       "      <th>...</th>\n",
       "      <th>quoted_status</th>\n",
       "      <th>quoted_status_id</th>\n",
       "      <th>quoted_status_id_str</th>\n",
       "      <th>quoted_status_permalink</th>\n",
       "      <th>retweet_count</th>\n",
       "      <th>retweeted</th>\n",
       "      <th>retweeted_status</th>\n",
       "      <th>source</th>\n",
       "      <th>truncated</th>\n",
       "      <th>user</th>\n",
       "    </tr>\n",
       "  </thead>\n",
       "  <tbody>\n",
       "    <tr>\n",
       "      <th>0</th>\n",
       "      <td>None</td>\n",
       "      <td>None</td>\n",
       "      <td>Tue Aug 01 16:23:56 +0000 2017</td>\n",
       "      <td>[0, 85]</td>\n",
       "      <td>{'hashtags': [], 'symbols': [], 'user_mentions...</td>\n",
       "      <td>{'media': [{'id': 892420639486877696, 'id_str'...</td>\n",
       "      <td>37783</td>\n",
       "      <td>False</td>\n",
       "      <td>This is Phineas. He's a mystical boy. Only eve...</td>\n",
       "      <td>None</td>\n",
       "      <td>...</td>\n",
       "      <td>NaN</td>\n",
       "      <td>NaN</td>\n",
       "      <td>NaN</td>\n",
       "      <td>NaN</td>\n",
       "      <td>8233</td>\n",
       "      <td>False</td>\n",
       "      <td>NaN</td>\n",
       "      <td>&lt;a href=\"http://twitter.com/download/iphone\" r...</td>\n",
       "      <td>False</td>\n",
       "      <td>{'id': 4196983835, 'id_str': '4196983835', 'na...</td>\n",
       "    </tr>\n",
       "    <tr>\n",
       "      <th>1</th>\n",
       "      <td>None</td>\n",
       "      <td>None</td>\n",
       "      <td>Tue Aug 01 00:17:27 +0000 2017</td>\n",
       "      <td>[0, 138]</td>\n",
       "      <td>{'hashtags': [], 'symbols': [], 'user_mentions...</td>\n",
       "      <td>{'media': [{'id': 892177413194625024, 'id_str'...</td>\n",
       "      <td>32453</td>\n",
       "      <td>False</td>\n",
       "      <td>This is Tilly. She's just checking pup on you....</td>\n",
       "      <td>None</td>\n",
       "      <td>...</td>\n",
       "      <td>NaN</td>\n",
       "      <td>NaN</td>\n",
       "      <td>NaN</td>\n",
       "      <td>NaN</td>\n",
       "      <td>6084</td>\n",
       "      <td>False</td>\n",
       "      <td>NaN</td>\n",
       "      <td>&lt;a href=\"http://twitter.com/download/iphone\" r...</td>\n",
       "      <td>False</td>\n",
       "      <td>{'id': 4196983835, 'id_str': '4196983835', 'na...</td>\n",
       "    </tr>\n",
       "    <tr>\n",
       "      <th>2</th>\n",
       "      <td>None</td>\n",
       "      <td>None</td>\n",
       "      <td>Mon Jul 31 00:18:03 +0000 2017</td>\n",
       "      <td>[0, 121]</td>\n",
       "      <td>{'hashtags': [], 'symbols': [], 'user_mentions...</td>\n",
       "      <td>{'media': [{'id': 891815175371796480, 'id_str'...</td>\n",
       "      <td>24437</td>\n",
       "      <td>False</td>\n",
       "      <td>This is Archie. He is a rare Norwegian Pouncin...</td>\n",
       "      <td>None</td>\n",
       "      <td>...</td>\n",
       "      <td>NaN</td>\n",
       "      <td>NaN</td>\n",
       "      <td>NaN</td>\n",
       "      <td>NaN</td>\n",
       "      <td>4027</td>\n",
       "      <td>False</td>\n",
       "      <td>NaN</td>\n",
       "      <td>&lt;a href=\"http://twitter.com/download/iphone\" r...</td>\n",
       "      <td>False</td>\n",
       "      <td>{'id': 4196983835, 'id_str': '4196983835', 'na...</td>\n",
       "    </tr>\n",
       "    <tr>\n",
       "      <th>3</th>\n",
       "      <td>None</td>\n",
       "      <td>None</td>\n",
       "      <td>Sun Jul 30 15:58:51 +0000 2017</td>\n",
       "      <td>[0, 79]</td>\n",
       "      <td>{'hashtags': [], 'symbols': [], 'user_mentions...</td>\n",
       "      <td>{'media': [{'id': 891689552724799489, 'id_str'...</td>\n",
       "      <td>41113</td>\n",
       "      <td>False</td>\n",
       "      <td>This is Darla. She commenced a snooze mid meal...</td>\n",
       "      <td>None</td>\n",
       "      <td>...</td>\n",
       "      <td>NaN</td>\n",
       "      <td>NaN</td>\n",
       "      <td>NaN</td>\n",
       "      <td>NaN</td>\n",
       "      <td>8384</td>\n",
       "      <td>False</td>\n",
       "      <td>NaN</td>\n",
       "      <td>&lt;a href=\"http://twitter.com/download/iphone\" r...</td>\n",
       "      <td>False</td>\n",
       "      <td>{'id': 4196983835, 'id_str': '4196983835', 'na...</td>\n",
       "    </tr>\n",
       "    <tr>\n",
       "      <th>4</th>\n",
       "      <td>None</td>\n",
       "      <td>None</td>\n",
       "      <td>Sat Jul 29 16:00:24 +0000 2017</td>\n",
       "      <td>[0, 138]</td>\n",
       "      <td>{'hashtags': [{'text': 'BarkWeek', 'indices': ...</td>\n",
       "      <td>{'media': [{'id': 891327551943041024, 'id_str'...</td>\n",
       "      <td>39326</td>\n",
       "      <td>False</td>\n",
       "      <td>This is Franklin. He would like you to stop ca...</td>\n",
       "      <td>None</td>\n",
       "      <td>...</td>\n",
       "      <td>NaN</td>\n",
       "      <td>NaN</td>\n",
       "      <td>NaN</td>\n",
       "      <td>NaN</td>\n",
       "      <td>9089</td>\n",
       "      <td>False</td>\n",
       "      <td>NaN</td>\n",
       "      <td>&lt;a href=\"http://twitter.com/download/iphone\" r...</td>\n",
       "      <td>False</td>\n",
       "      <td>{'id': 4196983835, 'id_str': '4196983835', 'na...</td>\n",
       "    </tr>\n",
       "  </tbody>\n",
       "</table>\n",
       "<p>5 rows × 32 columns</p>\n",
       "</div>"
      ],
      "text/plain": [
       "  contributors coordinates                      created_at display_text_range  \\\n",
       "0         None        None  Tue Aug 01 16:23:56 +0000 2017            [0, 85]   \n",
       "1         None        None  Tue Aug 01 00:17:27 +0000 2017           [0, 138]   \n",
       "2         None        None  Mon Jul 31 00:18:03 +0000 2017           [0, 121]   \n",
       "3         None        None  Sun Jul 30 15:58:51 +0000 2017            [0, 79]   \n",
       "4         None        None  Sat Jul 29 16:00:24 +0000 2017           [0, 138]   \n",
       "\n",
       "                                            entities  \\\n",
       "0  {'hashtags': [], 'symbols': [], 'user_mentions...   \n",
       "1  {'hashtags': [], 'symbols': [], 'user_mentions...   \n",
       "2  {'hashtags': [], 'symbols': [], 'user_mentions...   \n",
       "3  {'hashtags': [], 'symbols': [], 'user_mentions...   \n",
       "4  {'hashtags': [{'text': 'BarkWeek', 'indices': ...   \n",
       "\n",
       "                                   extended_entities  favorite_count  \\\n",
       "0  {'media': [{'id': 892420639486877696, 'id_str'...           37783   \n",
       "1  {'media': [{'id': 892177413194625024, 'id_str'...           32453   \n",
       "2  {'media': [{'id': 891815175371796480, 'id_str'...           24437   \n",
       "3  {'media': [{'id': 891689552724799489, 'id_str'...           41113   \n",
       "4  {'media': [{'id': 891327551943041024, 'id_str'...           39326   \n",
       "\n",
       "   favorited                                          full_text   geo  ...  \\\n",
       "0      False  This is Phineas. He's a mystical boy. Only eve...  None  ...   \n",
       "1      False  This is Tilly. She's just checking pup on you....  None  ...   \n",
       "2      False  This is Archie. He is a rare Norwegian Pouncin...  None  ...   \n",
       "3      False  This is Darla. She commenced a snooze mid meal...  None  ...   \n",
       "4      False  This is Franklin. He would like you to stop ca...  None  ...   \n",
       "\n",
       "   quoted_status quoted_status_id quoted_status_id_str  \\\n",
       "0            NaN              NaN                  NaN   \n",
       "1            NaN              NaN                  NaN   \n",
       "2            NaN              NaN                  NaN   \n",
       "3            NaN              NaN                  NaN   \n",
       "4            NaN              NaN                  NaN   \n",
       "\n",
       "   quoted_status_permalink retweet_count  retweeted retweeted_status  \\\n",
       "0                      NaN          8233      False              NaN   \n",
       "1                      NaN          6084      False              NaN   \n",
       "2                      NaN          4027      False              NaN   \n",
       "3                      NaN          8384      False              NaN   \n",
       "4                      NaN          9089      False              NaN   \n",
       "\n",
       "                                              source truncated  \\\n",
       "0  <a href=\"http://twitter.com/download/iphone\" r...     False   \n",
       "1  <a href=\"http://twitter.com/download/iphone\" r...     False   \n",
       "2  <a href=\"http://twitter.com/download/iphone\" r...     False   \n",
       "3  <a href=\"http://twitter.com/download/iphone\" r...     False   \n",
       "4  <a href=\"http://twitter.com/download/iphone\" r...     False   \n",
       "\n",
       "                                                user  \n",
       "0  {'id': 4196983835, 'id_str': '4196983835', 'na...  \n",
       "1  {'id': 4196983835, 'id_str': '4196983835', 'na...  \n",
       "2  {'id': 4196983835, 'id_str': '4196983835', 'na...  \n",
       "3  {'id': 4196983835, 'id_str': '4196983835', 'na...  \n",
       "4  {'id': 4196983835, 'id_str': '4196983835', 'na...  \n",
       "\n",
       "[5 rows x 32 columns]"
      ]
     },
     "execution_count": 20,
     "metadata": {},
     "output_type": "execute_result"
    }
   ],
   "source": [
    "# DETERMINE IF TO KEEP\n",
    "extended_data.head(5)"
   ]
  },
  {
   "cell_type": "code",
   "execution_count": 21,
   "metadata": {},
   "outputs": [
    {
     "data": {
      "text/plain": [
       "167"
      ]
     },
     "execution_count": 21,
     "metadata": {},
     "output_type": "execute_result"
    }
   ],
   "source": [
    "# Find number of retweets in extended_data\n",
    "len(extended_data[~extended_data['retweeted_status'].isnull()])"
   ]
  },
  {
   "cell_type": "markdown",
   "metadata": {},
   "source": [
    "There are 167 tweets that are retweets and will need to be removed from the data."
   ]
  },
  {
   "cell_type": "code",
   "execution_count": 22,
   "metadata": {},
   "outputs": [
    {
     "data": {
      "text/plain": [
       "17    tweet_id\n",
       "dtype: object"
      ]
     },
     "execution_count": 22,
     "metadata": {},
     "output_type": "execute_result"
    }
   ],
   "source": [
    "# Check for duplication between archive_enhanced and image_predictions\n",
    "all_columns = pd.Series(list(archive_enhanced) + list(image_predictions))\n",
    "all_columns[all_columns.duplicated()]"
   ]
  },
  {
   "cell_type": "markdown",
   "metadata": {},
   "source": [
    "Only the tweet_id column was duplicated, which we can use as the link between to two tables."
   ]
  },
  {
   "cell_type": "markdown",
   "metadata": {},
   "source": [
    "#### Quality\n",
    "##### `archive_enhanced` table\n",
    "- data missing such as retweet_count and favorite_count\n",
    "- tweet_id is an int (should be str)\n",
    "- presence of retweets (retweeted_status_id is non-null)\n",
    "- rating_numerator and rating_denominator columns are ints (should be floats)\n",
    "- several incorrect ratings to be corrected\n",
    "\n",
    "##### `image_predictions` table\n",
    "- tweet_id is an int (should be str)\n",
    "- dog names in p1, p2, p3 columns inconsistent - upper and lowercase names, inclusion of underscores etc.\n",
    "- predictions include non-dog objects which should be removed prior to analysis\n",
    "\n",
    "##### `extended_data` table\n",
    "- presence of retweets (retweeted_status is non-null) (Note: will be cleaned at the same time that the archive_enhanced file is cleaned, as the two dataframes will have been merged at that point)."
   ]
  },
  {
   "cell_type": "markdown",
   "metadata": {},
   "source": [
    "#### Tidiness\n",
    "- `archive_enhanced` contains multiple columns for the dog stage which should be one column with the dog stage as the variable\n",
    "- `image_predictions` has multiple predictions per row"
   ]
  },
  {
   "cell_type": "markdown",
   "metadata": {},
   "source": [
    "## Clean"
   ]
  },
  {
   "cell_type": "code",
   "execution_count": 23,
   "metadata": {},
   "outputs": [],
   "source": [
    "# Make copies of each dataframe for cleaning\n",
    "archive_enhanced_clean = archive_enhanced.copy()\n",
    "image_predictions_clean = image_predictions.copy()\n",
    "extended_data_clean = extended_data.copy()"
   ]
  },
  {
   "cell_type": "markdown",
   "metadata": {},
   "source": [
    "### Missing Data"
   ]
  },
  {
   "cell_type": "markdown",
   "metadata": {},
   "source": [
    "#### `extended_info`: favorite_count and retweet_count need to be joined to `archive_enhanced`."
   ]
  },
  {
   "cell_type": "markdown",
   "metadata": {},
   "source": [
    "##### Define\n",
    "- Drop the unwanted columns from `extended_data_clean` so just id, favorite_count and retweet_count remain\n",
    "- Rename id to tweet_id in `extended_data_clean`\n",
    "- Merge `extended_data_clean` with `archive_enhanced_clean` on the tweet_id column, keeping only the rows (tweet_id) that are present in both dataframes"
   ]
  },
  {
   "cell_type": "markdown",
   "metadata": {},
   "source": [
    "##### Code"
   ]
  },
  {
   "cell_type": "code",
   "execution_count": 24,
   "metadata": {},
   "outputs": [
    {
     "data": {
      "text/html": [
       "<div>\n",
       "<style scoped>\n",
       "    .dataframe tbody tr th:only-of-type {\n",
       "        vertical-align: middle;\n",
       "    }\n",
       "\n",
       "    .dataframe tbody tr th {\n",
       "        vertical-align: top;\n",
       "    }\n",
       "\n",
       "    .dataframe thead th {\n",
       "        text-align: right;\n",
       "    }\n",
       "</style>\n",
       "<table border=\"1\" class=\"dataframe\">\n",
       "  <thead>\n",
       "    <tr style=\"text-align: right;\">\n",
       "      <th></th>\n",
       "      <th>tweet_id</th>\n",
       "      <th>favorite_count</th>\n",
       "      <th>retweet_count</th>\n",
       "    </tr>\n",
       "  </thead>\n",
       "  <tbody>\n",
       "    <tr>\n",
       "      <th>0</th>\n",
       "      <td>892420643555336193</td>\n",
       "      <td>37783</td>\n",
       "      <td>8233</td>\n",
       "    </tr>\n",
       "    <tr>\n",
       "      <th>1</th>\n",
       "      <td>892177421306343426</td>\n",
       "      <td>32453</td>\n",
       "      <td>6084</td>\n",
       "    </tr>\n",
       "    <tr>\n",
       "      <th>2</th>\n",
       "      <td>891815181378084864</td>\n",
       "      <td>24437</td>\n",
       "      <td>4027</td>\n",
       "    </tr>\n",
       "    <tr>\n",
       "      <th>3</th>\n",
       "      <td>891689557279858688</td>\n",
       "      <td>41113</td>\n",
       "      <td>8384</td>\n",
       "    </tr>\n",
       "    <tr>\n",
       "      <th>4</th>\n",
       "      <td>891327558926688256</td>\n",
       "      <td>39326</td>\n",
       "      <td>9089</td>\n",
       "    </tr>\n",
       "  </tbody>\n",
       "</table>\n",
       "</div>"
      ],
      "text/plain": [
       "             tweet_id  favorite_count  retweet_count\n",
       "0  892420643555336193           37783           8233\n",
       "1  892177421306343426           32453           6084\n",
       "2  891815181378084864           24437           4027\n",
       "3  891689557279858688           41113           8384\n",
       "4  891327558926688256           39326           9089"
      ]
     },
     "execution_count": 24,
     "metadata": {},
     "output_type": "execute_result"
    }
   ],
   "source": [
    "# Remove unwanted columns\n",
    "columns = ['id', 'favorite_count', 'retweet_count']\n",
    "extended_data_clean = extended_data_clean[columns]\n",
    "\n",
    "# Rename id column\n",
    "extended_data_clean = extended_data_clean.rename(columns={'id':'tweet_id'})\n",
    "extended_data_clean.head()"
   ]
  },
  {
   "cell_type": "code",
   "execution_count": 25,
   "metadata": {},
   "outputs": [],
   "source": [
    "# Merge archive_enhanced_clean and extended_data_clean\n",
    "archive_enhanced_clean = pd.merge(archive_enhanced_clean, \\\n",
    "                                  extended_data_clean, on='tweet_id', how='inner')"
   ]
  },
  {
   "cell_type": "markdown",
   "metadata": {},
   "source": [
    "##### Test"
   ]
  },
  {
   "cell_type": "code",
   "execution_count": 26,
   "metadata": {},
   "outputs": [
    {
     "name": "stdout",
     "output_type": "stream",
     "text": [
      "<class 'pandas.core.frame.DataFrame'>\n",
      "Int64Index: 2339 entries, 0 to 2338\n",
      "Data columns (total 19 columns):\n",
      "tweet_id                      2339 non-null int64\n",
      "in_reply_to_status_id         78 non-null float64\n",
      "in_reply_to_user_id           78 non-null float64\n",
      "timestamp                     2339 non-null object\n",
      "source                        2339 non-null object\n",
      "text                          2339 non-null object\n",
      "retweeted_status_id           167 non-null float64\n",
      "retweeted_status_user_id      167 non-null float64\n",
      "retweeted_status_timestamp    167 non-null object\n",
      "expanded_urls                 2280 non-null object\n",
      "rating_numerator              2339 non-null int64\n",
      "rating_denominator            2339 non-null int64\n",
      "name                          2339 non-null object\n",
      "doggo                         2339 non-null object\n",
      "floofer                       2339 non-null object\n",
      "pupper                        2339 non-null object\n",
      "puppo                         2339 non-null object\n",
      "favorite_count                2339 non-null int64\n",
      "retweet_count                 2339 non-null int64\n",
      "dtypes: float64(4), int64(5), object(10)\n",
      "memory usage: 365.5+ KB\n"
     ]
    }
   ],
   "source": [
    "# Check that retweet_count and favorite_count columns have been added and there are 2339 rows\n",
    "archive_enhanced_clean.info()"
   ]
  },
  {
   "cell_type": "markdown",
   "metadata": {},
   "source": [
    "### Tidiness"
   ]
  },
  {
   "cell_type": "markdown",
   "metadata": {},
   "source": [
    "#### `archive_enhanced` contains multiple columns for the dog stage."
   ]
  },
  {
   "cell_type": "markdown",
   "metadata": {},
   "source": [
    "##### Define\n",
    "- Create a column in `archive_enhanced` called dog_stage that holds the concatenation of each value in the doggo, floofer, pupper and puppo columns.\n",
    "- Extract the correct dog stage from the dog_stage column and update\n",
    "- For entries with more than one correct dog, record these as 'mixed'"
   ]
  },
  {
   "cell_type": "markdown",
   "metadata": {},
   "source": [
    "##### Code"
   ]
  },
  {
   "cell_type": "code",
   "execution_count": 27,
   "metadata": {},
   "outputs": [],
   "source": [
    "# Add dog_stage column and populate with concatenated values for dog stages\n",
    "archive_enhanced_clean['dog_stage'] = archive_enhanced_clean['doggo'] \\\n",
    "    + archive_enhanced_clean['floofer'] + archive_enhanced_clean['pupper'] \\\n",
    "    + archive_enhanced_clean['puppo']"
   ]
  },
  {
   "cell_type": "code",
   "execution_count": 28,
   "metadata": {},
   "outputs": [
    {
     "data": {
      "text/plain": [
       "NoneNoneNoneNone        1961\n",
       "NoneNonepupperNone       244\n",
       "doggoNoneNoneNone         82\n",
       "NoneNoneNonepuppo         29\n",
       "doggoNonepupperNone       12\n",
       "NoneflooferNoneNone        9\n",
       "doggoflooferNoneNone       1\n",
       "doggoNoneNonepuppo         1\n",
       "Name: dog_stage, dtype: int64"
      ]
     },
     "execution_count": 28,
     "metadata": {},
     "output_type": "execute_result"
    }
   ],
   "source": [
    "# Check values present in dog_stage column\n",
    "archive_enhanced_clean['dog_stage'].value_counts()"
   ]
  },
  {
   "cell_type": "code",
   "execution_count": 29,
   "metadata": {},
   "outputs": [],
   "source": [
    "# Function to extract dog_stage\n",
    "def get_dog_stage(current):\n",
    "    '''Extract dog_stage from passed string'''\n",
    "    if current == 'NoneNoneNoneNone':\n",
    "        return 'None'\n",
    "    elif current == 'doggoNoneNoneNone':\n",
    "        return 'doggo'\n",
    "    elif current == 'NoneflooferNoneNone':\n",
    "        return 'floofer'\n",
    "    elif current == 'NoneNonepupperNone':\n",
    "        return 'pupper'\n",
    "    elif current == 'NoneNoneNonepuppo':\n",
    "        return 'puppo'\n",
    "    else:\n",
    "        return 'mixed'"
   ]
  },
  {
   "cell_type": "code",
   "execution_count": 30,
   "metadata": {},
   "outputs": [],
   "source": [
    "# Update dog_stage column with call to get_dog_stage()\n",
    "archive_enhanced_clean['dog_stage'] = archive_enhanced_clean['dog_stage'].apply(get_dog_stage)\n",
    "# Drop individual dog style columns\n",
    "archive_enhanced_clean = archive_enhanced_clean.drop(['doggo', 'puppo', 'pupper', \\\n",
    "                                                      'floofer'], axis=1)"
   ]
  },
  {
   "cell_type": "markdown",
   "metadata": {},
   "source": [
    "##### Test"
   ]
  },
  {
   "cell_type": "code",
   "execution_count": 31,
   "metadata": {},
   "outputs": [
    {
     "data": {
      "text/plain": [
       "None       1961\n",
       "pupper      244\n",
       "doggo        82\n",
       "puppo        29\n",
       "mixed        14\n",
       "floofer       9\n",
       "Name: dog_stage, dtype: int64"
      ]
     },
     "execution_count": 31,
     "metadata": {},
     "output_type": "execute_result"
    }
   ],
   "source": [
    "# Confirm that column has been updated correctly\n",
    "archive_enhanced_clean['dog_stage'].value_counts()"
   ]
  },
  {
   "cell_type": "code",
   "execution_count": 32,
   "metadata": {},
   "outputs": [
    {
     "name": "stdout",
     "output_type": "stream",
     "text": [
      "<class 'pandas.core.frame.DataFrame'>\n",
      "Int64Index: 2339 entries, 0 to 2338\n",
      "Data columns (total 16 columns):\n",
      "tweet_id                      2339 non-null int64\n",
      "in_reply_to_status_id         78 non-null float64\n",
      "in_reply_to_user_id           78 non-null float64\n",
      "timestamp                     2339 non-null object\n",
      "source                        2339 non-null object\n",
      "text                          2339 non-null object\n",
      "retweeted_status_id           167 non-null float64\n",
      "retweeted_status_user_id      167 non-null float64\n",
      "retweeted_status_timestamp    167 non-null object\n",
      "expanded_urls                 2280 non-null object\n",
      "rating_numerator              2339 non-null int64\n",
      "rating_denominator            2339 non-null int64\n",
      "name                          2339 non-null object\n",
      "favorite_count                2339 non-null int64\n",
      "retweet_count                 2339 non-null int64\n",
      "dog_stage                     2339 non-null object\n",
      "dtypes: float64(4), int64(5), object(7)\n",
      "memory usage: 310.6+ KB\n"
     ]
    }
   ],
   "source": [
    "# Confirm that old dog stage columns have been dropped\n",
    "archive_enhanced_clean.info()"
   ]
  },
  {
   "cell_type": "markdown",
   "metadata": {},
   "source": [
    "#### `image_predictions` has multiple predictions per row."
   ]
  },
  {
   "cell_type": "markdown",
   "metadata": {},
   "source": [
    "##### Define\n",
    "- Create separate dataframes from `image_predictions_clean` for p1, p2 and p3 data and keep only tweet_id, img_num, and the columns for that probability (`p1_df`, `p2_df`, `p3_df`)\n",
    "- For each new dataframe, create a column that holds the p_order value (e.g. 1 for p1)\n",
    "- Rename p1 column to 'p_type'\n",
    "- Rename p1-conf to 'p_confidence'\n",
    "- Rename p1_dog to 'p_dog'\n",
    "- Repeat for p2 and p3\n",
    "- Append `p2` to `p1`\n",
    "- Append `p3` to `p1`\n",
    "- Store `p1` as `image_predictions_clean`"
   ]
  },
  {
   "cell_type": "markdown",
   "metadata": {},
   "source": [
    "##### Code"
   ]
  },
  {
   "cell_type": "code",
   "execution_count": 33,
   "metadata": {},
   "outputs": [],
   "source": [
    "# Create new dataframes\n",
    "p1_df = image_predictions_clean[['tweet_id', 'img_num', 'p1', 'p1_conf', 'p1_dog']]\n",
    "p2_df = image_predictions_clean[['tweet_id', 'img_num', 'p2', 'p2_conf', 'p2_dog']]\n",
    "p3_df = image_predictions_clean[['tweet_id', 'img_num', 'p3', 'p3_conf', 'p3_dog']]\n",
    "\n",
    "# Rename p columns so consistent\n",
    "p1_df = p1_df.rename(columns={'p1':'p_type', 'p1_conf':'p_conf', 'p1_dog':'p_dog'})\n",
    "p2_df = p2_df.rename(columns={'p2':'p_type', 'p2_conf':'p_conf', 'p2_dog':'p_dog'})\n",
    "p3_df = p3_df.rename(columns={'p3':'p_type', 'p3_conf':'p_conf', 'p3_dog':'p_dog'})\n",
    "\n",
    "# Append tables and then assign to image_predictions_clean\n",
    "p1_df = p1_df.append(p2_df)\n",
    "p1_df = p1_df.append(p3_df)\n",
    "image_predictions_clean = p1_df"
   ]
  },
  {
   "cell_type": "markdown",
   "metadata": {},
   "source": [
    "##### Test"
   ]
  },
  {
   "cell_type": "code",
   "execution_count": 34,
   "metadata": {},
   "outputs": [
    {
     "name": "stdout",
     "output_type": "stream",
     "text": [
      "<class 'pandas.core.frame.DataFrame'>\n",
      "Int64Index: 6225 entries, 0 to 2074\n",
      "Data columns (total 5 columns):\n",
      "tweet_id    6225 non-null int64\n",
      "img_num     6225 non-null int64\n",
      "p_type      6225 non-null object\n",
      "p_conf      6225 non-null float64\n",
      "p_dog       6225 non-null bool\n",
      "dtypes: bool(1), float64(1), int64(2), object(1)\n",
      "memory usage: 249.2+ KB\n"
     ]
    }
   ],
   "source": [
    "# Test dataframe contains correct columns (tweet_id, img_num, p_type, p_conf, p_dog)\n",
    "image_predictions_clean.info()"
   ]
  },
  {
   "cell_type": "code",
   "execution_count": 35,
   "metadata": {},
   "outputs": [
    {
     "data": {
      "text/html": [
       "<div>\n",
       "<style scoped>\n",
       "    .dataframe tbody tr th:only-of-type {\n",
       "        vertical-align: middle;\n",
       "    }\n",
       "\n",
       "    .dataframe tbody tr th {\n",
       "        vertical-align: top;\n",
       "    }\n",
       "\n",
       "    .dataframe thead th {\n",
       "        text-align: right;\n",
       "    }\n",
       "</style>\n",
       "<table border=\"1\" class=\"dataframe\">\n",
       "  <thead>\n",
       "    <tr style=\"text-align: right;\">\n",
       "      <th></th>\n",
       "      <th>tweet_id</th>\n",
       "      <th>img_num</th>\n",
       "      <th>p_type</th>\n",
       "      <th>p_conf</th>\n",
       "      <th>p_dog</th>\n",
       "    </tr>\n",
       "  </thead>\n",
       "  <tbody>\n",
       "    <tr>\n",
       "      <th>1078</th>\n",
       "      <td>717790033953034240</td>\n",
       "      <td>1</td>\n",
       "      <td>cab</td>\n",
       "      <td>0.034846</td>\n",
       "      <td>False</td>\n",
       "    </tr>\n",
       "    <tr>\n",
       "      <th>567</th>\n",
       "      <td>678341075375947776</td>\n",
       "      <td>1</td>\n",
       "      <td>golden_retriever</td>\n",
       "      <td>0.853284</td>\n",
       "      <td>True</td>\n",
       "    </tr>\n",
       "    <tr>\n",
       "      <th>1864</th>\n",
       "      <td>842892208864923648</td>\n",
       "      <td>1</td>\n",
       "      <td>Pomeranian</td>\n",
       "      <td>0.120358</td>\n",
       "      <td>True</td>\n",
       "    </tr>\n",
       "    <tr>\n",
       "      <th>1637</th>\n",
       "      <td>806542213899489280</td>\n",
       "      <td>1</td>\n",
       "      <td>Chesapeake_Bay_retriever</td>\n",
       "      <td>0.003971</td>\n",
       "      <td>True</td>\n",
       "    </tr>\n",
       "    <tr>\n",
       "      <th>802</th>\n",
       "      <td>691459709405118465</td>\n",
       "      <td>1</td>\n",
       "      <td>Shetland_sheepdog</td>\n",
       "      <td>0.551206</td>\n",
       "      <td>True</td>\n",
       "    </tr>\n",
       "    <tr>\n",
       "      <th>1563</th>\n",
       "      <td>793601777308463104</td>\n",
       "      <td>1</td>\n",
       "      <td>Chihuahua</td>\n",
       "      <td>0.217830</td>\n",
       "      <td>True</td>\n",
       "    </tr>\n",
       "    <tr>\n",
       "      <th>780</th>\n",
       "      <td>689977555533848577</td>\n",
       "      <td>1</td>\n",
       "      <td>sombrero</td>\n",
       "      <td>0.121493</td>\n",
       "      <td>False</td>\n",
       "    </tr>\n",
       "    <tr>\n",
       "      <th>104</th>\n",
       "      <td>667832474953625600</td>\n",
       "      <td>1</td>\n",
       "      <td>bath_towel</td>\n",
       "      <td>0.146789</td>\n",
       "      <td>False</td>\n",
       "    </tr>\n",
       "    <tr>\n",
       "      <th>1784</th>\n",
       "      <td>829141528400556032</td>\n",
       "      <td>2</td>\n",
       "      <td>gibbon</td>\n",
       "      <td>0.094127</td>\n",
       "      <td>False</td>\n",
       "    </tr>\n",
       "    <tr>\n",
       "      <th>203</th>\n",
       "      <td>669749430875258880</td>\n",
       "      <td>1</td>\n",
       "      <td>washbasin</td>\n",
       "      <td>0.245794</td>\n",
       "      <td>False</td>\n",
       "    </tr>\n",
       "  </tbody>\n",
       "</table>\n",
       "</div>"
      ],
      "text/plain": [
       "                tweet_id  img_num                    p_type    p_conf  p_dog\n",
       "1078  717790033953034240        1                       cab  0.034846  False\n",
       "567   678341075375947776        1          golden_retriever  0.853284   True\n",
       "1864  842892208864923648        1                Pomeranian  0.120358   True\n",
       "1637  806542213899489280        1  Chesapeake_Bay_retriever  0.003971   True\n",
       "802   691459709405118465        1         Shetland_sheepdog  0.551206   True\n",
       "1563  793601777308463104        1                 Chihuahua  0.217830   True\n",
       "780   689977555533848577        1                  sombrero  0.121493  False\n",
       "104   667832474953625600        1                bath_towel  0.146789  False\n",
       "1784  829141528400556032        2                    gibbon  0.094127  False\n",
       "203   669749430875258880        1                 washbasin  0.245794  False"
      ]
     },
     "execution_count": 35,
     "metadata": {},
     "output_type": "execute_result"
    }
   ],
   "source": [
    "# Test data correct\n",
    "image_predictions_clean.sample(10)"
   ]
  },
  {
   "cell_type": "markdown",
   "metadata": {},
   "source": [
    "### Quality"
   ]
  },
  {
   "cell_type": "markdown",
   "metadata": {},
   "source": [
    "#### `archive_enhanced`: tweet_id is an int"
   ]
  },
  {
   "cell_type": "markdown",
   "metadata": {},
   "source": [
    "##### Define\n",
    "- Convert tweet_id column to str using .astype()"
   ]
  },
  {
   "cell_type": "markdown",
   "metadata": {},
   "source": [
    "##### Code"
   ]
  },
  {
   "cell_type": "code",
   "execution_count": 36,
   "metadata": {},
   "outputs": [],
   "source": [
    "archive_enhanced_clean.tweet_id = archive_enhanced_clean.tweet_id.astype(str)"
   ]
  },
  {
   "cell_type": "markdown",
   "metadata": {},
   "source": [
    "##### Test"
   ]
  },
  {
   "cell_type": "code",
   "execution_count": 37,
   "metadata": {},
   "outputs": [
    {
     "data": {
      "text/plain": [
       "dtype('O')"
      ]
     },
     "execution_count": 37,
     "metadata": {},
     "output_type": "execute_result"
    }
   ],
   "source": [
    "# Check that tweet_id is an object ('O')\n",
    "archive_enhanced_clean.tweet_id.dtype"
   ]
  },
  {
   "cell_type": "markdown",
   "metadata": {},
   "source": [
    "#### `image_predictions`: tweet_id is an int"
   ]
  },
  {
   "cell_type": "markdown",
   "metadata": {},
   "source": [
    "##### Define\n",
    "- Convert tweet_id column to str using .astype()"
   ]
  },
  {
   "cell_type": "markdown",
   "metadata": {},
   "source": [
    "##### Code"
   ]
  },
  {
   "cell_type": "code",
   "execution_count": 38,
   "metadata": {},
   "outputs": [],
   "source": [
    "image_predictions_clean.tweet_id = image_predictions_clean.tweet_id.astype(str)"
   ]
  },
  {
   "cell_type": "markdown",
   "metadata": {},
   "source": [
    "##### Test"
   ]
  },
  {
   "cell_type": "code",
   "execution_count": 39,
   "metadata": {},
   "outputs": [
    {
     "data": {
      "text/plain": [
       "dtype('O')"
      ]
     },
     "execution_count": 39,
     "metadata": {},
     "output_type": "execute_result"
    }
   ],
   "source": [
    "# Check that tweet_id is an object ('O')\n",
    "image_predictions_clean.tweet_id.dtype"
   ]
  },
  {
   "cell_type": "markdown",
   "metadata": {},
   "source": [
    "#### `archive_enhanced`: presence of retweets"
   ]
  },
  {
   "cell_type": "markdown",
   "metadata": {},
   "source": [
    "##### Define\n",
    "- Remove rows where retweeted_status_id != null (presence of a value means that the row is a retweet)"
   ]
  },
  {
   "cell_type": "markdown",
   "metadata": {},
   "source": [
    "##### Code"
   ]
  },
  {
   "cell_type": "code",
   "execution_count": 40,
   "metadata": {},
   "outputs": [
    {
     "data": {
      "text/plain": [
       "(2339, 16)"
      ]
     },
     "execution_count": 40,
     "metadata": {},
     "output_type": "execute_result"
    }
   ],
   "source": [
    "# Check the number of rows in archive_enhanced_clean\n",
    "archive_enhanced_clean.shape"
   ]
  },
  {
   "cell_type": "code",
   "execution_count": 41,
   "metadata": {},
   "outputs": [
    {
     "data": {
      "text/plain": [
       "2172"
      ]
     },
     "execution_count": 41,
     "metadata": {},
     "output_type": "execute_result"
    }
   ],
   "source": [
    "# Check the number of null rows in retweeted_status_id (i.e. non-retweets) \n",
    "sum(archive_enhanced_clean['retweeted_status_id'].isnull())"
   ]
  },
  {
   "cell_type": "code",
   "execution_count": 42,
   "metadata": {},
   "outputs": [],
   "source": [
    "# Remove non-null rows (retweeted_status_id) from archive_enhanced\n",
    "archive_enhanced_clean = archive_enhanced_clean[archive_enhanced_clean[\n",
    "    'retweeted_status_id'].isnull()]"
   ]
  },
  {
   "cell_type": "markdown",
   "metadata": {},
   "source": [
    "##### Test"
   ]
  },
  {
   "cell_type": "code",
   "execution_count": 43,
   "metadata": {},
   "outputs": [
    {
     "data": {
      "text/plain": [
       "(2172, 16)"
      ]
     },
     "execution_count": 43,
     "metadata": {},
     "output_type": "execute_result"
    }
   ],
   "source": [
    "# Check that number of rows = 2172\n",
    "archive_enhanced_clean.shape"
   ]
  },
  {
   "cell_type": "code",
   "execution_count": 44,
   "metadata": {},
   "outputs": [
    {
     "data": {
      "text/plain": [
       "0"
      ]
     },
     "execution_count": 44,
     "metadata": {},
     "output_type": "execute_result"
    }
   ],
   "source": [
    "# Check that there are no rows with a non-null value in the retweeted_satus_id column\n",
    "sum(~archive_enhanced_clean['retweeted_status_id'].isnull())"
   ]
  },
  {
   "cell_type": "markdown",
   "metadata": {},
   "source": [
    "#### rating_numerator and rating_denominator columns are ints"
   ]
  },
  {
   "cell_type": "markdown",
   "metadata": {},
   "source": [
    "##### Define\n",
    "- Convert rating_numerator and rating_denominator columns to float using .astype()"
   ]
  },
  {
   "cell_type": "markdown",
   "metadata": {},
   "source": [
    "##### Code"
   ]
  },
  {
   "cell_type": "code",
   "execution_count": 45,
   "metadata": {},
   "outputs": [],
   "source": [
    "# Convert each column to an int\n",
    "archive_enhanced_clean.rating_numerator = archive_enhanced_clean.rating_numerator.astype(float)\n",
    "archive_enhanced_clean.rating_denominator = archive_enhanced_clean.rating_denominator.astype(float)"
   ]
  },
  {
   "cell_type": "markdown",
   "metadata": {},
   "source": [
    "##### Test"
   ]
  },
  {
   "cell_type": "code",
   "execution_count": 46,
   "metadata": {},
   "outputs": [
    {
     "name": "stdout",
     "output_type": "stream",
     "text": [
      "<class 'pandas.core.frame.DataFrame'>\n",
      "Int64Index: 2172 entries, 0 to 2338\n",
      "Data columns (total 16 columns):\n",
      "tweet_id                      2172 non-null object\n",
      "in_reply_to_status_id         78 non-null float64\n",
      "in_reply_to_user_id           78 non-null float64\n",
      "timestamp                     2172 non-null object\n",
      "source                        2172 non-null object\n",
      "text                          2172 non-null object\n",
      "retweeted_status_id           0 non-null float64\n",
      "retweeted_status_user_id      0 non-null float64\n",
      "retweeted_status_timestamp    0 non-null object\n",
      "expanded_urls                 2114 non-null object\n",
      "rating_numerator              2172 non-null float64\n",
      "rating_denominator            2172 non-null float64\n",
      "name                          2172 non-null object\n",
      "favorite_count                2172 non-null int64\n",
      "retweet_count                 2172 non-null int64\n",
      "dog_stage                     2172 non-null object\n",
      "dtypes: float64(6), int64(2), object(8)\n",
      "memory usage: 288.5+ KB\n"
     ]
    }
   ],
   "source": [
    "# Test that column types have changed to float\n",
    "archive_enhanced_clean.info()"
   ]
  },
  {
   "cell_type": "markdown",
   "metadata": {},
   "source": [
    "#### Incorrect ratings (numerators and denominators)"
   ]
  },
  {
   "cell_type": "markdown",
   "metadata": {},
   "source": [
    "##### Define\n",
    "- Write a regex to find the numerator and denominator from the text column\n",
    "- Save as floats to numerator and denominator columns"
   ]
  },
  {
   "cell_type": "markdown",
   "metadata": {},
   "source": [
    "##### Code"
   ]
  },
  {
   "cell_type": "code",
   "execution_count": 47,
   "metadata": {},
   "outputs": [
    {
     "data": {
      "text/plain": [
       "0.0         2\n",
       "1.0         8\n",
       "2.0         9\n",
       "3.0        19\n",
       "4.0        17\n",
       "5.0        36\n",
       "6.0        32\n",
       "7.0        54\n",
       "8.0        98\n",
       "9.0       156\n",
       "10.0      441\n",
       "11.0      426\n",
       "12.0      499\n",
       "13.0      306\n",
       "14.0       43\n",
       "15.0        1\n",
       "17.0        1\n",
       "20.0        1\n",
       "24.0        1\n",
       "26.0        1\n",
       "27.0        1\n",
       "44.0        1\n",
       "45.0        1\n",
       "50.0        1\n",
       "60.0        1\n",
       "75.0        1\n",
       "80.0        1\n",
       "84.0        1\n",
       "88.0        1\n",
       "99.0        1\n",
       "121.0       1\n",
       "143.0       1\n",
       "144.0       1\n",
       "165.0       1\n",
       "182.0       1\n",
       "204.0       1\n",
       "420.0       2\n",
       "666.0       1\n",
       "960.0       1\n",
       "1776.0      1\n",
       "Name: rating_numerator, dtype: int64"
      ]
     },
     "execution_count": 47,
     "metadata": {},
     "output_type": "execute_result"
    }
   ],
   "source": [
    "# Get value counts for ratings_numerator\n",
    "archive_enhanced_clean.rating_numerator.value_counts().sort_index()"
   ]
  },
  {
   "cell_type": "code",
   "execution_count": 48,
   "metadata": {},
   "outputs": [],
   "source": [
    "# Use a regex to include the fraction for the numerator\n",
    "correct_numerator = archive_enhanced_clean.text.str.extract('((?:\\d+\\.)?\\d+)\\/(\\d+)', expand=True)\n",
    "archive_enhanced_clean['rating_numerator'] = correct_numerator\n",
    "\n",
    "# Convert the rating_numerator column back to a float\n",
    "archive_enhanced_clean['rating_numerator'] = archive_enhanced_clean['rating_numerator'].astype(float)"
   ]
  },
  {
   "cell_type": "markdown",
   "metadata": {},
   "source": [
    "##### Test"
   ]
  },
  {
   "cell_type": "code",
   "execution_count": 49,
   "metadata": {},
   "outputs": [
    {
     "data": {
      "text/plain": [
       "0.00         2\n",
       "1.00         8\n",
       "2.00         9\n",
       "3.00        19\n",
       "4.00        17\n",
       "5.00        34\n",
       "6.00        32\n",
       "7.00        54\n",
       "8.00        98\n",
       "9.00       156\n",
       "9.50         1\n",
       "9.75         1\n",
       "10.00      441\n",
       "11.00      426\n",
       "11.26        1\n",
       "11.27        1\n",
       "12.00      499\n",
       "13.00      306\n",
       "13.50        1\n",
       "14.00       43\n",
       "15.00        1\n",
       "17.00        1\n",
       "20.00        1\n",
       "24.00        1\n",
       "44.00        1\n",
       "45.00        1\n",
       "50.00        1\n",
       "60.00        1\n",
       "80.00        1\n",
       "84.00        1\n",
       "88.00        1\n",
       "99.00        1\n",
       "121.00       1\n",
       "143.00       1\n",
       "144.00       1\n",
       "165.00       1\n",
       "182.00       1\n",
       "204.00       1\n",
       "420.00       2\n",
       "666.00       1\n",
       "960.00       1\n",
       "1776.00      1\n",
       "Name: rating_numerator, dtype: int64"
      ]
     },
     "execution_count": 49,
     "metadata": {},
     "output_type": "execute_result"
    }
   ],
   "source": [
    "archive_enhanced_clean.rating_numerator.value_counts().sort_index()"
   ]
  },
  {
   "cell_type": "markdown",
   "metadata": {},
   "source": [
    "We can see that there are now some fractional numerators included such as 9.5, 9.75 and 11.26"
   ]
  },
  {
   "cell_type": "code",
   "execution_count": 50,
   "metadata": {},
   "outputs": [
    {
     "name": "stdout",
     "output_type": "stream",
     "text": [
      "<class 'pandas.core.frame.DataFrame'>\n",
      "Int64Index: 2172 entries, 0 to 2338\n",
      "Data columns (total 16 columns):\n",
      "tweet_id                      2172 non-null object\n",
      "in_reply_to_status_id         78 non-null float64\n",
      "in_reply_to_user_id           78 non-null float64\n",
      "timestamp                     2172 non-null object\n",
      "source                        2172 non-null object\n",
      "text                          2172 non-null object\n",
      "retweeted_status_id           0 non-null float64\n",
      "retweeted_status_user_id      0 non-null float64\n",
      "retweeted_status_timestamp    0 non-null object\n",
      "expanded_urls                 2114 non-null object\n",
      "rating_numerator              2172 non-null float64\n",
      "rating_denominator            2172 non-null float64\n",
      "name                          2172 non-null object\n",
      "favorite_count                2172 non-null int64\n",
      "retweet_count                 2172 non-null int64\n",
      "dog_stage                     2172 non-null object\n",
      "dtypes: float64(6), int64(2), object(8)\n",
      "memory usage: 288.5+ KB\n"
     ]
    }
   ],
   "source": [
    "archive_enhanced_clean.info()"
   ]
  },
  {
   "cell_type": "markdown",
   "metadata": {},
   "source": [
    "#### Inconsistent format for dog names in p columns of `image_predictions`."
   ]
  },
  {
   "cell_type": "markdown",
   "metadata": {},
   "source": [
    "##### Define\n",
    "- Replace _ with ' ' in p_type column of `image_predictions_clean`\n",
    "- Capitalise each word in p_type column of `image_predictions_clean`"
   ]
  },
  {
   "cell_type": "markdown",
   "metadata": {},
   "source": [
    "##### Code"
   ]
  },
  {
   "cell_type": "code",
   "execution_count": 51,
   "metadata": {},
   "outputs": [],
   "source": [
    "# Replace '_'\n",
    "image_predictions_clean.p_type = image_predictions_clean.p_type.str.replace(\"_\", \" \")\n",
    "\n",
    "# Capitalize first letters of each word\n",
    "image_predictions_clean.p_type = image_predictions_clean.p_type.str.title()"
   ]
  },
  {
   "cell_type": "markdown",
   "metadata": {},
   "source": [
    "##### Test"
   ]
  },
  {
   "cell_type": "code",
   "execution_count": 52,
   "metadata": {},
   "outputs": [
    {
     "data": {
      "text/html": [
       "<div>\n",
       "<style scoped>\n",
       "    .dataframe tbody tr th:only-of-type {\n",
       "        vertical-align: middle;\n",
       "    }\n",
       "\n",
       "    .dataframe tbody tr th {\n",
       "        vertical-align: top;\n",
       "    }\n",
       "\n",
       "    .dataframe thead th {\n",
       "        text-align: right;\n",
       "    }\n",
       "</style>\n",
       "<table border=\"1\" class=\"dataframe\">\n",
       "  <thead>\n",
       "    <tr style=\"text-align: right;\">\n",
       "      <th></th>\n",
       "      <th>tweet_id</th>\n",
       "      <th>img_num</th>\n",
       "      <th>p_type</th>\n",
       "      <th>p_conf</th>\n",
       "      <th>p_dog</th>\n",
       "    </tr>\n",
       "  </thead>\n",
       "  <tbody>\n",
       "    <tr>\n",
       "      <th>279</th>\n",
       "      <td>671109016219725825</td>\n",
       "      <td>1</td>\n",
       "      <td>Toy Terrier</td>\n",
       "      <td>0.029258</td>\n",
       "      <td>True</td>\n",
       "    </tr>\n",
       "    <tr>\n",
       "      <th>78</th>\n",
       "      <td>667443425659232256</td>\n",
       "      <td>1</td>\n",
       "      <td>Goose</td>\n",
       "      <td>0.980815</td>\n",
       "      <td>False</td>\n",
       "    </tr>\n",
       "    <tr>\n",
       "      <th>1946</th>\n",
       "      <td>862457590147678208</td>\n",
       "      <td>1</td>\n",
       "      <td>Studio Couch</td>\n",
       "      <td>0.167256</td>\n",
       "      <td>False</td>\n",
       "    </tr>\n",
       "    <tr>\n",
       "      <th>1532</th>\n",
       "      <td>789628658055020548</td>\n",
       "      <td>1</td>\n",
       "      <td>Cougar</td>\n",
       "      <td>0.088143</td>\n",
       "      <td>False</td>\n",
       "    </tr>\n",
       "    <tr>\n",
       "      <th>693</th>\n",
       "      <td>684225744407494656</td>\n",
       "      <td>2</td>\n",
       "      <td>Golden Retriever</td>\n",
       "      <td>0.203249</td>\n",
       "      <td>True</td>\n",
       "    </tr>\n",
       "    <tr>\n",
       "      <th>1145</th>\n",
       "      <td>730427201120833536</td>\n",
       "      <td>1</td>\n",
       "      <td>Staffordshire Bullterrier</td>\n",
       "      <td>0.008771</td>\n",
       "      <td>True</td>\n",
       "    </tr>\n",
       "    <tr>\n",
       "      <th>311</th>\n",
       "      <td>671544874165002241</td>\n",
       "      <td>1</td>\n",
       "      <td>Wool</td>\n",
       "      <td>0.040674</td>\n",
       "      <td>False</td>\n",
       "    </tr>\n",
       "    <tr>\n",
       "      <th>1135</th>\n",
       "      <td>728751179681943552</td>\n",
       "      <td>1</td>\n",
       "      <td>Saint Bernard</td>\n",
       "      <td>0.482050</td>\n",
       "      <td>True</td>\n",
       "    </tr>\n",
       "    <tr>\n",
       "      <th>1476</th>\n",
       "      <td>780496263422808064</td>\n",
       "      <td>1</td>\n",
       "      <td>Pug</td>\n",
       "      <td>0.997310</td>\n",
       "      <td>True</td>\n",
       "    </tr>\n",
       "    <tr>\n",
       "      <th>232</th>\n",
       "      <td>670417414769758208</td>\n",
       "      <td>1</td>\n",
       "      <td>Porcupine</td>\n",
       "      <td>0.460565</td>\n",
       "      <td>False</td>\n",
       "    </tr>\n",
       "    <tr>\n",
       "      <th>93</th>\n",
       "      <td>667549055577362432</td>\n",
       "      <td>1</td>\n",
       "      <td>Lampshade</td>\n",
       "      <td>0.001901</td>\n",
       "      <td>False</td>\n",
       "    </tr>\n",
       "    <tr>\n",
       "      <th>344</th>\n",
       "      <td>672267570918129665</td>\n",
       "      <td>1</td>\n",
       "      <td>Miniature Pinscher</td>\n",
       "      <td>0.051234</td>\n",
       "      <td>True</td>\n",
       "    </tr>\n",
       "    <tr>\n",
       "      <th>919</th>\n",
       "      <td>701889187134500865</td>\n",
       "      <td>1</td>\n",
       "      <td>French Bulldog</td>\n",
       "      <td>0.902856</td>\n",
       "      <td>True</td>\n",
       "    </tr>\n",
       "    <tr>\n",
       "      <th>1329</th>\n",
       "      <td>757596066325864448</td>\n",
       "      <td>1</td>\n",
       "      <td>Wallet</td>\n",
       "      <td>0.095718</td>\n",
       "      <td>False</td>\n",
       "    </tr>\n",
       "    <tr>\n",
       "      <th>595</th>\n",
       "      <td>679511351870550016</td>\n",
       "      <td>1</td>\n",
       "      <td>Chihuahua</td>\n",
       "      <td>0.761972</td>\n",
       "      <td>True</td>\n",
       "    </tr>\n",
       "  </tbody>\n",
       "</table>\n",
       "</div>"
      ],
      "text/plain": [
       "                tweet_id  img_num                     p_type    p_conf  p_dog\n",
       "279   671109016219725825        1                Toy Terrier  0.029258   True\n",
       "78    667443425659232256        1                      Goose  0.980815  False\n",
       "1946  862457590147678208        1               Studio Couch  0.167256  False\n",
       "1532  789628658055020548        1                     Cougar  0.088143  False\n",
       "693   684225744407494656        2           Golden Retriever  0.203249   True\n",
       "1145  730427201120833536        1  Staffordshire Bullterrier  0.008771   True\n",
       "311   671544874165002241        1                       Wool  0.040674  False\n",
       "1135  728751179681943552        1              Saint Bernard  0.482050   True\n",
       "1476  780496263422808064        1                        Pug  0.997310   True\n",
       "232   670417414769758208        1                  Porcupine  0.460565  False\n",
       "93    667549055577362432        1                  Lampshade  0.001901  False\n",
       "344   672267570918129665        1         Miniature Pinscher  0.051234   True\n",
       "919   701889187134500865        1             French Bulldog  0.902856   True\n",
       "1329  757596066325864448        1                     Wallet  0.095718  False\n",
       "595   679511351870550016        1                  Chihuahua  0.761972   True"
      ]
     },
     "execution_count": 52,
     "metadata": {},
     "output_type": "execute_result"
    }
   ],
   "source": [
    "image_predictions_clean.sample(15)"
   ]
  },
  {
   "cell_type": "markdown",
   "metadata": {},
   "source": [
    "#### Predictions include non-dog objects in `image_predictions`."
   ]
  },
  {
   "cell_type": "markdown",
   "metadata": {},
   "source": [
    "##### Define\n",
    "- Drop rows where p_dog == False in `image_predictions_clean`"
   ]
  },
  {
   "cell_type": "markdown",
   "metadata": {},
   "source": [
    "##### Code"
   ]
  },
  {
   "cell_type": "code",
   "execution_count": 53,
   "metadata": {},
   "outputs": [
    {
     "data": {
      "text/plain": [
       "(6225, 5)"
      ]
     },
     "execution_count": 53,
     "metadata": {},
     "output_type": "execute_result"
    }
   ],
   "source": [
    "# Get initial rows in image_predictions_clean\n",
    "image_predictions_clean.shape"
   ]
  },
  {
   "cell_type": "code",
   "execution_count": 54,
   "metadata": {},
   "outputs": [],
   "source": [
    "# Keep only rows where 'p_dog' == True\n",
    "image_predictions_clean = image_predictions_clean[image_predictions_clean['p_dog'] == True]"
   ]
  },
  {
   "cell_type": "markdown",
   "metadata": {},
   "source": [
    "##### Test"
   ]
  },
  {
   "cell_type": "code",
   "execution_count": 55,
   "metadata": {},
   "outputs": [
    {
     "data": {
      "text/plain": [
       "(4584, 5)"
      ]
     },
     "execution_count": 55,
     "metadata": {},
     "output_type": "execute_result"
    }
   ],
   "source": [
    "# Test that rows have been dropped\n",
    "image_predictions_clean.shape"
   ]
  },
  {
   "cell_type": "code",
   "execution_count": 56,
   "metadata": {},
   "outputs": [
    {
     "data": {
      "text/plain": [
       "True    4584\n",
       "Name: p_dog, dtype: int64"
      ]
     },
     "execution_count": 56,
     "metadata": {},
     "output_type": "execute_result"
    }
   ],
   "source": [
    "# Test that there are no False in 'p_dog' column\n",
    "image_predictions_clean.p_dog.value_counts()"
   ]
  },
  {
   "cell_type": "markdown",
   "metadata": {},
   "source": [
    "## Storage"
   ]
  },
  {
   "cell_type": "markdown",
   "metadata": {},
   "source": [
    "(store each table as a csv file with main file called tiwtter_archive_master.csv)"
   ]
  },
  {
   "cell_type": "code",
   "execution_count": null,
   "metadata": {},
   "outputs": [],
   "source": []
  },
  {
   "cell_type": "markdown",
   "metadata": {},
   "source": [
    "## Analysis"
   ]
  },
  {
   "cell_type": "markdown",
   "metadata": {},
   "source": [
    "(make at least 3 insights)"
   ]
  }
 ],
 "metadata": {
  "kernelspec": {
   "display_name": "Python 3",
   "language": "python",
   "name": "python3"
  },
  "language_info": {
   "codemirror_mode": {
    "name": "ipython",
    "version": 3
   },
   "file_extension": ".py",
   "mimetype": "text/x-python",
   "name": "python",
   "nbconvert_exporter": "python",
   "pygments_lexer": "ipython3",
   "version": "3.6.8"
  }
 },
 "nbformat": 4,
 "nbformat_minor": 2
}
