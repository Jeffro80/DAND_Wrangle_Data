{
 "cells": [
  {
   "cell_type": "markdown",
   "metadata": {},
   "source": [
    "### Introduction"
   ]
  },
  {
   "cell_type": "markdown",
   "metadata": {},
   "source": [
    "This project examines the tweet archive for WeRateDogs to draw insights from the dataset regarding the ratings of dogs. The Gather, Assess and Clean process is followed with the aim of answering the following questions:\n",
    "\n",
    "- What type of dogs have the highest ratings?\n",
    "- What dog stage has the highest ratings?\n",
    "- What type of dogs are the most popular in terms of retweet count and favorite count?"
   ]
  },
  {
   "cell_type": "markdown",
   "metadata": {},
   "source": [
    "## Gather"
   ]
  },
  {
   "cell_type": "code",
   "execution_count": 1,
   "metadata": {},
   "outputs": [],
   "source": [
    "import json\n",
    "import numpy as np\n",
    "import os\n",
    "import pandas as pd\n",
    "import requests\n",
    "import tweepy\n",
    "from timeit import default_timer as timer\n",
    "from tweepy import OAuthHandler"
   ]
  },
  {
   "cell_type": "code",
   "execution_count": 2,
   "metadata": {},
   "outputs": [],
   "source": [
    "# Load twitter archive file\n",
    "twitter_archive_enhanced = pd.read_csv('twitter-archive-enhanced.csv')"
   ]
  },
  {
   "cell_type": "code",
   "execution_count": 3,
   "metadata": {},
   "outputs": [],
   "source": [
    "# Download image-predictions file\n",
    "url = 'https://d17h27t6h515a5.cloudfront.net/topher/2017/August/599fd2ad_image-predictions/image-predictions.tsv'\n",
    "response = requests.get(url)\n",
    "with open('image_predictions.tsv', mode='wb') as file:\n",
    "    file.write(response.content)"
   ]
  },
  {
   "cell_type": "code",
   "execution_count": 4,
   "metadata": {},
   "outputs": [],
   "source": [
    "# Import image predictions file\n",
    "image_predictions = pd.read_csv('image_predictions.tsv', sep='\\t')"
   ]
  },
  {
   "cell_type": "code",
   "execution_count": 5,
   "metadata": {},
   "outputs": [],
   "source": [
    "# Query Twitter API for each tweet in the Twitter archive and save JSON in a text file\n",
    "consumer_key = 'HIDDEN'\n",
    "consumer_secret = 'HIDDEN'\n",
    "access_token = 'HIDDEN'\n",
    "access_secret = 'HIDDEN'\n",
    "\n",
    "auth = OAuthHandler(consumer_key, consumer_secret)\n",
    "auth.set_access_token(access_token, access_secret)\n",
    "\n",
    "api = tweepy.API(auth, wait_on_rate_limit=True, wait_on_rate_limit_notify=True)"
   ]
  },
  {
   "cell_type": "code",
   "execution_count": 6,
   "metadata": {},
   "outputs": [
    {
     "data": {
      "text/plain": [
       "2356"
      ]
     },
     "execution_count": 6,
     "metadata": {},
     "output_type": "execute_result"
    }
   ],
   "source": [
    "# Tweet IDs for which to gather additional data via Twitter's API\n",
    "tweet_ids = twitter_archive_enhanced.tweet_id.values\n",
    "len(tweet_ids)"
   ]
  },
  {
   "cell_type": "code",
   "execution_count": 7,
   "metadata": {},
   "outputs": [],
   "source": [
    "# Query Twitter's API for JSON data for each tweet ID in the Twitter archive\n",
    "if not os.path.exists('tweet_json.txt'):\n",
    "    count = 0\n",
    "    fails_dict = {}\n",
    "    start = timer()\n",
    "    # Save each tweet's returned JSON as a new line in a .txt file\n",
    "    with open('tweet_json.txt', 'w') as outfile:\n",
    "        # This loop will likely take 20-30 minutes to run because of Twitter's rate limit\n",
    "        for tweet_id in tweet_ids:\n",
    "            count += 1\n",
    "            print(str(count) + \": \" + str(tweet_id))\n",
    "            try:\n",
    "                tweet = api.get_status(tweet_id, tweet_mode='extended')\n",
    "                print(\"Success\")\n",
    "                json.dump(tweet._json, outfile)\n",
    "                outfile.write('\\n')\n",
    "            except tweepy.TweepError as e:\n",
    "                print(\"Fail\")\n",
    "                fails_dict[tweet_id] = e\n",
    "                pass\n",
    "    end = timer()\n",
    "    print(end - start)\n",
    "    print(fails_dict)\n"
   ]
  },
  {
   "cell_type": "code",
   "execution_count": 8,
   "metadata": {},
   "outputs": [
    {
     "data": {
      "text/plain": [
       "\"\\nimport csv\\nfails_list = []\\nfor key in fails_dict.keys():\\n    fails_list.append(key)\\nfails_list\\nwith open('fails_dict.csv', 'w') as outfile:\\n    wr = csv.writer(outfile, dialect='excel')\\n    wr.writerow(fails_list)\\n\""
      ]
     },
     "execution_count": 8,
     "metadata": {},
     "output_type": "execute_result"
    }
   ],
   "source": [
    "# DELETE\n",
    "# Temp - save fails_dict to file for working with\n",
    "'''\n",
    "import csv\n",
    "fails_list = []\n",
    "for key in fails_dict.keys():\n",
    "    fails_list.append(key)\n",
    "fails_list\n",
    "with open('fails_dict.csv', 'w') as outfile:\n",
    "    wr = csv.writer(outfile, dialect='excel')\n",
    "    wr.writerow(fails_list)\n",
    "'''"
   ]
  },
  {
   "cell_type": "code",
   "execution_count": 9,
   "metadata": {},
   "outputs": [
    {
     "data": {
      "text/plain": [
       "\"\\nfailures = []\\nwith open('fails_dict.csv', 'r') as f:\\n    reader = csv.reader(f)\\n    for line in reader:\\n        failures.append(line)\\n\""
      ]
     },
     "execution_count": 9,
     "metadata": {},
     "output_type": "execute_result"
    }
   ],
   "source": [
    "# DELETE\n",
    "# Working - uncomment out if necessary\n",
    "'''\n",
    "failures = []\n",
    "with open('fails_dict.csv', 'r') as f:\n",
    "    reader = csv.reader(f)\n",
    "    for line in reader:\n",
    "        failures.append(line)\n",
    "'''"
   ]
  },
  {
   "cell_type": "code",
   "execution_count": 10,
   "metadata": {},
   "outputs": [],
   "source": [
    "# Load extended tweet data\n",
    "tweets = []\n",
    "with open('tweet_json.txt') as json_file:\n",
    "    for line in json_file:\n",
    "        tweets.append(json.loads(line))\n",
    "\n",
    "# Place extended tweet data into a dataframe\n",
    "extended_data = pd.DataFrame(tweets)"
   ]
  },
  {
   "cell_type": "markdown",
   "metadata": {},
   "source": [
    "## Assess"
   ]
  },
  {
   "cell_type": "code",
   "execution_count": 11,
   "metadata": {},
   "outputs": [
    {
     "name": "stdout",
     "output_type": "stream",
     "text": [
      "<class 'pandas.core.frame.DataFrame'>\n",
      "RangeIndex: 2356 entries, 0 to 2355\n",
      "Data columns (total 17 columns):\n",
      "tweet_id                      2356 non-null int64\n",
      "in_reply_to_status_id         78 non-null float64\n",
      "in_reply_to_user_id           78 non-null float64\n",
      "timestamp                     2356 non-null object\n",
      "source                        2356 non-null object\n",
      "text                          2356 non-null object\n",
      "retweeted_status_id           181 non-null float64\n",
      "retweeted_status_user_id      181 non-null float64\n",
      "retweeted_status_timestamp    181 non-null object\n",
      "expanded_urls                 2297 non-null object\n",
      "rating_numerator              2356 non-null int64\n",
      "rating_denominator            2356 non-null int64\n",
      "name                          2356 non-null object\n",
      "doggo                         2356 non-null object\n",
      "floofer                       2356 non-null object\n",
      "pupper                        2356 non-null object\n",
      "puppo                         2356 non-null object\n",
      "dtypes: float64(4), int64(3), object(10)\n",
      "memory usage: 313.0+ KB\n"
     ]
    }
   ],
   "source": [
    "# View column types and missing data in twitter_archive_enhanced\n",
    "twitter_archive_enhanced.info()"
   ]
  },
  {
   "cell_type": "code",
   "execution_count": 12,
   "metadata": {},
   "outputs": [
    {
     "data": {
      "text/html": [
       "<div>\n",
       "<style scoped>\n",
       "    .dataframe tbody tr th:only-of-type {\n",
       "        vertical-align: middle;\n",
       "    }\n",
       "\n",
       "    .dataframe tbody tr th {\n",
       "        vertical-align: top;\n",
       "    }\n",
       "\n",
       "    .dataframe thead th {\n",
       "        text-align: right;\n",
       "    }\n",
       "</style>\n",
       "<table border=\"1\" class=\"dataframe\">\n",
       "  <thead>\n",
       "    <tr style=\"text-align: right;\">\n",
       "      <th></th>\n",
       "      <th>tweet_id</th>\n",
       "      <th>in_reply_to_status_id</th>\n",
       "      <th>in_reply_to_user_id</th>\n",
       "      <th>timestamp</th>\n",
       "      <th>source</th>\n",
       "      <th>text</th>\n",
       "      <th>retweeted_status_id</th>\n",
       "      <th>retweeted_status_user_id</th>\n",
       "      <th>retweeted_status_timestamp</th>\n",
       "      <th>expanded_urls</th>\n",
       "      <th>rating_numerator</th>\n",
       "      <th>rating_denominator</th>\n",
       "      <th>name</th>\n",
       "      <th>doggo</th>\n",
       "      <th>floofer</th>\n",
       "      <th>pupper</th>\n",
       "      <th>puppo</th>\n",
       "    </tr>\n",
       "  </thead>\n",
       "  <tbody>\n",
       "    <tr>\n",
       "      <th>1075</th>\n",
       "      <td>739623569819336705</td>\n",
       "      <td>NaN</td>\n",
       "      <td>NaN</td>\n",
       "      <td>2016-06-06 01:02:55 +0000</td>\n",
       "      <td>&lt;a href=\"http://vine.co\" rel=\"nofollow\"&gt;Vine -...</td>\n",
       "      <td>Here's a doggo that don't need no human. 12/10...</td>\n",
       "      <td>NaN</td>\n",
       "      <td>NaN</td>\n",
       "      <td>NaN</td>\n",
       "      <td>https://vine.co/v/iY9Fr1I31U6</td>\n",
       "      <td>12</td>\n",
       "      <td>10</td>\n",
       "      <td>None</td>\n",
       "      <td>doggo</td>\n",
       "      <td>None</td>\n",
       "      <td>None</td>\n",
       "      <td>None</td>\n",
       "    </tr>\n",
       "    <tr>\n",
       "      <th>78</th>\n",
       "      <td>877611172832227328</td>\n",
       "      <td>NaN</td>\n",
       "      <td>NaN</td>\n",
       "      <td>2017-06-21 19:36:23 +0000</td>\n",
       "      <td>&lt;a href=\"http://twitter.com/download/iphone\" r...</td>\n",
       "      <td>RT @rachel2195: @dog_rates the boyfriend and h...</td>\n",
       "      <td>8.768508e+17</td>\n",
       "      <td>512804507.0</td>\n",
       "      <td>2017-06-19 17:14:49 +0000</td>\n",
       "      <td>https://twitter.com/rachel2195/status/87685077...</td>\n",
       "      <td>14</td>\n",
       "      <td>10</td>\n",
       "      <td>None</td>\n",
       "      <td>None</td>\n",
       "      <td>None</td>\n",
       "      <td>pupper</td>\n",
       "      <td>None</td>\n",
       "    </tr>\n",
       "    <tr>\n",
       "      <th>2045</th>\n",
       "      <td>671528761649688577</td>\n",
       "      <td>NaN</td>\n",
       "      <td>NaN</td>\n",
       "      <td>2015-12-01 03:18:27 +0000</td>\n",
       "      <td>&lt;a href=\"http://twitter.com/download/iphone\" r...</td>\n",
       "      <td>Meet Jax. He's in the middle of a serious conv...</td>\n",
       "      <td>NaN</td>\n",
       "      <td>NaN</td>\n",
       "      <td>NaN</td>\n",
       "      <td>https://twitter.com/dog_rates/status/671528761...</td>\n",
       "      <td>10</td>\n",
       "      <td>10</td>\n",
       "      <td>Jax</td>\n",
       "      <td>None</td>\n",
       "      <td>None</td>\n",
       "      <td>None</td>\n",
       "      <td>None</td>\n",
       "    </tr>\n",
       "    <tr>\n",
       "      <th>1434</th>\n",
       "      <td>697270446429966336</td>\n",
       "      <td>NaN</td>\n",
       "      <td>NaN</td>\n",
       "      <td>2016-02-10 04:06:43 +0000</td>\n",
       "      <td>&lt;a href=\"http://twitter.com/download/iphone\" r...</td>\n",
       "      <td>This is Bentley. He got stuck on his 3rd homew...</td>\n",
       "      <td>NaN</td>\n",
       "      <td>NaN</td>\n",
       "      <td>NaN</td>\n",
       "      <td>https://twitter.com/dog_rates/status/697270446...</td>\n",
       "      <td>10</td>\n",
       "      <td>10</td>\n",
       "      <td>Bentley</td>\n",
       "      <td>None</td>\n",
       "      <td>None</td>\n",
       "      <td>None</td>\n",
       "      <td>None</td>\n",
       "    </tr>\n",
       "    <tr>\n",
       "      <th>1251</th>\n",
       "      <td>710997087345876993</td>\n",
       "      <td>NaN</td>\n",
       "      <td>NaN</td>\n",
       "      <td>2016-03-19 01:11:29 +0000</td>\n",
       "      <td>&lt;a href=\"http://twitter.com/download/iphone\" r...</td>\n",
       "      <td>Meet Milo and Amos. They are the best of pals....</td>\n",
       "      <td>NaN</td>\n",
       "      <td>NaN</td>\n",
       "      <td>NaN</td>\n",
       "      <td>https://twitter.com/dog_rates/status/710997087...</td>\n",
       "      <td>12</td>\n",
       "      <td>10</td>\n",
       "      <td>Milo</td>\n",
       "      <td>None</td>\n",
       "      <td>None</td>\n",
       "      <td>None</td>\n",
       "      <td>None</td>\n",
       "    </tr>\n",
       "  </tbody>\n",
       "</table>\n",
       "</div>"
      ],
      "text/plain": [
       "                tweet_id  in_reply_to_status_id  in_reply_to_user_id  \\\n",
       "1075  739623569819336705                    NaN                  NaN   \n",
       "78    877611172832227328                    NaN                  NaN   \n",
       "2045  671528761649688577                    NaN                  NaN   \n",
       "1434  697270446429966336                    NaN                  NaN   \n",
       "1251  710997087345876993                    NaN                  NaN   \n",
       "\n",
       "                      timestamp  \\\n",
       "1075  2016-06-06 01:02:55 +0000   \n",
       "78    2017-06-21 19:36:23 +0000   \n",
       "2045  2015-12-01 03:18:27 +0000   \n",
       "1434  2016-02-10 04:06:43 +0000   \n",
       "1251  2016-03-19 01:11:29 +0000   \n",
       "\n",
       "                                                 source  \\\n",
       "1075  <a href=\"http://vine.co\" rel=\"nofollow\">Vine -...   \n",
       "78    <a href=\"http://twitter.com/download/iphone\" r...   \n",
       "2045  <a href=\"http://twitter.com/download/iphone\" r...   \n",
       "1434  <a href=\"http://twitter.com/download/iphone\" r...   \n",
       "1251  <a href=\"http://twitter.com/download/iphone\" r...   \n",
       "\n",
       "                                                   text  retweeted_status_id  \\\n",
       "1075  Here's a doggo that don't need no human. 12/10...                  NaN   \n",
       "78    RT @rachel2195: @dog_rates the boyfriend and h...         8.768508e+17   \n",
       "2045  Meet Jax. He's in the middle of a serious conv...                  NaN   \n",
       "1434  This is Bentley. He got stuck on his 3rd homew...                  NaN   \n",
       "1251  Meet Milo and Amos. They are the best of pals....                  NaN   \n",
       "\n",
       "      retweeted_status_user_id retweeted_status_timestamp  \\\n",
       "1075                       NaN                        NaN   \n",
       "78                 512804507.0  2017-06-19 17:14:49 +0000   \n",
       "2045                       NaN                        NaN   \n",
       "1434                       NaN                        NaN   \n",
       "1251                       NaN                        NaN   \n",
       "\n",
       "                                          expanded_urls  rating_numerator  \\\n",
       "1075                      https://vine.co/v/iY9Fr1I31U6                12   \n",
       "78    https://twitter.com/rachel2195/status/87685077...                14   \n",
       "2045  https://twitter.com/dog_rates/status/671528761...                10   \n",
       "1434  https://twitter.com/dog_rates/status/697270446...                10   \n",
       "1251  https://twitter.com/dog_rates/status/710997087...                12   \n",
       "\n",
       "      rating_denominator     name  doggo floofer  pupper puppo  \n",
       "1075                  10     None  doggo    None    None  None  \n",
       "78                    10     None   None    None  pupper  None  \n",
       "2045                  10      Jax   None    None    None  None  \n",
       "1434                  10  Bentley   None    None    None  None  \n",
       "1251                  10     Milo   None    None    None  None  "
      ]
     },
     "execution_count": 12,
     "metadata": {},
     "output_type": "execute_result"
    }
   ],
   "source": [
    "# DETERMINE IF TO KEEP\n",
    "# Visually assess data in archive\n",
    "twitter_archive_enhanced.sample(5)"
   ]
  },
  {
   "cell_type": "code",
   "execution_count": 13,
   "metadata": {},
   "outputs": [
    {
     "data": {
      "text/plain": [
       "0"
      ]
     },
     "execution_count": 13,
     "metadata": {},
     "output_type": "execute_result"
    }
   ],
   "source": [
    "# Check for duplicated tweets\n",
    "len(twitter_archive_enhanced[twitter_archive_enhanced.tweet_id.duplicated()])"
   ]
  },
  {
   "cell_type": "code",
   "execution_count": 14,
   "metadata": {},
   "outputs": [
    {
     "data": {
      "text/plain": [
       "181"
      ]
     },
     "execution_count": 14,
     "metadata": {},
     "output_type": "execute_result"
    }
   ],
   "source": [
    "# Check for inclusion of retweets\n",
    "sum(~twitter_archive_enhanced.retweeted_status_id.isnull())"
   ]
  },
  {
   "cell_type": "markdown",
   "metadata": {},
   "source": [
    "There are 181 tweets that are retweets and need to be removed."
   ]
  },
  {
   "cell_type": "code",
   "execution_count": 15,
   "metadata": {},
   "outputs": [
    {
     "data": {
      "text/plain": [
       "0         1\n",
       "2         1\n",
       "7         1\n",
       "10     2333\n",
       "11        3\n",
       "15        1\n",
       "16        1\n",
       "20        2\n",
       "40        1\n",
       "50        3\n",
       "70        1\n",
       "80        2\n",
       "90        1\n",
       "110       1\n",
       "120       1\n",
       "130       1\n",
       "150       1\n",
       "170       1\n",
       "Name: rating_denominator, dtype: int64"
      ]
     },
     "execution_count": 15,
     "metadata": {},
     "output_type": "execute_result"
    }
   ],
   "source": [
    "# Check values in rating_denominator - should be 10\n",
    "twitter_archive_enhanced.rating_denominator.value_counts().sort_index()"
   ]
  },
  {
   "cell_type": "code",
   "execution_count": 16,
   "metadata": {},
   "outputs": [
    {
     "data": {
      "text/plain": [
       "[835246439529840640,\n",
       " 832088576586297345,\n",
       " 820690176645140481,\n",
       " 810984652412424192,\n",
       " 775096608509886464,\n",
       " 758467244762497024,\n",
       " 740373189193256964,\n",
       " 731156023742988288,\n",
       " 722974582966214656,\n",
       " 716439118184652801,\n",
       " 713900603437621249,\n",
       " 710658690886586372,\n",
       " 709198395643068416,\n",
       " 704054845121142784,\n",
       " 697463031882764288,\n",
       " 686035780142297088,\n",
       " 684225744407494656,\n",
       " 684222868335505415,\n",
       " 682962037429899265,\n",
       " 682808988178739200,\n",
       " 677716515794329600,\n",
       " 675853064436391936,\n",
       " 666287406224695296]"
      ]
     },
     "execution_count": 16,
     "metadata": {},
     "output_type": "execute_result"
    }
   ],
   "source": [
    "# Check for incorrect rating_denominator values\n",
    "incorrect_denominators = twitter_archive_enhanced[twitter_archive_enhanced['rating_denominator'] != 10]\n",
    "list(incorrect_denominators['tweet_id'])"
   ]
  },
  {
   "cell_type": "markdown",
   "metadata": {},
   "source": [
    "Some incorrect denominators were found:\n",
    "\n",
    "- 835246439529840640 should be 13 numerator and 10 denominator\n",
    "- 832088576586297345 does not contain a rating and should be dropped\n",
    "- 810984652412424192 does not contain a rating and should be dropped\n",
    "- 775096608509886464 is a retweet and will be deleted\n",
    "- 740373189193256964 should be 14 numerator 10 denominator\n",
    "- 722974582966214656 should be 13 numerator and 10 denominator\n",
    "- 716439118184652801 should be 11 numerator and 10 denominator\n",
    "- 686035780142297088 does not contain a rating and should be dropped\n",
    "- 682962037429899265 should be 10 numerator and 10 denominator\n",
    "- 682808988178739200 does not contain a rating and should be dropped\n",
    "- 666287406224695296 should be 9 numerator and 10 denominator\n",
    "\n",
    "Others from the list are accurate although they do not have 10 as a denominator."
   ]
  },
  {
   "cell_type": "code",
   "execution_count": 17,
   "metadata": {},
   "outputs": [
    {
     "name": "stdout",
     "output_type": "stream",
     "text": [
      "<class 'pandas.core.frame.DataFrame'>\n",
      "RangeIndex: 2075 entries, 0 to 2074\n",
      "Data columns (total 12 columns):\n",
      "tweet_id    2075 non-null int64\n",
      "jpg_url     2075 non-null object\n",
      "img_num     2075 non-null int64\n",
      "p1          2075 non-null object\n",
      "p1_conf     2075 non-null float64\n",
      "p1_dog      2075 non-null bool\n",
      "p2          2075 non-null object\n",
      "p2_conf     2075 non-null float64\n",
      "p2_dog      2075 non-null bool\n",
      "p3          2075 non-null object\n",
      "p3_conf     2075 non-null float64\n",
      "p3_dog      2075 non-null bool\n",
      "dtypes: bool(3), float64(3), int64(2), object(4)\n",
      "memory usage: 152.1+ KB\n"
     ]
    }
   ],
   "source": [
    "# Examine data types and mising data in image_predictions\n",
    "image_predictions.info()"
   ]
  },
  {
   "cell_type": "code",
   "execution_count": 18,
   "metadata": {},
   "outputs": [
    {
     "data": {
      "text/html": [
       "<div>\n",
       "<style scoped>\n",
       "    .dataframe tbody tr th:only-of-type {\n",
       "        vertical-align: middle;\n",
       "    }\n",
       "\n",
       "    .dataframe tbody tr th {\n",
       "        vertical-align: top;\n",
       "    }\n",
       "\n",
       "    .dataframe thead th {\n",
       "        text-align: right;\n",
       "    }\n",
       "</style>\n",
       "<table border=\"1\" class=\"dataframe\">\n",
       "  <thead>\n",
       "    <tr style=\"text-align: right;\">\n",
       "      <th></th>\n",
       "      <th>tweet_id</th>\n",
       "      <th>jpg_url</th>\n",
       "      <th>img_num</th>\n",
       "      <th>p1</th>\n",
       "      <th>p1_conf</th>\n",
       "      <th>p1_dog</th>\n",
       "      <th>p2</th>\n",
       "      <th>p2_conf</th>\n",
       "      <th>p2_dog</th>\n",
       "      <th>p3</th>\n",
       "      <th>p3_conf</th>\n",
       "      <th>p3_dog</th>\n",
       "    </tr>\n",
       "  </thead>\n",
       "  <tbody>\n",
       "    <tr>\n",
       "      <th>1845</th>\n",
       "      <td>838921590096166913</td>\n",
       "      <td>https://pbs.twimg.com/media/C6Ryuf7UoAAFX4a.jpg</td>\n",
       "      <td>1</td>\n",
       "      <td>Border_terrier</td>\n",
       "      <td>0.664538</td>\n",
       "      <td>True</td>\n",
       "      <td>Brabancon_griffon</td>\n",
       "      <td>0.170451</td>\n",
       "      <td>True</td>\n",
       "      <td>Yorkshire_terrier</td>\n",
       "      <td>0.087824</td>\n",
       "      <td>True</td>\n",
       "    </tr>\n",
       "    <tr>\n",
       "      <th>1016</th>\n",
       "      <td>709901256215666688</td>\n",
       "      <td>https://pbs.twimg.com/media/CdoTbL_XIAAitq2.jpg</td>\n",
       "      <td>2</td>\n",
       "      <td>bib</td>\n",
       "      <td>0.998814</td>\n",
       "      <td>False</td>\n",
       "      <td>handkerchief</td>\n",
       "      <td>0.000512</td>\n",
       "      <td>False</td>\n",
       "      <td>umbrella</td>\n",
       "      <td>0.000224</td>\n",
       "      <td>False</td>\n",
       "    </tr>\n",
       "    <tr>\n",
       "      <th>827</th>\n",
       "      <td>693486665285931008</td>\n",
       "      <td>https://pbs.twimg.com/ext_tw_video_thumb/69348...</td>\n",
       "      <td>1</td>\n",
       "      <td>sea_lion</td>\n",
       "      <td>0.519811</td>\n",
       "      <td>False</td>\n",
       "      <td>Siamese_cat</td>\n",
       "      <td>0.290971</td>\n",
       "      <td>False</td>\n",
       "      <td>black-footed_ferret</td>\n",
       "      <td>0.039967</td>\n",
       "      <td>False</td>\n",
       "    </tr>\n",
       "    <tr>\n",
       "      <th>199</th>\n",
       "      <td>669661792646373376</td>\n",
       "      <td>https://pbs.twimg.com/media/CUsd2TfWwAAmdjb.jpg</td>\n",
       "      <td>1</td>\n",
       "      <td>weasel</td>\n",
       "      <td>0.262802</td>\n",
       "      <td>False</td>\n",
       "      <td>Siamese_cat</td>\n",
       "      <td>0.148263</td>\n",
       "      <td>False</td>\n",
       "      <td>hamster</td>\n",
       "      <td>0.116374</td>\n",
       "      <td>False</td>\n",
       "    </tr>\n",
       "    <tr>\n",
       "      <th>79</th>\n",
       "      <td>667453023279554560</td>\n",
       "      <td>https://pbs.twimg.com/media/CUNE_OSUwAAdHhX.jpg</td>\n",
       "      <td>1</td>\n",
       "      <td>Labrador_retriever</td>\n",
       "      <td>0.825670</td>\n",
       "      <td>True</td>\n",
       "      <td>French_bulldog</td>\n",
       "      <td>0.056639</td>\n",
       "      <td>True</td>\n",
       "      <td>Staffordshire_bullterrier</td>\n",
       "      <td>0.054018</td>\n",
       "      <td>True</td>\n",
       "    </tr>\n",
       "    <tr>\n",
       "      <th>283</th>\n",
       "      <td>671138694582165504</td>\n",
       "      <td>https://pbs.twimg.com/media/CVBdFahXAAAIe5Y.jpg</td>\n",
       "      <td>1</td>\n",
       "      <td>Samoyed</td>\n",
       "      <td>0.587342</td>\n",
       "      <td>True</td>\n",
       "      <td>Great_Pyrenees</td>\n",
       "      <td>0.268952</td>\n",
       "      <td>True</td>\n",
       "      <td>Pekinese</td>\n",
       "      <td>0.090527</td>\n",
       "      <td>True</td>\n",
       "    </tr>\n",
       "    <tr>\n",
       "      <th>1469</th>\n",
       "      <td>779056095788752897</td>\n",
       "      <td>https://pbs.twimg.com/media/Cs_DYr1XEAA54Pu.jpg</td>\n",
       "      <td>1</td>\n",
       "      <td>Chihuahua</td>\n",
       "      <td>0.721188</td>\n",
       "      <td>True</td>\n",
       "      <td>toy_terrier</td>\n",
       "      <td>0.112943</td>\n",
       "      <td>True</td>\n",
       "      <td>kelpie</td>\n",
       "      <td>0.053365</td>\n",
       "      <td>True</td>\n",
       "    </tr>\n",
       "    <tr>\n",
       "      <th>2029</th>\n",
       "      <td>882762694511734784</td>\n",
       "      <td>https://pbs.twimg.com/media/DEAz_HHXsAA-p_z.jpg</td>\n",
       "      <td>1</td>\n",
       "      <td>Labrador_retriever</td>\n",
       "      <td>0.850050</td>\n",
       "      <td>True</td>\n",
       "      <td>Chesapeake_Bay_retriever</td>\n",
       "      <td>0.074257</td>\n",
       "      <td>True</td>\n",
       "      <td>flat-coated_retriever</td>\n",
       "      <td>0.015579</td>\n",
       "      <td>True</td>\n",
       "    </tr>\n",
       "    <tr>\n",
       "      <th>1783</th>\n",
       "      <td>829011960981237760</td>\n",
       "      <td>https://pbs.twimg.com/media/C4E99ygWcAAQpPs.jpg</td>\n",
       "      <td>2</td>\n",
       "      <td>boxer</td>\n",
       "      <td>0.312221</td>\n",
       "      <td>True</td>\n",
       "      <td>dalmatian</td>\n",
       "      <td>0.244040</td>\n",
       "      <td>True</td>\n",
       "      <td>conch</td>\n",
       "      <td>0.130273</td>\n",
       "      <td>False</td>\n",
       "    </tr>\n",
       "    <tr>\n",
       "      <th>992</th>\n",
       "      <td>708109389455101952</td>\n",
       "      <td>https://pbs.twimg.com/media/CdO1u9vWAAApj2V.jpg</td>\n",
       "      <td>1</td>\n",
       "      <td>Staffordshire_bullterrier</td>\n",
       "      <td>0.516106</td>\n",
       "      <td>True</td>\n",
       "      <td>American_Staffordshire_terrier</td>\n",
       "      <td>0.236075</td>\n",
       "      <td>True</td>\n",
       "      <td>kelpie</td>\n",
       "      <td>0.069750</td>\n",
       "      <td>True</td>\n",
       "    </tr>\n",
       "  </tbody>\n",
       "</table>\n",
       "</div>"
      ],
      "text/plain": [
       "                tweet_id                                            jpg_url  \\\n",
       "1845  838921590096166913    https://pbs.twimg.com/media/C6Ryuf7UoAAFX4a.jpg   \n",
       "1016  709901256215666688    https://pbs.twimg.com/media/CdoTbL_XIAAitq2.jpg   \n",
       "827   693486665285931008  https://pbs.twimg.com/ext_tw_video_thumb/69348...   \n",
       "199   669661792646373376    https://pbs.twimg.com/media/CUsd2TfWwAAmdjb.jpg   \n",
       "79    667453023279554560    https://pbs.twimg.com/media/CUNE_OSUwAAdHhX.jpg   \n",
       "283   671138694582165504    https://pbs.twimg.com/media/CVBdFahXAAAIe5Y.jpg   \n",
       "1469  779056095788752897    https://pbs.twimg.com/media/Cs_DYr1XEAA54Pu.jpg   \n",
       "2029  882762694511734784    https://pbs.twimg.com/media/DEAz_HHXsAA-p_z.jpg   \n",
       "1783  829011960981237760    https://pbs.twimg.com/media/C4E99ygWcAAQpPs.jpg   \n",
       "992   708109389455101952    https://pbs.twimg.com/media/CdO1u9vWAAApj2V.jpg   \n",
       "\n",
       "      img_num                         p1   p1_conf  p1_dog  \\\n",
       "1845        1             Border_terrier  0.664538    True   \n",
       "1016        2                        bib  0.998814   False   \n",
       "827         1                   sea_lion  0.519811   False   \n",
       "199         1                     weasel  0.262802   False   \n",
       "79          1         Labrador_retriever  0.825670    True   \n",
       "283         1                    Samoyed  0.587342    True   \n",
       "1469        1                  Chihuahua  0.721188    True   \n",
       "2029        1         Labrador_retriever  0.850050    True   \n",
       "1783        2                      boxer  0.312221    True   \n",
       "992         1  Staffordshire_bullterrier  0.516106    True   \n",
       "\n",
       "                                  p2   p2_conf  p2_dog  \\\n",
       "1845               Brabancon_griffon  0.170451    True   \n",
       "1016                    handkerchief  0.000512   False   \n",
       "827                      Siamese_cat  0.290971   False   \n",
       "199                      Siamese_cat  0.148263   False   \n",
       "79                    French_bulldog  0.056639    True   \n",
       "283                   Great_Pyrenees  0.268952    True   \n",
       "1469                     toy_terrier  0.112943    True   \n",
       "2029        Chesapeake_Bay_retriever  0.074257    True   \n",
       "1783                       dalmatian  0.244040    True   \n",
       "992   American_Staffordshire_terrier  0.236075    True   \n",
       "\n",
       "                             p3   p3_conf  p3_dog  \n",
       "1845          Yorkshire_terrier  0.087824    True  \n",
       "1016                   umbrella  0.000224   False  \n",
       "827         black-footed_ferret  0.039967   False  \n",
       "199                     hamster  0.116374   False  \n",
       "79    Staffordshire_bullterrier  0.054018    True  \n",
       "283                    Pekinese  0.090527    True  \n",
       "1469                     kelpie  0.053365    True  \n",
       "2029      flat-coated_retriever  0.015579    True  \n",
       "1783                      conch  0.130273   False  \n",
       "992                      kelpie  0.069750    True  "
      ]
     },
     "execution_count": 18,
     "metadata": {},
     "output_type": "execute_result"
    }
   ],
   "source": [
    "# DETERMINE IF TO KEEP\n",
    "image_predictions.sample(10)"
   ]
  },
  {
   "cell_type": "code",
   "execution_count": 19,
   "metadata": {},
   "outputs": [
    {
     "name": "stdout",
     "output_type": "stream",
     "text": [
      "<class 'pandas.core.frame.DataFrame'>\n",
      "RangeIndex: 2339 entries, 0 to 2338\n",
      "Data columns (total 32 columns):\n",
      "contributors                     0 non-null object\n",
      "coordinates                      0 non-null object\n",
      "created_at                       2339 non-null object\n",
      "display_text_range               2339 non-null object\n",
      "entities                         2339 non-null object\n",
      "extended_entities                2065 non-null object\n",
      "favorite_count                   2339 non-null int64\n",
      "favorited                        2339 non-null bool\n",
      "full_text                        2339 non-null object\n",
      "geo                              0 non-null object\n",
      "id                               2339 non-null int64\n",
      "id_str                           2339 non-null object\n",
      "in_reply_to_screen_name          77 non-null object\n",
      "in_reply_to_status_id            77 non-null float64\n",
      "in_reply_to_status_id_str        77 non-null object\n",
      "in_reply_to_user_id              77 non-null float64\n",
      "in_reply_to_user_id_str          77 non-null object\n",
      "is_quote_status                  2339 non-null bool\n",
      "lang                             2339 non-null object\n",
      "place                            1 non-null object\n",
      "possibly_sensitive               2203 non-null object\n",
      "possibly_sensitive_appealable    2203 non-null object\n",
      "quoted_status                    24 non-null object\n",
      "quoted_status_id                 26 non-null float64\n",
      "quoted_status_id_str             26 non-null object\n",
      "quoted_status_permalink          26 non-null object\n",
      "retweet_count                    2339 non-null int64\n",
      "retweeted                        2339 non-null bool\n",
      "retweeted_status                 167 non-null object\n",
      "source                           2339 non-null object\n",
      "truncated                        2339 non-null bool\n",
      "user                             2339 non-null object\n",
      "dtypes: bool(4), float64(3), int64(3), object(22)\n",
      "memory usage: 520.9+ KB\n"
     ]
    }
   ],
   "source": [
    "# Check column types and missing values in extended_data\n",
    "extended_data.info()"
   ]
  },
  {
   "cell_type": "code",
   "execution_count": 20,
   "metadata": {},
   "outputs": [
    {
     "data": {
      "text/html": [
       "<div>\n",
       "<style scoped>\n",
       "    .dataframe tbody tr th:only-of-type {\n",
       "        vertical-align: middle;\n",
       "    }\n",
       "\n",
       "    .dataframe tbody tr th {\n",
       "        vertical-align: top;\n",
       "    }\n",
       "\n",
       "    .dataframe thead th {\n",
       "        text-align: right;\n",
       "    }\n",
       "</style>\n",
       "<table border=\"1\" class=\"dataframe\">\n",
       "  <thead>\n",
       "    <tr style=\"text-align: right;\">\n",
       "      <th></th>\n",
       "      <th>contributors</th>\n",
       "      <th>coordinates</th>\n",
       "      <th>created_at</th>\n",
       "      <th>display_text_range</th>\n",
       "      <th>entities</th>\n",
       "      <th>extended_entities</th>\n",
       "      <th>favorite_count</th>\n",
       "      <th>favorited</th>\n",
       "      <th>full_text</th>\n",
       "      <th>geo</th>\n",
       "      <th>...</th>\n",
       "      <th>quoted_status</th>\n",
       "      <th>quoted_status_id</th>\n",
       "      <th>quoted_status_id_str</th>\n",
       "      <th>quoted_status_permalink</th>\n",
       "      <th>retweet_count</th>\n",
       "      <th>retweeted</th>\n",
       "      <th>retweeted_status</th>\n",
       "      <th>source</th>\n",
       "      <th>truncated</th>\n",
       "      <th>user</th>\n",
       "    </tr>\n",
       "  </thead>\n",
       "  <tbody>\n",
       "    <tr>\n",
       "      <th>0</th>\n",
       "      <td>None</td>\n",
       "      <td>None</td>\n",
       "      <td>Tue Aug 01 16:23:56 +0000 2017</td>\n",
       "      <td>[0, 85]</td>\n",
       "      <td>{'hashtags': [], 'symbols': [], 'user_mentions...</td>\n",
       "      <td>{'media': [{'id': 892420639486877696, 'id_str'...</td>\n",
       "      <td>37783</td>\n",
       "      <td>False</td>\n",
       "      <td>This is Phineas. He's a mystical boy. Only eve...</td>\n",
       "      <td>None</td>\n",
       "      <td>...</td>\n",
       "      <td>NaN</td>\n",
       "      <td>NaN</td>\n",
       "      <td>NaN</td>\n",
       "      <td>NaN</td>\n",
       "      <td>8233</td>\n",
       "      <td>False</td>\n",
       "      <td>NaN</td>\n",
       "      <td>&lt;a href=\"http://twitter.com/download/iphone\" r...</td>\n",
       "      <td>False</td>\n",
       "      <td>{'id': 4196983835, 'id_str': '4196983835', 'na...</td>\n",
       "    </tr>\n",
       "    <tr>\n",
       "      <th>1</th>\n",
       "      <td>None</td>\n",
       "      <td>None</td>\n",
       "      <td>Tue Aug 01 00:17:27 +0000 2017</td>\n",
       "      <td>[0, 138]</td>\n",
       "      <td>{'hashtags': [], 'symbols': [], 'user_mentions...</td>\n",
       "      <td>{'media': [{'id': 892177413194625024, 'id_str'...</td>\n",
       "      <td>32453</td>\n",
       "      <td>False</td>\n",
       "      <td>This is Tilly. She's just checking pup on you....</td>\n",
       "      <td>None</td>\n",
       "      <td>...</td>\n",
       "      <td>NaN</td>\n",
       "      <td>NaN</td>\n",
       "      <td>NaN</td>\n",
       "      <td>NaN</td>\n",
       "      <td>6084</td>\n",
       "      <td>False</td>\n",
       "      <td>NaN</td>\n",
       "      <td>&lt;a href=\"http://twitter.com/download/iphone\" r...</td>\n",
       "      <td>False</td>\n",
       "      <td>{'id': 4196983835, 'id_str': '4196983835', 'na...</td>\n",
       "    </tr>\n",
       "    <tr>\n",
       "      <th>2</th>\n",
       "      <td>None</td>\n",
       "      <td>None</td>\n",
       "      <td>Mon Jul 31 00:18:03 +0000 2017</td>\n",
       "      <td>[0, 121]</td>\n",
       "      <td>{'hashtags': [], 'symbols': [], 'user_mentions...</td>\n",
       "      <td>{'media': [{'id': 891815175371796480, 'id_str'...</td>\n",
       "      <td>24437</td>\n",
       "      <td>False</td>\n",
       "      <td>This is Archie. He is a rare Norwegian Pouncin...</td>\n",
       "      <td>None</td>\n",
       "      <td>...</td>\n",
       "      <td>NaN</td>\n",
       "      <td>NaN</td>\n",
       "      <td>NaN</td>\n",
       "      <td>NaN</td>\n",
       "      <td>4027</td>\n",
       "      <td>False</td>\n",
       "      <td>NaN</td>\n",
       "      <td>&lt;a href=\"http://twitter.com/download/iphone\" r...</td>\n",
       "      <td>False</td>\n",
       "      <td>{'id': 4196983835, 'id_str': '4196983835', 'na...</td>\n",
       "    </tr>\n",
       "    <tr>\n",
       "      <th>3</th>\n",
       "      <td>None</td>\n",
       "      <td>None</td>\n",
       "      <td>Sun Jul 30 15:58:51 +0000 2017</td>\n",
       "      <td>[0, 79]</td>\n",
       "      <td>{'hashtags': [], 'symbols': [], 'user_mentions...</td>\n",
       "      <td>{'media': [{'id': 891689552724799489, 'id_str'...</td>\n",
       "      <td>41113</td>\n",
       "      <td>False</td>\n",
       "      <td>This is Darla. She commenced a snooze mid meal...</td>\n",
       "      <td>None</td>\n",
       "      <td>...</td>\n",
       "      <td>NaN</td>\n",
       "      <td>NaN</td>\n",
       "      <td>NaN</td>\n",
       "      <td>NaN</td>\n",
       "      <td>8384</td>\n",
       "      <td>False</td>\n",
       "      <td>NaN</td>\n",
       "      <td>&lt;a href=\"http://twitter.com/download/iphone\" r...</td>\n",
       "      <td>False</td>\n",
       "      <td>{'id': 4196983835, 'id_str': '4196983835', 'na...</td>\n",
       "    </tr>\n",
       "    <tr>\n",
       "      <th>4</th>\n",
       "      <td>None</td>\n",
       "      <td>None</td>\n",
       "      <td>Sat Jul 29 16:00:24 +0000 2017</td>\n",
       "      <td>[0, 138]</td>\n",
       "      <td>{'hashtags': [{'text': 'BarkWeek', 'indices': ...</td>\n",
       "      <td>{'media': [{'id': 891327551943041024, 'id_str'...</td>\n",
       "      <td>39326</td>\n",
       "      <td>False</td>\n",
       "      <td>This is Franklin. He would like you to stop ca...</td>\n",
       "      <td>None</td>\n",
       "      <td>...</td>\n",
       "      <td>NaN</td>\n",
       "      <td>NaN</td>\n",
       "      <td>NaN</td>\n",
       "      <td>NaN</td>\n",
       "      <td>9089</td>\n",
       "      <td>False</td>\n",
       "      <td>NaN</td>\n",
       "      <td>&lt;a href=\"http://twitter.com/download/iphone\" r...</td>\n",
       "      <td>False</td>\n",
       "      <td>{'id': 4196983835, 'id_str': '4196983835', 'na...</td>\n",
       "    </tr>\n",
       "  </tbody>\n",
       "</table>\n",
       "<p>5 rows × 32 columns</p>\n",
       "</div>"
      ],
      "text/plain": [
       "  contributors coordinates                      created_at display_text_range  \\\n",
       "0         None        None  Tue Aug 01 16:23:56 +0000 2017            [0, 85]   \n",
       "1         None        None  Tue Aug 01 00:17:27 +0000 2017           [0, 138]   \n",
       "2         None        None  Mon Jul 31 00:18:03 +0000 2017           [0, 121]   \n",
       "3         None        None  Sun Jul 30 15:58:51 +0000 2017            [0, 79]   \n",
       "4         None        None  Sat Jul 29 16:00:24 +0000 2017           [0, 138]   \n",
       "\n",
       "                                            entities  \\\n",
       "0  {'hashtags': [], 'symbols': [], 'user_mentions...   \n",
       "1  {'hashtags': [], 'symbols': [], 'user_mentions...   \n",
       "2  {'hashtags': [], 'symbols': [], 'user_mentions...   \n",
       "3  {'hashtags': [], 'symbols': [], 'user_mentions...   \n",
       "4  {'hashtags': [{'text': 'BarkWeek', 'indices': ...   \n",
       "\n",
       "                                   extended_entities  favorite_count  \\\n",
       "0  {'media': [{'id': 892420639486877696, 'id_str'...           37783   \n",
       "1  {'media': [{'id': 892177413194625024, 'id_str'...           32453   \n",
       "2  {'media': [{'id': 891815175371796480, 'id_str'...           24437   \n",
       "3  {'media': [{'id': 891689552724799489, 'id_str'...           41113   \n",
       "4  {'media': [{'id': 891327551943041024, 'id_str'...           39326   \n",
       "\n",
       "   favorited                                          full_text   geo  ...  \\\n",
       "0      False  This is Phineas. He's a mystical boy. Only eve...  None  ...   \n",
       "1      False  This is Tilly. She's just checking pup on you....  None  ...   \n",
       "2      False  This is Archie. He is a rare Norwegian Pouncin...  None  ...   \n",
       "3      False  This is Darla. She commenced a snooze mid meal...  None  ...   \n",
       "4      False  This is Franklin. He would like you to stop ca...  None  ...   \n",
       "\n",
       "   quoted_status quoted_status_id quoted_status_id_str  \\\n",
       "0            NaN              NaN                  NaN   \n",
       "1            NaN              NaN                  NaN   \n",
       "2            NaN              NaN                  NaN   \n",
       "3            NaN              NaN                  NaN   \n",
       "4            NaN              NaN                  NaN   \n",
       "\n",
       "   quoted_status_permalink retweet_count  retweeted retweeted_status  \\\n",
       "0                      NaN          8233      False              NaN   \n",
       "1                      NaN          6084      False              NaN   \n",
       "2                      NaN          4027      False              NaN   \n",
       "3                      NaN          8384      False              NaN   \n",
       "4                      NaN          9089      False              NaN   \n",
       "\n",
       "                                              source truncated  \\\n",
       "0  <a href=\"http://twitter.com/download/iphone\" r...     False   \n",
       "1  <a href=\"http://twitter.com/download/iphone\" r...     False   \n",
       "2  <a href=\"http://twitter.com/download/iphone\" r...     False   \n",
       "3  <a href=\"http://twitter.com/download/iphone\" r...     False   \n",
       "4  <a href=\"http://twitter.com/download/iphone\" r...     False   \n",
       "\n",
       "                                                user  \n",
       "0  {'id': 4196983835, 'id_str': '4196983835', 'na...  \n",
       "1  {'id': 4196983835, 'id_str': '4196983835', 'na...  \n",
       "2  {'id': 4196983835, 'id_str': '4196983835', 'na...  \n",
       "3  {'id': 4196983835, 'id_str': '4196983835', 'na...  \n",
       "4  {'id': 4196983835, 'id_str': '4196983835', 'na...  \n",
       "\n",
       "[5 rows x 32 columns]"
      ]
     },
     "execution_count": 20,
     "metadata": {},
     "output_type": "execute_result"
    }
   ],
   "source": [
    "# DETERMINE IF TO KEEP\n",
    "extended_data.head(5)"
   ]
  },
  {
   "cell_type": "code",
   "execution_count": 21,
   "metadata": {},
   "outputs": [
    {
     "data": {
      "text/plain": [
       "167"
      ]
     },
     "execution_count": 21,
     "metadata": {},
     "output_type": "execute_result"
    }
   ],
   "source": [
    "# Find number of retweets in extended_data\n",
    "len(extended_data[~extended_data['retweeted_status'].isnull()])"
   ]
  },
  {
   "cell_type": "markdown",
   "metadata": {},
   "source": [
    "There are 167 tweets that are retweets and will need to be removed from the data."
   ]
  },
  {
   "cell_type": "code",
   "execution_count": 22,
   "metadata": {},
   "outputs": [
    {
     "data": {
      "text/plain": [
       "17    tweet_id\n",
       "dtype: object"
      ]
     },
     "execution_count": 22,
     "metadata": {},
     "output_type": "execute_result"
    }
   ],
   "source": [
    "# Check for duplication between twitter_archive_enhanced and image_predictions\n",
    "all_columns = pd.Series(list(twitter_archive_enhanced) + list(image_predictions))\n",
    "all_columns[all_columns.duplicated()]"
   ]
  },
  {
   "cell_type": "markdown",
   "metadata": {},
   "source": [
    "Only the tweet_id column was duplicated, which we can use as the link between to two tables."
   ]
  },
  {
   "cell_type": "markdown",
   "metadata": {},
   "source": [
    "#### Quality\n",
    "##### `twitter_archive_enhanced` table\n",
    "- data missing such as retweet_count and favorite_count\n",
    "- tweet_id is an int (should be str)\n",
    "- presence of retweets (retweeted_status_id is non-null)\n",
    "- rating_numerator and rating_denominator columns are ints (should be floats)\n",
    "- several incorrect ratings to be corrected\n",
    "\n",
    "##### `image_predictions` table\n",
    "- tweet_id is an int (should be str)\n",
    "- dog names in p1, p2, p3 columns inconsistent - upper and lowercase names, inclusion of underscores etc.\n",
    "- predictions include non-dog objects which should be removed prior to analysis\n",
    "\n",
    "##### `extended_data` table\n",
    "- presence of retweets (retweeted_status is non-null)"
   ]
  },
  {
   "cell_type": "markdown",
   "metadata": {},
   "source": [
    "#### Tidiness\n",
    "- `twitter_archive_enhanced` contains multiple columns for the dog stage which should be one column with the dog stage as the variable\n",
    "- `image_predictions` has multiple predictions per row"
   ]
  },
  {
   "cell_type": "markdown",
   "metadata": {},
   "source": [
    "## Clean"
   ]
  },
  {
   "cell_type": "code",
   "execution_count": 23,
   "metadata": {},
   "outputs": [],
   "source": [
    "# Make copies of each dataframe for cleaning\n",
    "archive_clean = twitter_archive_enhanced.copy()\n",
    "image_predictions_clean = image_predictions.copy()\n",
    "extended_data_clean = extended_data.copy()"
   ]
  },
  {
   "cell_type": "markdown",
   "metadata": {},
   "source": [
    "### Missing Data"
   ]
  },
  {
   "cell_type": "markdown",
   "metadata": {},
   "source": [
    "#### `extended_info`: favorite_count and retweet_count need to be joined to `twitter_archive_enhanced`."
   ]
  },
  {
   "cell_type": "markdown",
   "metadata": {},
   "source": [
    "##### Define\n",
    "- Drop the unwanted columns from `extended_info_clean` so just tweet_id, favorite_count and retweet_count remain\n",
    "- Merge `extended_info_clean` with `twitter_archive_enhanced_clean` on the tweet_id column, keeping only the rows (tweet_id) that are present in both dataframes"
   ]
  },
  {
   "cell_type": "markdown",
   "metadata": {},
   "source": [
    "##### Code"
   ]
  },
  {
   "cell_type": "code",
   "execution_count": null,
   "metadata": {},
   "outputs": [],
   "source": []
  },
  {
   "cell_type": "markdown",
   "metadata": {},
   "source": [
    "##### Test"
   ]
  },
  {
   "cell_type": "code",
   "execution_count": null,
   "metadata": {},
   "outputs": [],
   "source": []
  },
  {
   "cell_type": "code",
   "execution_count": null,
   "metadata": {},
   "outputs": [],
   "source": []
  },
  {
   "cell_type": "markdown",
   "metadata": {},
   "source": [
    "### Tidiness"
   ]
  },
  {
   "cell_type": "markdown",
   "metadata": {},
   "source": [
    "#### `twitter_archive_enhanced` contains multiple columns for the dog stage."
   ]
  },
  {
   "cell_type": "markdown",
   "metadata": {},
   "source": [
    "##### Define\n",
    "- Create a column in `twitter_archive_enhanced` called dog_stage that holds the concatenation of each value in the doggo, floofer, pupper and puppo columns.\n",
    "- Extract the correct dog stage from the dog_stage column and update\n",
    "- For entries with more than one correct dog, record these as 'mixed'"
   ]
  },
  {
   "cell_type": "markdown",
   "metadata": {},
   "source": [
    "##### Code"
   ]
  },
  {
   "cell_type": "code",
   "execution_count": null,
   "metadata": {},
   "outputs": [],
   "source": []
  },
  {
   "cell_type": "markdown",
   "metadata": {},
   "source": [
    "##### Test"
   ]
  },
  {
   "cell_type": "code",
   "execution_count": null,
   "metadata": {},
   "outputs": [],
   "source": []
  },
  {
   "cell_type": "code",
   "execution_count": null,
   "metadata": {},
   "outputs": [],
   "source": []
  },
  {
   "cell_type": "markdown",
   "metadata": {},
   "source": [
    "#### `image_predictions` has multiple predictions per row."
   ]
  },
  {
   "cell_type": "markdown",
   "metadata": {},
   "source": [
    "##### Define\n",
    "- Create separate dataframes from `image_predictions_clean` for p1, p2 and p3 data and keep only the columns for that probability (`p1_df`, `p2_df`, `p3_df`)\n",
    "- For each new dataframe, create a column that holds the p_order value (e.g. 1 for p1)\n",
    "- Rename p1 to p_type\n",
    "- Repeat for p2 and p3\n",
    "- Join `p2` to `p1`\n",
    "- Join `p3` to `p1`\n",
    "- Store `p1` as `image_predictions_clean`"
   ]
  },
  {
   "cell_type": "markdown",
   "metadata": {},
   "source": [
    "##### Code"
   ]
  },
  {
   "cell_type": "code",
   "execution_count": null,
   "metadata": {},
   "outputs": [],
   "source": []
  },
  {
   "cell_type": "markdown",
   "metadata": {},
   "source": [
    "##### Test"
   ]
  },
  {
   "cell_type": "code",
   "execution_count": null,
   "metadata": {},
   "outputs": [],
   "source": []
  },
  {
   "cell_type": "code",
   "execution_count": null,
   "metadata": {},
   "outputs": [],
   "source": []
  },
  {
   "cell_type": "markdown",
   "metadata": {},
   "source": [
    "### Quality"
   ]
  },
  {
   "cell_type": "markdown",
   "metadata": {},
   "source": [
    "#### `twitter_archive_enhanced`: tweet_id is an int"
   ]
  },
  {
   "cell_type": "markdown",
   "metadata": {},
   "source": [
    "##### Define\n",
    "- Convert tweet_id column to str using .astype()"
   ]
  },
  {
   "cell_type": "markdown",
   "metadata": {},
   "source": [
    "##### Code"
   ]
  },
  {
   "cell_type": "code",
   "execution_count": null,
   "metadata": {},
   "outputs": [],
   "source": []
  },
  {
   "cell_type": "markdown",
   "metadata": {},
   "source": [
    "##### Test"
   ]
  },
  {
   "cell_type": "code",
   "execution_count": null,
   "metadata": {},
   "outputs": [],
   "source": []
  },
  {
   "cell_type": "code",
   "execution_count": null,
   "metadata": {},
   "outputs": [],
   "source": []
  },
  {
   "cell_type": "markdown",
   "metadata": {},
   "source": [
    "#### `image_predictions`: tweet_id is an int"
   ]
  },
  {
   "cell_type": "markdown",
   "metadata": {},
   "source": [
    "##### Define\n",
    "- Convert tweet_id column to str using .astype()"
   ]
  },
  {
   "cell_type": "markdown",
   "metadata": {},
   "source": [
    "##### Code"
   ]
  },
  {
   "cell_type": "code",
   "execution_count": null,
   "metadata": {},
   "outputs": [],
   "source": []
  },
  {
   "cell_type": "markdown",
   "metadata": {},
   "source": [
    "##### Test"
   ]
  },
  {
   "cell_type": "code",
   "execution_count": null,
   "metadata": {},
   "outputs": [],
   "source": []
  },
  {
   "cell_type": "code",
   "execution_count": null,
   "metadata": {},
   "outputs": [],
   "source": []
  },
  {
   "cell_type": "markdown",
   "metadata": {},
   "source": [
    "#### `twitter_archive_enhanced`: presence of retweets"
   ]
  },
  {
   "cell_type": "markdown",
   "metadata": {},
   "source": [
    "##### Define\n",
    "- Remove rows where retweet_status_id != null"
   ]
  },
  {
   "cell_type": "markdown",
   "metadata": {},
   "source": [
    "##### Code"
   ]
  },
  {
   "cell_type": "code",
   "execution_count": null,
   "metadata": {},
   "outputs": [],
   "source": []
  },
  {
   "cell_type": "markdown",
   "metadata": {},
   "source": [
    "##### Test"
   ]
  },
  {
   "cell_type": "code",
   "execution_count": null,
   "metadata": {},
   "outputs": [],
   "source": []
  },
  {
   "cell_type": "code",
   "execution_count": null,
   "metadata": {},
   "outputs": [],
   "source": []
  },
  {
   "cell_type": "markdown",
   "metadata": {},
   "source": [
    "#### `extended_data`: presence of retweets"
   ]
  },
  {
   "cell_type": "markdown",
   "metadata": {},
   "source": [
    "##### Define\n",
    "- Will be removed from the merged twitter_archive_enhanced table when it is cleaned above."
   ]
  },
  {
   "cell_type": "markdown",
   "metadata": {},
   "source": [
    "##### Code"
   ]
  },
  {
   "cell_type": "code",
   "execution_count": null,
   "metadata": {},
   "outputs": [],
   "source": []
  },
  {
   "cell_type": "markdown",
   "metadata": {},
   "source": [
    "##### Test"
   ]
  },
  {
   "cell_type": "code",
   "execution_count": null,
   "metadata": {},
   "outputs": [],
   "source": []
  },
  {
   "cell_type": "code",
   "execution_count": null,
   "metadata": {},
   "outputs": [],
   "source": []
  },
  {
   "cell_type": "markdown",
   "metadata": {},
   "source": [
    "#### rating_numerator and rating_denominator columns are ints"
   ]
  },
  {
   "cell_type": "markdown",
   "metadata": {},
   "source": [
    "##### Define\n",
    "- Convert rating_numerator and rating_denominator columns to float using .astype()"
   ]
  },
  {
   "cell_type": "markdown",
   "metadata": {},
   "source": [
    "##### Code"
   ]
  },
  {
   "cell_type": "code",
   "execution_count": null,
   "metadata": {},
   "outputs": [],
   "source": []
  },
  {
   "cell_type": "markdown",
   "metadata": {},
   "source": [
    "##### Test"
   ]
  },
  {
   "cell_type": "code",
   "execution_count": null,
   "metadata": {},
   "outputs": [],
   "source": []
  },
  {
   "cell_type": "code",
   "execution_count": null,
   "metadata": {},
   "outputs": [],
   "source": []
  },
  {
   "cell_type": "markdown",
   "metadata": {},
   "source": [
    "#### Incorrect ratings (numerators and denominators)"
   ]
  },
  {
   "cell_type": "markdown",
   "metadata": {},
   "source": [
    "##### Define\n",
    "- Write a regex to find the numerator and denominator from the text column\n",
    "- Save as floats to numerator and denominator columns\n",
    "- Test against some of the known incorrect values to see if the algorithm improves on original algorithm"
   ]
  },
  {
   "cell_type": "markdown",
   "metadata": {},
   "source": [
    "##### Code"
   ]
  },
  {
   "cell_type": "code",
   "execution_count": null,
   "metadata": {},
   "outputs": [],
   "source": []
  },
  {
   "cell_type": "markdown",
   "metadata": {},
   "source": [
    "##### Test"
   ]
  },
  {
   "cell_type": "code",
   "execution_count": null,
   "metadata": {},
   "outputs": [],
   "source": []
  },
  {
   "cell_type": "code",
   "execution_count": null,
   "metadata": {},
   "outputs": [],
   "source": []
  },
  {
   "cell_type": "markdown",
   "metadata": {},
   "source": [
    "#### Inconsistent format for dog names in p columns of `image_predictions`."
   ]
  },
  {
   "cell_type": "markdown",
   "metadata": {},
   "source": [
    "##### Define\n",
    "- Replace '_' with ' ' in p_type column of `image_predictions_clean`\n",
    "- Capitalise each word in p_type column of `image_predictions_clean`"
   ]
  },
  {
   "cell_type": "markdown",
   "metadata": {},
   "source": [
    "##### Code"
   ]
  },
  {
   "cell_type": "code",
   "execution_count": null,
   "metadata": {},
   "outputs": [],
   "source": []
  },
  {
   "cell_type": "markdown",
   "metadata": {},
   "source": [
    "##### Test"
   ]
  },
  {
   "cell_type": "code",
   "execution_count": null,
   "metadata": {},
   "outputs": [],
   "source": []
  },
  {
   "cell_type": "code",
   "execution_count": null,
   "metadata": {},
   "outputs": [],
   "source": []
  },
  {
   "cell_type": "markdown",
   "metadata": {},
   "source": [
    "#### Predictions include non-dog objects in `image_predictions`."
   ]
  },
  {
   "cell_type": "markdown",
   "metadata": {},
   "source": [
    "##### Define\n",
    "- Drop rows where p_dog == False in `image_predictions_clean`"
   ]
  },
  {
   "cell_type": "markdown",
   "metadata": {},
   "source": [
    "##### Code"
   ]
  },
  {
   "cell_type": "code",
   "execution_count": null,
   "metadata": {},
   "outputs": [],
   "source": []
  },
  {
   "cell_type": "markdown",
   "metadata": {},
   "source": [
    "##### Test"
   ]
  },
  {
   "cell_type": "code",
   "execution_count": null,
   "metadata": {},
   "outputs": [],
   "source": []
  },
  {
   "cell_type": "code",
   "execution_count": null,
   "metadata": {},
   "outputs": [],
   "source": []
  },
  {
   "cell_type": "markdown",
   "metadata": {},
   "source": [
    "## Storage"
   ]
  },
  {
   "cell_type": "markdown",
   "metadata": {},
   "source": [
    "(store each table as a csv file with main file called tiwtter_archive_master.csv)"
   ]
  },
  {
   "cell_type": "code",
   "execution_count": null,
   "metadata": {},
   "outputs": [],
   "source": []
  },
  {
   "cell_type": "markdown",
   "metadata": {},
   "source": [
    "## Analysis"
   ]
  },
  {
   "cell_type": "markdown",
   "metadata": {},
   "source": [
    "(make at least 3 insights)"
   ]
  }
 ],
 "metadata": {
  "kernelspec": {
   "display_name": "Python 3",
   "language": "python",
   "name": "python3"
  },
  "language_info": {
   "codemirror_mode": {
    "name": "ipython",
    "version": 3
   },
   "file_extension": ".py",
   "mimetype": "text/x-python",
   "name": "python",
   "nbconvert_exporter": "python",
   "pygments_lexer": "ipython3",
   "version": "3.6.8"
  }
 },
 "nbformat": 4,
 "nbformat_minor": 2
}
